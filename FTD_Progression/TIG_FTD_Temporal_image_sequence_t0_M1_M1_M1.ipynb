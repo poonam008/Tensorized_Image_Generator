{
 "cells": [
  {
   "cell_type": "code",
   "execution_count": 1,
   "metadata": {
    "id": "LDp-m__TEfAs"
   },
   "outputs": [
    {
     "name": "stderr",
     "output_type": "stream",
     "text": [
      "2024-08-19 10:06:14.782187: I tensorflow/core/platform/cpu_feature_guard.cc:193] This TensorFlow binary is optimized with oneAPI Deep Neural Network Library (oneDNN) to use the following CPU instructions in performance-critical operations:  AVX2 AVX512F FMA\n",
      "To enable them in other operations, rebuild TensorFlow with the appropriate compiler flags.\n",
      "2024-08-19 10:06:14.922051: W tensorflow/compiler/xla/stream_executor/platform/default/dso_loader.cc:64] Could not load dynamic library 'libcudart.so.11.0'; dlerror: libcudart.so.11.0: cannot open shared object file: No such file or directory\n",
      "2024-08-19 10:06:14.922080: I tensorflow/compiler/xla/stream_executor/cuda/cudart_stub.cc:29] Ignore above cudart dlerror if you do not have a GPU set up on your machine.\n",
      "2024-08-19 10:06:15.590607: W tensorflow/compiler/xla/stream_executor/platform/default/dso_loader.cc:64] Could not load dynamic library 'libnvinfer.so.7'; dlerror: libnvinfer.so.7: cannot open shared object file: No such file or directory\n",
      "2024-08-19 10:06:15.590681: W tensorflow/compiler/xla/stream_executor/platform/default/dso_loader.cc:64] Could not load dynamic library 'libnvinfer_plugin.so.7'; dlerror: libnvinfer_plugin.so.7: cannot open shared object file: No such file or directory\n",
      "2024-08-19 10:06:15.590690: W tensorflow/compiler/tf2tensorrt/utils/py_utils.cc:38] TF-TRT Warning: Cannot dlopen some TensorRT libraries. If you would like to use Nvidia GPU with TensorRT, please make sure the missing libraries mentioned above are installed properly.\n"
     ]
    }
   ],
   "source": [
    "import os\n",
    "import numpy as np\n",
    "import pandas as pd\n",
    "import random\n",
    "import tensorflow as tf"
   ]
  },
  {
   "cell_type": "code",
   "execution_count": 2,
   "metadata": {
    "id": "y1zYaVzSEbmO"
   },
   "outputs": [],
   "source": [
    "seed_value = 21\n",
    "np.random.seed(seed_value)\n",
    "random.seed(seed_value)\n",
    "tf.random.set_seed(seed_value)"
   ]
  },
  {
   "cell_type": "code",
   "execution_count": 3,
   "metadata": {
    "id": "PErfwgV42om0"
   },
   "outputs": [],
   "source": [
    "import os\n",
    "import numpy as np\n",
    "import pandas as pd"
   ]
  },
  {
   "cell_type": "code",
   "execution_count": 4,
   "metadata": {
    "id": "5uwMKtNs30J4"
   },
   "outputs": [],
   "source": [
    "os.makedirs(\"Tig_ftd_time_series_data_txt\", exist_ok=True)"
   ]
  },
  {
   "cell_type": "code",
   "execution_count": 5,
   "metadata": {
    "id": "vclXjmJF2xKK"
   },
   "outputs": [],
   "source": [
    "files= [file1 for file1 in os.listdir(\"Test2_Version2/ftd_rep1_v2_txt_version2\") if file1.endswith('.txt')]"
   ]
  },
  {
   "cell_type": "code",
   "execution_count": 6,
   "metadata": {
    "colab": {
     "base_uri": "https://localhost:8080/"
    },
    "id": "v-_X9blT32P9",
    "outputId": "7da97c83-7846-439c-d6a5-2f0f8c3191eb"
   },
   "outputs": [
    {
     "data": {
      "text/plain": [
       "1148"
      ]
     },
     "execution_count": 6,
     "metadata": {},
     "output_type": "execute_result"
    }
   ],
   "source": [
    "len(files)"
   ]
  },
  {
   "cell_type": "markdown",
   "metadata": {
    "id": "gr5BsROU_duh"
   },
   "source": [
    "## Now we need to build a model - M1 (LSTM, GRUs, Simple-Rnn) Image"
   ]
  },
  {
   "cell_type": "code",
   "execution_count": 10,
   "metadata": {
    "id": "6rkgTpIuibEL"
   },
   "outputs": [],
   "source": [
    "# X_train=X_train/255.0\n",
    "# y_train=y_train/255.0\n",
    "# X_test=X_test/255.0\n",
    "# y_test=y_test/255.0"
   ]
  },
  {
   "cell_type": "code",
   "execution_count": 11,
   "metadata": {
    "id": "RduNXkQ8kKIY"
   },
   "outputs": [],
   "source": [
    "import joblib"
   ]
  },
  {
   "cell_type": "code",
   "execution_count": 12,
   "metadata": {
    "id": "yb2DptxqkKwO"
   },
   "outputs": [],
   "source": [
    "# joblib.dump(model,\"drive/MyDrive/S_Only_LSTM_Model_M1.pkl\")"
   ]
  },
  {
   "cell_type": "code",
   "execution_count": 13,
   "metadata": {
    "id": "f36nd4kokM2r"
   },
   "outputs": [],
   "source": [
    "# joblib.dump(model1,\"drive/MyDrive/S_Only_LSTM_Model1_M1.pkl\")"
   ]
  },
  {
   "cell_type": "code",
   "execution_count": 14,
   "metadata": {
    "id": "OLRC_al2kQbS"
   },
   "outputs": [],
   "source": [
    "# joblib.dump(model2,\"drive/MyDrive/S_Only_LSTM_Model2_M1.pkl\")"
   ]
  },
  {
   "cell_type": "code",
   "execution_count": 15,
   "metadata": {
    "id": "E3FsQq4YRUs8"
   },
   "outputs": [],
   "source": [
    "import pandas as pd\n",
    "df=pd.read_excel(\"ftd_temporal_processed.xlsx\")"
   ]
  },
  {
   "cell_type": "code",
   "execution_count": 16,
   "metadata": {
    "colab": {
     "base_uri": "https://localhost:8080/",
     "height": 412
    },
    "id": "tVqqliiJRUqL",
    "outputId": "a39fed1e-4188-4589-a8fc-6dc800103183"
   },
   "outputs": [
    {
     "data": {
      "text/html": [
       "<div>\n",
       "<style scoped>\n",
       "    .dataframe tbody tr th:only-of-type {\n",
       "        vertical-align: middle;\n",
       "    }\n",
       "\n",
       "    .dataframe tbody tr th {\n",
       "        vertical-align: top;\n",
       "    }\n",
       "\n",
       "    .dataframe thead th {\n",
       "        text-align: right;\n",
       "    }\n",
       "</style>\n",
       "<table border=\"1\" class=\"dataframe\">\n",
       "  <thead>\n",
       "    <tr style=\"text-align: right;\">\n",
       "      <th></th>\n",
       "      <th>ID</th>\n",
       "      <th>EDUCATION</th>\n",
       "      <th>CDR_LANG</th>\n",
       "      <th>CDR_BEHAV</th>\n",
       "      <th>CDR_TOT</th>\n",
       "      <th>CDR_BOX_SCORE</th>\n",
       "      <th>MMSE_TOT</th>\n",
       "      <th>TRCOTOT</th>\n",
       "      <th>CORR10</th>\n",
       "      <th>INTR10</th>\n",
       "      <th>...</th>\n",
       "      <th>NPI_DISN</th>\n",
       "      <th>NPI_IRR</th>\n",
       "      <th>NPI_MOT</th>\n",
       "      <th>NPI_NITE</th>\n",
       "      <th>NPI_APP</th>\n",
       "      <th>FAQ_TAXES</th>\n",
       "      <th>FAQ_MEALPREP</th>\n",
       "      <th>FAQ_EVENTS</th>\n",
       "      <th>FAQ_PAYATTN</th>\n",
       "      <th>FAQ_REMDATES</th>\n",
       "    </tr>\n",
       "  </thead>\n",
       "  <tbody>\n",
       "    <tr>\n",
       "      <th>0</th>\n",
       "      <td>subject_1_timestamp_0</td>\n",
       "      <td>0.066667</td>\n",
       "      <td>0.000000</td>\n",
       "      <td>0.000000</td>\n",
       "      <td>0.000000</td>\n",
       "      <td>0.00000</td>\n",
       "      <td>1.000000</td>\n",
       "      <td>0.000000</td>\n",
       "      <td>0.000000</td>\n",
       "      <td>0.000000</td>\n",
       "      <td>...</td>\n",
       "      <td>0</td>\n",
       "      <td>0</td>\n",
       "      <td>0</td>\n",
       "      <td>0.000000</td>\n",
       "      <td>0</td>\n",
       "      <td>0.000</td>\n",
       "      <td>0.000</td>\n",
       "      <td>0.000</td>\n",
       "      <td>0.000000</td>\n",
       "      <td>0.000000</td>\n",
       "    </tr>\n",
       "    <tr>\n",
       "      <th>1</th>\n",
       "      <td>subject_1_timestamp_1</td>\n",
       "      <td>0.066667</td>\n",
       "      <td>0.000000</td>\n",
       "      <td>0.000000</td>\n",
       "      <td>0.000000</td>\n",
       "      <td>0.00000</td>\n",
       "      <td>1.000000</td>\n",
       "      <td>0.861111</td>\n",
       "      <td>0.777778</td>\n",
       "      <td>0.000000</td>\n",
       "      <td>...</td>\n",
       "      <td>0</td>\n",
       "      <td>0</td>\n",
       "      <td>0</td>\n",
       "      <td>0.000000</td>\n",
       "      <td>0</td>\n",
       "      <td>0.000</td>\n",
       "      <td>0.000</td>\n",
       "      <td>0.000</td>\n",
       "      <td>0.000000</td>\n",
       "      <td>0.000000</td>\n",
       "    </tr>\n",
       "    <tr>\n",
       "      <th>2</th>\n",
       "      <td>subject_1_timestamp_2</td>\n",
       "      <td>0.066667</td>\n",
       "      <td>0.000000</td>\n",
       "      <td>0.000000</td>\n",
       "      <td>0.000000</td>\n",
       "      <td>0.00000</td>\n",
       "      <td>1.000000</td>\n",
       "      <td>0.777778</td>\n",
       "      <td>0.666667</td>\n",
       "      <td>0.111111</td>\n",
       "      <td>...</td>\n",
       "      <td>0</td>\n",
       "      <td>0</td>\n",
       "      <td>0</td>\n",
       "      <td>0.000000</td>\n",
       "      <td>0</td>\n",
       "      <td>0.000</td>\n",
       "      <td>0.000</td>\n",
       "      <td>0.000</td>\n",
       "      <td>0.000000</td>\n",
       "      <td>0.000000</td>\n",
       "    </tr>\n",
       "    <tr>\n",
       "      <th>3</th>\n",
       "      <td>subject_1_timestamp_3</td>\n",
       "      <td>0.066667</td>\n",
       "      <td>0.000000</td>\n",
       "      <td>0.000000</td>\n",
       "      <td>0.000000</td>\n",
       "      <td>0.00000</td>\n",
       "      <td>1.000000</td>\n",
       "      <td>0.861111</td>\n",
       "      <td>1.000000</td>\n",
       "      <td>0.000000</td>\n",
       "      <td>...</td>\n",
       "      <td>0</td>\n",
       "      <td>0</td>\n",
       "      <td>0</td>\n",
       "      <td>0.000000</td>\n",
       "      <td>0</td>\n",
       "      <td>0.000</td>\n",
       "      <td>0.000</td>\n",
       "      <td>0.000</td>\n",
       "      <td>0.000000</td>\n",
       "      <td>0.000000</td>\n",
       "    </tr>\n",
       "    <tr>\n",
       "      <th>4</th>\n",
       "      <td>subject_2_timestamp_0</td>\n",
       "      <td>0.044444</td>\n",
       "      <td>0.166667</td>\n",
       "      <td>0.666667</td>\n",
       "      <td>0.333333</td>\n",
       "      <td>0.40625</td>\n",
       "      <td>0.966667</td>\n",
       "      <td>0.000000</td>\n",
       "      <td>0.000000</td>\n",
       "      <td>0.000000</td>\n",
       "      <td>...</td>\n",
       "      <td>1</td>\n",
       "      <td>0</td>\n",
       "      <td>1</td>\n",
       "      <td>0.000000</td>\n",
       "      <td>1</td>\n",
       "      <td>0.375</td>\n",
       "      <td>0.375</td>\n",
       "      <td>0.125</td>\n",
       "      <td>0.111111</td>\n",
       "      <td>0.333333</td>\n",
       "    </tr>\n",
       "    <tr>\n",
       "      <th>5</th>\n",
       "      <td>subject_2_timestamp_1</td>\n",
       "      <td>0.044444</td>\n",
       "      <td>0.166667</td>\n",
       "      <td>0.666667</td>\n",
       "      <td>0.333333</td>\n",
       "      <td>0.40625</td>\n",
       "      <td>0.966667</td>\n",
       "      <td>0.000000</td>\n",
       "      <td>0.000000</td>\n",
       "      <td>0.000000</td>\n",
       "      <td>...</td>\n",
       "      <td>1</td>\n",
       "      <td>0</td>\n",
       "      <td>1</td>\n",
       "      <td>0.000000</td>\n",
       "      <td>1</td>\n",
       "      <td>0.375</td>\n",
       "      <td>0.375</td>\n",
       "      <td>0.125</td>\n",
       "      <td>0.111111</td>\n",
       "      <td>0.333333</td>\n",
       "    </tr>\n",
       "    <tr>\n",
       "      <th>6</th>\n",
       "      <td>subject_2_timestamp_2</td>\n",
       "      <td>0.044444</td>\n",
       "      <td>0.666667</td>\n",
       "      <td>0.666667</td>\n",
       "      <td>0.666667</td>\n",
       "      <td>0.68750</td>\n",
       "      <td>0.733333</td>\n",
       "      <td>0.666667</td>\n",
       "      <td>0.000000</td>\n",
       "      <td>0.000000</td>\n",
       "      <td>...</td>\n",
       "      <td>1</td>\n",
       "      <td>0</td>\n",
       "      <td>1</td>\n",
       "      <td>0.111111</td>\n",
       "      <td>0</td>\n",
       "      <td>0.375</td>\n",
       "      <td>0.375</td>\n",
       "      <td>0.375</td>\n",
       "      <td>0.333333</td>\n",
       "      <td>1.000000</td>\n",
       "    </tr>\n",
       "    <tr>\n",
       "      <th>7</th>\n",
       "      <td>subject_2_timestamp_3</td>\n",
       "      <td>0.044444</td>\n",
       "      <td>0.666667</td>\n",
       "      <td>0.333333</td>\n",
       "      <td>0.666667</td>\n",
       "      <td>0.75000</td>\n",
       "      <td>0.733333</td>\n",
       "      <td>0.666667</td>\n",
       "      <td>0.000000</td>\n",
       "      <td>0.000000</td>\n",
       "      <td>...</td>\n",
       "      <td>1</td>\n",
       "      <td>0</td>\n",
       "      <td>1</td>\n",
       "      <td>0.111111</td>\n",
       "      <td>0</td>\n",
       "      <td>0.375</td>\n",
       "      <td>0.375</td>\n",
       "      <td>0.375</td>\n",
       "      <td>0.333333</td>\n",
       "      <td>1.000000</td>\n",
       "    </tr>\n",
       "    <tr>\n",
       "      <th>8</th>\n",
       "      <td>subject_3_timestamp_0</td>\n",
       "      <td>0.033333</td>\n",
       "      <td>0.666667</td>\n",
       "      <td>0.666667</td>\n",
       "      <td>0.166667</td>\n",
       "      <td>0.31250</td>\n",
       "      <td>0.966667</td>\n",
       "      <td>0.777778</td>\n",
       "      <td>0.555556</td>\n",
       "      <td>0.000000</td>\n",
       "      <td>...</td>\n",
       "      <td>1</td>\n",
       "      <td>1</td>\n",
       "      <td>0</td>\n",
       "      <td>0.000000</td>\n",
       "      <td>0</td>\n",
       "      <td>0.250</td>\n",
       "      <td>0.000</td>\n",
       "      <td>0.125</td>\n",
       "      <td>0.111111</td>\n",
       "      <td>0.666667</td>\n",
       "    </tr>\n",
       "    <tr>\n",
       "      <th>9</th>\n",
       "      <td>subject_3_timestamp_1</td>\n",
       "      <td>0.033333</td>\n",
       "      <td>0.333333</td>\n",
       "      <td>1.000000</td>\n",
       "      <td>0.333333</td>\n",
       "      <td>0.46875</td>\n",
       "      <td>1.000000</td>\n",
       "      <td>0.583333</td>\n",
       "      <td>0.000000</td>\n",
       "      <td>0.000000</td>\n",
       "      <td>...</td>\n",
       "      <td>1</td>\n",
       "      <td>1</td>\n",
       "      <td>1</td>\n",
       "      <td>0.000000</td>\n",
       "      <td>1</td>\n",
       "      <td>0.375</td>\n",
       "      <td>0.250</td>\n",
       "      <td>0.125</td>\n",
       "      <td>0.222222</td>\n",
       "      <td>1.000000</td>\n",
       "    </tr>\n",
       "  </tbody>\n",
       "</table>\n",
       "<p>10 rows × 37 columns</p>\n",
       "</div>"
      ],
      "text/plain": [
       "                      ID  EDUCATION  CDR_LANG  CDR_BEHAV   CDR_TOT  \\\n",
       "0  subject_1_timestamp_0   0.066667  0.000000   0.000000  0.000000   \n",
       "1  subject_1_timestamp_1   0.066667  0.000000   0.000000  0.000000   \n",
       "2  subject_1_timestamp_2   0.066667  0.000000   0.000000  0.000000   \n",
       "3  subject_1_timestamp_3   0.066667  0.000000   0.000000  0.000000   \n",
       "4  subject_2_timestamp_0   0.044444  0.166667   0.666667  0.333333   \n",
       "5  subject_2_timestamp_1   0.044444  0.166667   0.666667  0.333333   \n",
       "6  subject_2_timestamp_2   0.044444  0.666667   0.666667  0.666667   \n",
       "7  subject_2_timestamp_3   0.044444  0.666667   0.333333  0.666667   \n",
       "8  subject_3_timestamp_0   0.033333  0.666667   0.666667  0.166667   \n",
       "9  subject_3_timestamp_1   0.033333  0.333333   1.000000  0.333333   \n",
       "\n",
       "   CDR_BOX_SCORE  MMSE_TOT   TRCOTOT    CORR10    INTR10  ...  NPI_DISN  \\\n",
       "0        0.00000  1.000000  0.000000  0.000000  0.000000  ...         0   \n",
       "1        0.00000  1.000000  0.861111  0.777778  0.000000  ...         0   \n",
       "2        0.00000  1.000000  0.777778  0.666667  0.111111  ...         0   \n",
       "3        0.00000  1.000000  0.861111  1.000000  0.000000  ...         0   \n",
       "4        0.40625  0.966667  0.000000  0.000000  0.000000  ...         1   \n",
       "5        0.40625  0.966667  0.000000  0.000000  0.000000  ...         1   \n",
       "6        0.68750  0.733333  0.666667  0.000000  0.000000  ...         1   \n",
       "7        0.75000  0.733333  0.666667  0.000000  0.000000  ...         1   \n",
       "8        0.31250  0.966667  0.777778  0.555556  0.000000  ...         1   \n",
       "9        0.46875  1.000000  0.583333  0.000000  0.000000  ...         1   \n",
       "\n",
       "   NPI_IRR  NPI_MOT  NPI_NITE  NPI_APP  FAQ_TAXES  FAQ_MEALPREP  FAQ_EVENTS  \\\n",
       "0        0        0  0.000000        0      0.000         0.000       0.000   \n",
       "1        0        0  0.000000        0      0.000         0.000       0.000   \n",
       "2        0        0  0.000000        0      0.000         0.000       0.000   \n",
       "3        0        0  0.000000        0      0.000         0.000       0.000   \n",
       "4        0        1  0.000000        1      0.375         0.375       0.125   \n",
       "5        0        1  0.000000        1      0.375         0.375       0.125   \n",
       "6        0        1  0.111111        0      0.375         0.375       0.375   \n",
       "7        0        1  0.111111        0      0.375         0.375       0.375   \n",
       "8        1        0  0.000000        0      0.250         0.000       0.125   \n",
       "9        1        1  0.000000        1      0.375         0.250       0.125   \n",
       "\n",
       "   FAQ_PAYATTN  FAQ_REMDATES  \n",
       "0     0.000000      0.000000  \n",
       "1     0.000000      0.000000  \n",
       "2     0.000000      0.000000  \n",
       "3     0.000000      0.000000  \n",
       "4     0.111111      0.333333  \n",
       "5     0.111111      0.333333  \n",
       "6     0.333333      1.000000  \n",
       "7     0.333333      1.000000  \n",
       "8     0.111111      0.666667  \n",
       "9     0.222222      1.000000  \n",
       "\n",
       "[10 rows x 37 columns]"
      ]
     },
     "execution_count": 16,
     "metadata": {},
     "output_type": "execute_result"
    }
   ],
   "source": [
    "df.head(10)"
   ]
  },
  {
   "cell_type": "code",
   "execution_count": 17,
   "metadata": {
    "colab": {
     "base_uri": "https://localhost:8080/"
    },
    "id": "XizKYOx6V-Fj",
    "outputId": "fdbd7c1f-8a84-4f94-944f-3540d1a6ea2a"
   },
   "outputs": [
    {
     "data": {
      "text/plain": [
       "(1148, 37)"
      ]
     },
     "execution_count": 17,
     "metadata": {},
     "output_type": "execute_result"
    }
   ],
   "source": [
    "df.shape"
   ]
  },
  {
   "cell_type": "code",
   "execution_count": 18,
   "metadata": {
    "colab": {
     "base_uri": "https://localhost:8080/"
    },
    "id": "FzF21_ciRUm6",
    "outputId": "8ac58411-3321-48ea-80a5-b10d3ffe0158"
   },
   "outputs": [],
   "source": [
    "X=[]\n",
    "y=[]\n",
    "for i in range(287):\n",
    "  y1=[]\n",
    "  y1.append(i*4+0)\n",
    "  y1.append(i*4+1)\n",
    "  y1.append(i*4+2)\n",
    "  y1.append(i*4+3)\n",
    "#   print(y1)\n",
    "  for j in range(len(y1)-1):\n",
    "    x1=df.iloc[y1[j]]\n",
    "    # print(x1)\n",
    "    # print(x1.index)\n",
    "    ind1=x1['ID']\n",
    "#     print(ind1)\n",
    "    y2=df.iloc[y1[j+1]]\n",
    "    ind2=y2['ID']\n",
    "    X.append(ind1)\n",
    "    y.append(ind2)\n",
    "\n",
    "\n"
   ]
  },
  {
   "cell_type": "code",
   "execution_count": 19,
   "metadata": {
    "colab": {
     "base_uri": "https://localhost:8080/"
    },
    "id": "F-9v7awYdgSk",
    "outputId": "9fd611a2-0129-4be3-90f4-2b93e3bf3027"
   },
   "outputs": [
    {
     "data": {
      "text/plain": [
       "861"
      ]
     },
     "execution_count": 19,
     "metadata": {},
     "output_type": "execute_result"
    }
   ],
   "source": [
    "len(X)"
   ]
  },
  {
   "cell_type": "code",
   "execution_count": 20,
   "metadata": {
    "colab": {
     "base_uri": "https://localhost:8080/"
    },
    "id": "LU1gRIdRRUj9",
    "outputId": "2d4daa9a-cd82-4706-c1cd-193e33506e08"
   },
   "outputs": [
    {
     "data": {
      "text/plain": [
       "861"
      ]
     },
     "execution_count": 20,
     "metadata": {},
     "output_type": "execute_result"
    }
   ],
   "source": [
    "len(y)"
   ]
  },
  {
   "cell_type": "code",
   "execution_count": 21,
   "metadata": {
    "id": "zVrVldam9MNa"
   },
   "outputs": [],
   "source": [
    "l1=[1,2,3,4,5,6,7,8,9,10]"
   ]
  },
  {
   "cell_type": "code",
   "execution_count": 22,
   "metadata": {
    "colab": {
     "base_uri": "https://localhost:8080/"
    },
    "id": "ye5vLHTMRUgo",
    "outputId": "aa27e9fb-8614-4a37-91c1-efb1ee25e99c"
   },
   "outputs": [],
   "source": [
    "img_x=[]\n",
    "for i in X:\n",
    "  s=\"Test2_Version2/ftd_rep1_v2_txt_version2/_\"+i+\"_data.txt\"\n",
    "  img=np.loadtxt(s)\n",
    "#   print(s)\n",
    "  img_x.append(img)\n",
    "\n",
    "\n",
    "\n"
   ]
  },
  {
   "cell_type": "code",
   "execution_count": 23,
   "metadata": {
    "colab": {
     "base_uri": "https://localhost:8080/"
    },
    "id": "g-K_yvd9RUUF",
    "outputId": "a13965c1-aeba-4000-a90f-0b7cacbcbc85"
   },
   "outputs": [],
   "source": [
    "\n",
    "img_y=[]\n",
    "for i in y:\n",
    "  s=\"Test2_Version2/ftd_rep1_v2_txt_version2/_\"+i+\"_data.txt\"\n",
    "  img=np.loadtxt(s)\n",
    "#   print(s)\n",
    "  img_y.append(img)\n",
    "\n",
    "\n",
    "\n"
   ]
  },
  {
   "cell_type": "code",
   "execution_count": 24,
   "metadata": {
    "id": "Zm8rZ-lObCpY"
   },
   "outputs": [],
   "source": [
    "X_train=[]\n",
    "y_train=[]\n",
    "X_test=[]\n",
    "y_test=[]"
   ]
  },
  {
   "cell_type": "code",
   "execution_count": 25,
   "metadata": {
    "id": "JdSBNlEYbOm_"
   },
   "outputs": [],
   "source": [
    "count=0\n",
    "for i in img_x:\n",
    "  if(count<687):\n",
    "    X_train.append(i)\n",
    "  else:\n",
    "    X_test.append(i)\n",
    "  count+=1\n"
   ]
  },
  {
   "cell_type": "code",
   "execution_count": 26,
   "metadata": {
    "id": "drVMznpWbtBG"
   },
   "outputs": [],
   "source": [
    "count=0\n",
    "for i in img_y:\n",
    "  if(count<687):\n",
    "    y_train.append(i)\n",
    "  else:\n",
    "    y_test.append(i)\n",
    "  count+=1\n"
   ]
  },
  {
   "cell_type": "code",
   "execution_count": 27,
   "metadata": {
    "colab": {
     "base_uri": "https://localhost:8080/"
    },
    "id": "SuE1sTCobxM9",
    "outputId": "c513c0f2-e1f2-43e4-b275-3cb102550754"
   },
   "outputs": [
    {
     "data": {
      "text/plain": [
       "174"
      ]
     },
     "execution_count": 27,
     "metadata": {},
     "output_type": "execute_result"
    }
   ],
   "source": [
    "len(X_test)"
   ]
  },
  {
   "cell_type": "code",
   "execution_count": 28,
   "metadata": {
    "id": "0ANz4oxTANcZ"
   },
   "outputs": [],
   "source": [
    "import random\n",
    "random.seed(42)\n",
    "selected_indices = random.sample(range(len(X_train)), 229)"
   ]
  },
  {
   "cell_type": "code",
   "execution_count": 29,
   "metadata": {},
   "outputs": [],
   "source": [
    "X_train = np.array(X_train)\n",
    "y_train = np.array(y_train)\n",
    "X_test = np.array(X_test)\n",
    "y_test = np.array(y_test)"
   ]
  },
  {
   "cell_type": "code",
   "execution_count": 30,
   "metadata": {},
   "outputs": [
    {
     "data": {
      "text/plain": [
       "((687, 71, 142), (687, 71, 142))"
      ]
     },
     "execution_count": 30,
     "metadata": {},
     "output_type": "execute_result"
    }
   ],
   "source": [
    "X_train.shape, y_train.shape"
   ]
  },
  {
   "cell_type": "code",
   "execution_count": 31,
   "metadata": {},
   "outputs": [
    {
     "data": {
      "text/plain": [
       "((174, 71, 142), (174, 71, 142))"
      ]
     },
     "execution_count": 31,
     "metadata": {},
     "output_type": "execute_result"
    }
   ],
   "source": [
    "X_test.shape, y_test.shape"
   ]
  },
  {
   "cell_type": "code",
   "execution_count": 32,
   "metadata": {
    "id": "dqPp4W-bBeQ7"
   },
   "outputs": [],
   "source": [
    "s_X_train = [X_train[i] for i in selected_indices]\n",
    "s_y_train = [y_train[i] for i in selected_indices]"
   ]
  },
  {
   "cell_type": "code",
   "execution_count": 33,
   "metadata": {
    "id": "jhfqLa2MBnRQ"
   },
   "outputs": [],
   "source": [
    "import random\n",
    "random.seed(42)\n",
    "selected_indices = random.sample(range(len(X_test)), 58)"
   ]
  },
  {
   "cell_type": "code",
   "execution_count": 34,
   "metadata": {
    "id": "CVoKQsiEBssU"
   },
   "outputs": [],
   "source": [
    "s_X_test = [X_test[i] for i in selected_indices]\n",
    "s_y_test = [y_test[i] for i in selected_indices]"
   ]
  },
  {
   "cell_type": "code",
   "execution_count": 35,
   "metadata": {
    "id": "qvps7m5hbyX6"
   },
   "outputs": [],
   "source": [
    "X_train=np.array(X_train)\n",
    "y_train=np.array(y_train)\n",
    "X_test=np.array(X_test)\n",
    "y_test=np.array(y_test)"
   ]
  },
  {
   "cell_type": "code",
   "execution_count": 36,
   "metadata": {
    "id": "Jd-cj_vbBysE"
   },
   "outputs": [],
   "source": [
    "s_X_train=np.array(s_X_train)\n",
    "s_y_train=np.array(s_y_train)\n",
    "s_X_test=np.array(s_X_test)\n",
    "s_y_test=np.array(s_y_test)"
   ]
  },
  {
   "cell_type": "code",
   "execution_count": 37,
   "metadata": {
    "colab": {
     "base_uri": "https://localhost:8080/"
    },
    "id": "HFkhjnH2ci9z",
    "outputId": "f17329c7-92f3-45b9-c53b-c4263bc5125a"
   },
   "outputs": [
    {
     "data": {
      "text/plain": [
       "(229, 71, 142)"
      ]
     },
     "execution_count": 37,
     "metadata": {},
     "output_type": "execute_result"
    }
   ],
   "source": [
    "s_X_train.shape"
   ]
  },
  {
   "cell_type": "code",
   "execution_count": 38,
   "metadata": {
    "colab": {
     "base_uri": "https://localhost:8080/"
    },
    "id": "IGgFQHGmcYNA",
    "outputId": "5cc0434e-267e-4bc0-cbbe-ce0e97083374"
   },
   "outputs": [
    {
     "data": {
      "text/plain": [
       "(58, 71, 142)"
      ]
     },
     "execution_count": 38,
     "metadata": {},
     "output_type": "execute_result"
    }
   ],
   "source": [
    "s_y_test.shape"
   ]
  },
  {
   "cell_type": "code",
   "execution_count": 39,
   "metadata": {
    "id": "UsY81-8ecLkN"
   },
   "outputs": [],
   "source": [
    "X_test=X_test.reshape((174,1,71,142))"
   ]
  },
  {
   "cell_type": "code",
   "execution_count": 40,
   "metadata": {
    "id": "rBemFEE5CEK8"
   },
   "outputs": [],
   "source": [
    "s_X_test=s_X_test.reshape((58,1,71,142))"
   ]
  },
  {
   "cell_type": "code",
   "execution_count": 41,
   "metadata": {
    "id": "T-OkOzQ7dJGD"
   },
   "outputs": [],
   "source": [
    "X_train=X_train.reshape((687,1,71,142))"
   ]
  },
  {
   "cell_type": "code",
   "execution_count": 42,
   "metadata": {
    "id": "-39eoicpCJwf"
   },
   "outputs": [],
   "source": [
    "s_X_train=s_X_train.reshape((229,1,71,142))"
   ]
  },
  {
   "cell_type": "code",
   "execution_count": 43,
   "metadata": {
    "id": "nnwupLbCdPxS"
   },
   "outputs": [],
   "source": [
    "y_test=y_test.reshape((174, 71*142))"
   ]
  },
  {
   "cell_type": "code",
   "execution_count": 44,
   "metadata": {
    "id": "txGOI3iPCO2D"
   },
   "outputs": [],
   "source": [
    "s_y_test=s_y_test.reshape((58, 71*142))"
   ]
  },
  {
   "cell_type": "code",
   "execution_count": 45,
   "metadata": {
    "id": "-vfQZ7yAdvhn"
   },
   "outputs": [],
   "source": [
    "y_train=y_train.reshape((687, 71*142))"
   ]
  },
  {
   "cell_type": "code",
   "execution_count": 46,
   "metadata": {
    "id": "VOXH1Gy8CTWk"
   },
   "outputs": [],
   "source": [
    "s_y_train=s_y_train.reshape((229, 71*142))"
   ]
  },
  {
   "cell_type": "code",
   "execution_count": 47,
   "metadata": {},
   "outputs": [
    {
     "data": {
      "text/plain": [
       "((687, 1, 71, 142), (687, 10082))"
      ]
     },
     "execution_count": 47,
     "metadata": {},
     "output_type": "execute_result"
    }
   ],
   "source": [
    "X_train.shape, y_train.shape"
   ]
  },
  {
   "cell_type": "code",
   "execution_count": 48,
   "metadata": {},
   "outputs": [
    {
     "data": {
      "text/plain": [
       "((174, 1, 71, 142), (174, 10082))"
      ]
     },
     "execution_count": 48,
     "metadata": {},
     "output_type": "execute_result"
    }
   ],
   "source": [
    "X_test.shape, y_test.shape"
   ]
  },
  {
   "cell_type": "code",
   "execution_count": 49,
   "metadata": {
    "id": "rNmg4Ey1elC0"
   },
   "outputs": [],
   "source": [
    "X_train=X_train/255.0\n",
    "X_test=X_test/255.0\n",
    "y_test=y_test/255.0\n",
    "y_train=y_train/255.0"
   ]
  },
  {
   "cell_type": "code",
   "execution_count": 50,
   "metadata": {
    "id": "u55Zf7-ECY7D"
   },
   "outputs": [],
   "source": [
    "s_X_train=s_X_train/255.0\n",
    "s_X_test=s_X_test/255.0\n",
    "s_y_test=s_y_test/255.0\n",
    "s_y_train=s_y_train/255.0"
   ]
  },
  {
   "cell_type": "code",
   "execution_count": 51,
   "metadata": {},
   "outputs": [],
   "source": [
    "from keras.models import Sequential\n",
    "from keras.layers import ConvLSTM2D, Flatten, Dense, BatchNormalization, Dropout, Reshape"
   ]
  },
  {
   "cell_type": "code",
   "execution_count": 52,
   "metadata": {},
   "outputs": [],
   "source": [
    "y_train = y_train.reshape(-1, 71, 142)\n",
    "y_test = y_test.reshape(-1, 71, 142)\n",
    "X_train = X_train.reshape(-1, 1, 71, 142, 1)\n",
    "X_test = X_test.reshape(-1, 1, 71, 142, 1)"
   ]
  },
  {
   "cell_type": "code",
   "execution_count": 53,
   "metadata": {},
   "outputs": [
    {
     "name": "stderr",
     "output_type": "stream",
     "text": [
      "2024-08-19 10:07:38.695679: W tensorflow/compiler/xla/stream_executor/platform/default/dso_loader.cc:64] Could not load dynamic library 'libcudart.so.11.0'; dlerror: libcudart.so.11.0: cannot open shared object file: No such file or directory\n",
      "2024-08-19 10:07:38.695859: W tensorflow/compiler/xla/stream_executor/platform/default/dso_loader.cc:64] Could not load dynamic library 'libcublas.so.11'; dlerror: libcublas.so.11: cannot open shared object file: No such file or directory\n",
      "2024-08-19 10:07:38.695972: W tensorflow/compiler/xla/stream_executor/platform/default/dso_loader.cc:64] Could not load dynamic library 'libcublasLt.so.11'; dlerror: libcublasLt.so.11: cannot open shared object file: No such file or directory\n",
      "2024-08-19 10:07:38.696075: W tensorflow/compiler/xla/stream_executor/platform/default/dso_loader.cc:64] Could not load dynamic library 'libcufft.so.10'; dlerror: libcufft.so.10: cannot open shared object file: No such file or directory\n",
      "2024-08-19 10:07:38.696175: W tensorflow/compiler/xla/stream_executor/platform/default/dso_loader.cc:64] Could not load dynamic library 'libcurand.so.10'; dlerror: libcurand.so.10: cannot open shared object file: No such file or directory\n",
      "2024-08-19 10:07:38.696275: W tensorflow/compiler/xla/stream_executor/platform/default/dso_loader.cc:64] Could not load dynamic library 'libcusolver.so.11'; dlerror: libcusolver.so.11: cannot open shared object file: No such file or directory\n",
      "2024-08-19 10:07:38.696375: W tensorflow/compiler/xla/stream_executor/platform/default/dso_loader.cc:64] Could not load dynamic library 'libcusparse.so.11'; dlerror: libcusparse.so.11: cannot open shared object file: No such file or directory\n",
      "2024-08-19 10:07:38.696475: W tensorflow/compiler/xla/stream_executor/platform/default/dso_loader.cc:64] Could not load dynamic library 'libcudnn.so.8'; dlerror: libcudnn.so.8: cannot open shared object file: No such file or directory\n",
      "2024-08-19 10:07:38.696507: W tensorflow/core/common_runtime/gpu/gpu_device.cc:1934] Cannot dlopen some GPU libraries. Please make sure the missing libraries mentioned above are installed properly if you would like to use GPU. Follow the guide at https://www.tensorflow.org/install/gpu for how to download and setup the required libraries for your platform.\n",
      "Skipping registering GPU devices...\n",
      "2024-08-19 10:07:38.697551: I tensorflow/core/platform/cpu_feature_guard.cc:193] This TensorFlow binary is optimized with oneAPI Deep Neural Network Library (oneDNN) to use the following CPU instructions in performance-critical operations:  AVX2 AVX512F FMA\n",
      "To enable them in other operations, rebuild TensorFlow with the appropriate compiler flags.\n"
     ]
    },
    {
     "name": "stdout",
     "output_type": "stream",
     "text": [
      "Model: \"sequential\"\n",
      "_________________________________________________________________\n",
      " Layer (type)                Output Shape              Param #   \n",
      "=================================================================\n",
      " conv_lstm2d (ConvLSTM2D)    (None, 1, 69, 140, 32)    38144     \n",
      "                                                                 \n",
      " batch_normalization (BatchN  (None, 1, 69, 140, 32)   128       \n",
      " ormalization)                                                   \n",
      "                                                                 \n",
      " conv_lstm2d_1 (ConvLSTM2D)  (None, 67, 138, 32)       73856     \n",
      "                                                                 \n",
      " batch_normalization_1 (Batc  (None, 67, 138, 32)      128       \n",
      " hNormalization)                                                 \n",
      "                                                                 \n",
      " flatten (Flatten)           (None, 295872)            0         \n",
      "                                                                 \n",
      " dense (Dense)               (None, 10082)             2982991586\n",
      "                                                                 \n",
      " reshape (Reshape)           (None, 71, 142)           0         \n",
      "                                                                 \n",
      "=================================================================\n",
      "Total params: 2,983,103,842\n",
      "Trainable params: 2,983,103,714\n",
      "Non-trainable params: 128\n",
      "_________________________________________________________________\n"
     ]
    }
   ],
   "source": [
    "\n",
    "model_m1 = Sequential()\n",
    "\n",
    "# Adding ConvLSTM2D layers\n",
    "model_m1.add(ConvLSTM2D(filters=32, kernel_size=(3, 3), activation='relu', \n",
    "                      input_shape=(1, 71, 142, 1), return_sequences=True))\n",
    "model_m1.add(BatchNormalization())\n",
    "\n",
    "model_m1.add(ConvLSTM2D(filters=32, kernel_size=(3, 3), activation='relu'))\n",
    "model_m1.add(BatchNormalization())\n",
    "\n",
    "# Flattening the output\n",
    "model_m1.add(Flatten())\n",
    "\n",
    "# Adding a Dense layer\n",
    "model_m1.add(Dense(71 * 142, activation='relu'))\n",
    "\n",
    "# Reshape to the target shape (71, 142)\n",
    "model_m1.add(Reshape((71, 142)))\n",
    "\n",
    "# Compiling the model\n",
    "model_m1.compile(optimizer='adam', loss='mse')\n",
    "\n",
    "model_m1.summary()\n"
   ]
  },
  {
   "cell_type": "code",
   "execution_count": 55,
   "metadata": {
    "colab": {
     "base_uri": "https://localhost:8080/"
    },
    "id": "lJlCd7sPee11",
    "outputId": "44373d17-fd95-4473-a25b-5442f11bdb5f"
   },
   "outputs": [
    {
     "name": "stdout",
     "output_type": "stream",
     "text": [
      "Epoch 1/10\n",
      "22/22 [==============================] - 312s 13s/step - loss: 0.3463\n",
      "Epoch 2/10\n",
      "22/22 [==============================] - 380s 17s/step - loss: 0.0231\n",
      "Epoch 3/10\n",
      "22/22 [==============================] - 438s 20s/step - loss: 0.0229\n",
      "Epoch 4/10\n",
      "22/22 [==============================] - 475s 22s/step - loss: 0.0229\n",
      "Epoch 5/10\n",
      "22/22 [==============================] - 421s 19s/step - loss: 0.0229\n",
      "Epoch 6/10\n",
      "22/22 [==============================] - 357s 16s/step - loss: 0.0229\n",
      "Epoch 7/10\n",
      "22/22 [==============================] - 292s 13s/step - loss: 0.0229\n",
      "Epoch 8/10\n",
      "22/22 [==============================] - 277s 12s/step - loss: 0.0229\n",
      "Epoch 9/10\n",
      "22/22 [==============================] - 280s 13s/step - loss: 0.0230\n",
      "Epoch 10/10\n",
      "22/22 [==============================] - 286s 13s/step - loss: 0.0230\n"
     ]
    },
    {
     "data": {
      "text/plain": [
       "<keras.callbacks.History at 0x7f5c48d0aeb0>"
      ]
     },
     "execution_count": 55,
     "metadata": {},
     "output_type": "execute_result"
    }
   ],
   "source": [
    "model_m1.fit(X_train,y_train,epochs=10,verbose=1)"
   ]
  },
  {
   "cell_type": "code",
   "execution_count": 74,
   "metadata": {},
   "outputs": [
    {
     "name": "stdout",
     "output_type": "stream",
     "text": [
      "6/6 [==============================] - 10s 662ms/step\n"
     ]
    }
   ],
   "source": [
    "y_pred=model_m1.predict(X_test)"
   ]
  },
  {
   "cell_type": "code",
   "execution_count": 75,
   "metadata": {},
   "outputs": [],
   "source": [
    "from sklearn.metrics import mean_squared_error"
   ]
  },
  {
   "cell_type": "code",
   "execution_count": 76,
   "metadata": {},
   "outputs": [
    {
     "name": "stdout",
     "output_type": "stream",
     "text": [
      "Mean Squared Error: 0.038668700643061965\n"
     ]
    }
   ],
   "source": [
    "# Reshape y_test and y_pred to be 2D arrays\n",
    "y_test_flat = y_test.reshape(y_test.shape[0], -1)\n",
    "y_pred_flat = y_pred.reshape(y_pred.shape[0], -1)\n",
    "\n",
    "\n",
    "\n",
    "mse = mean_squared_error(y_test_flat, y_pred_flat)\n",
    "print(f'Mean Squared Error: {mse}')"
   ]
  },
  {
   "cell_type": "code",
   "execution_count": 77,
   "metadata": {},
   "outputs": [
    {
     "name": "stdout",
     "output_type": "stream",
     "text": [
      "Keras weights file (<HDF5 file \"variables.h5\" (mode r+)>) saving:\n",
      "...layers\n",
      "......batch_normalization\n",
      ".........vars\n",
      "............0\n",
      "............1\n",
      "............2\n",
      "............3\n",
      "......batch_normalization_1\n",
      ".........vars\n",
      "............0\n",
      "............1\n",
      "............2\n",
      "............3\n",
      "......conv_lstm2d\n",
      ".........cell\n",
      "............vars\n",
      "...............0\n",
      "...............1\n",
      "...............2\n",
      ".........vars\n",
      "......conv_lstm2d_1\n",
      ".........cell\n",
      "............vars\n",
      "...............0\n",
      "...............1\n",
      "...............2\n",
      ".........vars\n",
      "......dense\n",
      ".........vars\n",
      "............0\n",
      "............1\n",
      "......flatten\n",
      ".........vars\n",
      "......reshape\n",
      ".........vars\n",
      "...metrics\n",
      "......mean\n",
      ".........vars\n",
      "............0\n",
      "............1\n",
      "...optimizer\n",
      "......vars\n",
      ".........0\n",
      ".........1\n",
      ".........10\n",
      ".........11\n",
      ".........12\n",
      ".........13\n",
      ".........14\n",
      ".........15\n",
      ".........16\n",
      ".........17\n",
      ".........18\n",
      ".........19\n",
      ".........2\n",
      ".........20\n",
      ".........21\n",
      ".........22\n",
      ".........23\n",
      ".........24\n",
      ".........3\n",
      ".........4\n",
      ".........5\n",
      ".........6\n",
      ".........7\n",
      ".........8\n",
      ".........9\n",
      "...vars\n",
      "Keras model archive saving:\n",
      "File Name                                             Modified             Size\n",
      "config.json                                    2024-08-19 11:13:32         4256\n",
      "variables.h5                                   2024-08-19 11:14:19  35797287168\n",
      "metadata.json                                  2024-08-19 11:13:32           64\n"
     ]
    },
    {
     "data": {
      "text/plain": [
       "['Model_M1.pkl']"
      ]
     },
     "execution_count": 77,
     "metadata": {},
     "output_type": "execute_result"
    }
   ],
   "source": [
    "import joblib\n",
    "joblib.dump(model_m1,\"Model_M1.pkl\")"
   ]
  },
  {
   "cell_type": "code",
   "execution_count": 78,
   "metadata": {
    "id": "v1rzDJSsij9X"
   },
   "outputs": [],
   "source": [
    "# Combined-Architecture time t0 -> M1 -> M1 -> M1 "
   ]
  },
  {
   "cell_type": "code",
   "execution_count": 79,
   "metadata": {},
   "outputs": [],
   "source": [
    "import pandas as pd\n",
    "df=pd.read_excel(\"ftd_temporal_processed.xlsx\") "
   ]
  },
  {
   "cell_type": "code",
   "execution_count": 80,
   "metadata": {},
   "outputs": [],
   "source": [
    "test1=[]\n",
    "test2=[]\n",
    "test3=[]\n",
    "test4=[]\n",
    "for i in range(229,287):\n",
    "  y=[]\n",
    "  y.append(i*4+0)\n",
    "  y.append(i*4+1)\n",
    "  y.append(i*4+2)\n",
    "  y.append(i*4+3)\n",
    "  count=0\n",
    "  for j in y:\n",
    "    x1=df.iloc[j]\n",
    "    # print(x1)\n",
    "    # print(x1.index)\n",
    "    ind1=x1['ID']\n",
    "    if(count==0):\n",
    "      test1.append(ind1)\n",
    "    elif(count==1):\n",
    "      test2.append(ind1)\n",
    "    elif(count==2):\n",
    "      test3.append(ind1)\n",
    "    else:\n",
    "      test4.append(ind1)\n",
    "    count+=1"
   ]
  },
  {
   "cell_type": "code",
   "execution_count": 81,
   "metadata": {},
   "outputs": [
    {
     "data": {
      "text/plain": [
       "58"
      ]
     },
     "execution_count": 81,
     "metadata": {},
     "output_type": "execute_result"
    }
   ],
   "source": [
    "len(test1)"
   ]
  },
  {
   "cell_type": "code",
   "execution_count": 82,
   "metadata": {},
   "outputs": [],
   "source": [
    "img_1=[]\n",
    "for i in test1:\n",
    "  s=\"Test2_Version2/ftd_rep1_v2_txt_version2/_\"+i+\"_data.txt\"\n",
    "  img=np.loadtxt(s)\n",
    "#   print(s)\n",
    "  img_1.append(img)"
   ]
  },
  {
   "cell_type": "code",
   "execution_count": 83,
   "metadata": {},
   "outputs": [],
   "source": [
    "img_2=[]\n",
    "for i in test2:\n",
    "  s=s=\"Test2_Version2/ftd_rep1_v2_txt_version2/_\"+i+\"_data.txt\"\n",
    "  img=np.loadtxt(s)\n",
    "#   print(s)\n",
    "  img_2.append(img)"
   ]
  },
  {
   "cell_type": "code",
   "execution_count": 84,
   "metadata": {},
   "outputs": [],
   "source": [
    "img_3=[]\n",
    "for i in test3:\n",
    "  s=\"Test2_Version2/ftd_rep1_v2_txt_version2/_\"+i+\"_data.txt\"\n",
    "  img=np.loadtxt(s)\n",
    "#   print(s)\n",
    "  img_3.append(img)"
   ]
  },
  {
   "cell_type": "code",
   "execution_count": 85,
   "metadata": {},
   "outputs": [],
   "source": [
    "img_4=[]\n",
    "for i in test4:\n",
    "  s=\"Test2_Version2/ftd_rep1_v2_txt_version2/_\"+i+\"_data.txt\"\n",
    "  img=np.loadtxt(s)\n",
    "#   print(s)\n",
    "  img_4.append(img)"
   ]
  },
  {
   "cell_type": "code",
   "execution_count": 86,
   "metadata": {},
   "outputs": [],
   "source": [
    "img_1=np.array(img_1)\n",
    "img_2=np.array(img_2)\n",
    "img_3=np.array(img_3)\n",
    "img_4=np.array(img_4)"
   ]
  },
  {
   "cell_type": "code",
   "execution_count": 87,
   "metadata": {},
   "outputs": [],
   "source": [
    "img_2=img_2.reshape(58, 71*142)\n",
    "img_3=img_3.reshape(58, 71*142)\n",
    "img_4=img_4.reshape(58, 71*142)"
   ]
  },
  {
   "cell_type": "code",
   "execution_count": 88,
   "metadata": {},
   "outputs": [],
   "source": [
    "img_1=img_1/255.0\n",
    "img_2=img_2/255.0\n",
    "img_3=img_3/255.0\n",
    "img_4=img_4/255.0"
   ]
  },
  {
   "cell_type": "code",
   "execution_count": 89,
   "metadata": {},
   "outputs": [
    {
     "data": {
      "text/plain": [
       "(58, 71, 142)"
      ]
     },
     "execution_count": 89,
     "metadata": {},
     "output_type": "execute_result"
    }
   ],
   "source": [
    "img_1.shape"
   ]
  },
  {
   "cell_type": "code",
   "execution_count": 90,
   "metadata": {},
   "outputs": [],
   "source": [
    "img_1=img_1.reshape(58,1,71,142)"
   ]
  },
  {
   "cell_type": "code",
   "execution_count": 91,
   "metadata": {},
   "outputs": [],
   "source": [
    "import joblib"
   ]
  },
  {
   "cell_type": "code",
   "execution_count": 92,
   "metadata": {},
   "outputs": [
    {
     "name": "stdout",
     "output_type": "stream",
     "text": [
      "Keras model archive loading:\n",
      "File Name                                             Modified             Size\n",
      "config.json                                    2024-08-19 11:13:32         4256\n",
      "variables.h5                                   2024-08-19 11:14:18  35797287168\n",
      "metadata.json                                  2024-08-19 11:13:32           64\n",
      "Keras weights file (<HDF5 file \"variables.h5\" (mode r)>) loading:\n",
      "...layers\n",
      "......batch_normalization\n",
      ".........vars\n",
      "............0\n",
      "............1\n",
      "............2\n",
      "............3\n",
      "......batch_normalization_1\n",
      ".........vars\n",
      "............0\n",
      "............1\n",
      "............2\n",
      "............3\n",
      "......conv_lstm2d\n",
      ".........cell\n",
      "............vars\n",
      "...............0\n",
      "...............1\n",
      "...............2\n",
      ".........vars\n",
      "......conv_lstm2d_1\n",
      ".........cell\n",
      "............vars\n",
      "...............0\n",
      "...............1\n",
      "...............2\n",
      ".........vars\n",
      "......dense\n",
      ".........vars\n",
      "............0\n",
      "............1\n",
      "......flatten\n",
      ".........vars\n",
      "......reshape\n",
      ".........vars\n",
      "...metrics\n",
      "......mean\n",
      ".........vars\n",
      "............0\n",
      "............1\n",
      "...optimizer\n",
      "......vars\n",
      ".........0\n",
      ".........1\n",
      ".........10\n",
      ".........11\n",
      ".........12\n",
      ".........13\n",
      ".........14\n",
      ".........15\n",
      ".........16\n",
      ".........17\n",
      ".........18\n",
      ".........19\n",
      ".........2\n",
      ".........20\n",
      ".........21\n",
      ".........22\n",
      ".........23\n",
      ".........24\n",
      ".........3\n",
      ".........4\n",
      ".........5\n",
      ".........6\n",
      ".........7\n",
      ".........8\n",
      ".........9\n",
      "...vars\n"
     ]
    }
   ],
   "source": [
    "model_m1=joblib.load(\"Model_M1.pkl\")"
   ]
  },
  {
   "cell_type": "code",
   "execution_count": 93,
   "metadata": {},
   "outputs": [
    {
     "name": "stdout",
     "output_type": "stream",
     "text": [
      "2/2 [==============================] - 3s 2s/step\n"
     ]
    }
   ],
   "source": [
    "y_pred_t2=model_m1.predict(img_1)"
   ]
  },
  {
   "cell_type": "code",
   "execution_count": 94,
   "metadata": {},
   "outputs": [
    {
     "data": {
      "text/plain": [
       "((58, 1, 71, 142), (58, 10082), (58, 10082), (58, 10082))"
      ]
     },
     "execution_count": 94,
     "metadata": {},
     "output_type": "execute_result"
    }
   ],
   "source": [
    "img_1.shape, img_2.shape, img_3.shape, img_3.shape"
   ]
  },
  {
   "cell_type": "code",
   "execution_count": 95,
   "metadata": {},
   "outputs": [
    {
     "data": {
      "text/plain": [
       "(58, 71, 142)"
      ]
     },
     "execution_count": 95,
     "metadata": {},
     "output_type": "execute_result"
    }
   ],
   "source": [
    "y_pred_t2.shape"
   ]
  },
  {
   "cell_type": "code",
   "execution_count": null,
   "metadata": {},
   "outputs": [],
   "source": [
    "# img_2 = img_2.reshape(58, -1)  # Reshape to (58, 10082) , \n"
   ]
  },
  {
   "cell_type": "code",
   "execution_count": null,
   "metadata": {},
   "outputs": [],
   "source": [
    "from sklearn.metrics import mean_squared_error\n",
    "\n",
    "# Reshape y_pred_t2 to match img_2\n",
    "y_pred_t2 = y_pred_t2.reshape(58, 71*142)\n",
    "\n",
    "# Calculate mean squared error\n",
    "mse = mean_squared_error(img_2, y_pred_t2)\n",
    "print(\"Mean Squared Error:\", mse)\n"
   ]
  },
  {
   "cell_type": "code",
   "execution_count": null,
   "metadata": {},
   "outputs": [],
   "source": [
    "# For prediction of image 3"
   ]
  },
  {
   "cell_type": "code",
   "execution_count": 266,
   "metadata": {},
   "outputs": [],
   "source": [
    "y_pred_t2=y_pred_t2.reshape(58,1,71, 142)"
   ]
  },
  {
   "cell_type": "code",
   "execution_count": 267,
   "metadata": {},
   "outputs": [
    {
     "name": "stdout",
     "output_type": "stream",
     "text": [
      "2/2 [==============================] - 2s 897ms/step\n"
     ]
    }
   ],
   "source": [
    "y_pred_t3=model_m1.predict(y_pred_t2) "
   ]
  },
  {
   "cell_type": "code",
   "execution_count": 268,
   "metadata": {},
   "outputs": [
    {
     "data": {
      "text/plain": [
       "((58, 71, 142), (58, 10082))"
      ]
     },
     "execution_count": 268,
     "metadata": {},
     "output_type": "execute_result"
    }
   ],
   "source": [
    "y_pred_t3.shape, img_3.shape"
   ]
  },
  {
   "cell_type": "code",
   "execution_count": null,
   "metadata": {},
   "outputs": [],
   "source": [
    "y_pred_t3 = y_pred_t3.reshape(58, 71 * 142)"
   ]
  },
  {
   "cell_type": "code",
   "execution_count": 264,
   "metadata": {},
   "outputs": [
    {
     "name": "stdout",
     "output_type": "stream",
     "text": [
      "Mean Squared Error: 1.1148755309231455\n"
     ]
    }
   ],
   "source": [
    "mse = mean_squared_error(img_3, y_pred_t3)\n",
    "print(\"Mean Squared Error:\", mse)"
   ]
  },
  {
   "cell_type": "code",
   "execution_count": 269,
   "metadata": {},
   "outputs": [
    {
     "data": {
      "text/plain": [
       "(58, 71, 142)"
      ]
     },
     "execution_count": 269,
     "metadata": {},
     "output_type": "execute_result"
    }
   ],
   "source": [
    "y_pred_t3.shape"
   ]
  },
  {
   "cell_type": "code",
   "execution_count": 271,
   "metadata": {},
   "outputs": [],
   "source": [
    "y_pred_t3=y_pred_t3.reshape(58,1,71,142)"
   ]
  },
  {
   "cell_type": "code",
   "execution_count": 272,
   "metadata": {},
   "outputs": [
    {
     "name": "stdout",
     "output_type": "stream",
     "text": [
      "2/2 [==============================] - 2s 770ms/step\n"
     ]
    }
   ],
   "source": [
    "y_pred_t4=model_m1.predict(y_pred_t3) "
   ]
  },
  {
   "cell_type": "code",
   "execution_count": 277,
   "metadata": {},
   "outputs": [],
   "source": [
    "y_pred_t4.shape\n",
    "\n",
    "y_pred_t4 = y_pred_t4.reshape(58, 71 * 142)"
   ]
  },
  {
   "cell_type": "code",
   "execution_count": 278,
   "metadata": {},
   "outputs": [
    {
     "data": {
      "text/plain": [
       "1885.384762040799"
      ]
     },
     "execution_count": 278,
     "metadata": {},
     "output_type": "execute_result"
    }
   ],
   "source": [
    "mean_squared_error(img_4,y_pred_t4) "
   ]
  },
  {
   "cell_type": "markdown",
   "metadata": {
    "id": "C2-jR0Z5iqUc"
   },
   "source": [
    "## Model-M2 Image data"
   ]
  },
  {
   "cell_type": "code",
   "execution_count": 280,
   "metadata": {
    "id": "57D-e_cLisKW"
   },
   "outputs": [],
   "source": [
    "import pandas as pd\n",
    "df=pd.read_excel(\"ftd_temporal_processed.xlsx\")"
   ]
  },
  {
   "cell_type": "code",
   "execution_count": 301,
   "metadata": {
    "colab": {
     "base_uri": "https://localhost:8080/"
    },
    "id": "5l7Fh-7wjeRG",
    "outputId": "a628860c-b9a6-4f8c-9314-b1a19e4166e4"
   },
   "outputs": [],
   "source": [
    "X=[]\n",
    "y=[]\n",
    "for i in range(287):\n",
    "  y1=[]\n",
    "  y1.append(i*4+0)\n",
    "  y1.append(i*4+1)\n",
    "  y1.append(i*4+2)\n",
    "  y1.append(i*4+3)\n",
    "#   print(y1)\n",
    "  for j in range(len(y1)-2):\n",
    "    x1=df.iloc[y1[j]]\n",
    "    # print(x1)\n",
    "    # print(x1.index)\n",
    "    ind1=x1['ID']\n",
    "    x1=df.iloc[y1[j+1]]\n",
    "    ind3=x1['ID']\n",
    "#     print(ind1)\n",
    "    y2=df.iloc[y1[j+2]]\n",
    "    ind2=y2['ID']\n",
    "    X.append(ind1)\n",
    "    X.append(ind3)\n",
    "    y.append(ind2)"
   ]
  },
  {
   "cell_type": "code",
   "execution_count": 315,
   "metadata": {
    "colab": {
     "base_uri": "https://localhost:8080/"
    },
    "id": "eSrh8KDtkjSl",
    "outputId": "20dc6cb2-c380-4855-cdd7-2642d42d1d28"
   },
   "outputs": [],
   "source": [
    "img_x=[]\n",
    "for i in X:\n",
    "  s=\"Test2_Version2/ftd_rep1_v2_txt_version2/_\"+i+\"_data.txt\"\n",
    "  img=np.loadtxt(s)\n",
    "#   print(s)\n",
    "  img_x.append(img)"
   ]
  },
  {
   "cell_type": "code",
   "execution_count": 316,
   "metadata": {
    "colab": {
     "base_uri": "https://localhost:8080/"
    },
    "id": "3_GXbifRlRps",
    "outputId": "0869f6df-8883-4819-b3a2-53d5ef3f707b"
   },
   "outputs": [
    {
     "data": {
      "text/plain": [
       "1148"
      ]
     },
     "execution_count": 316,
     "metadata": {},
     "output_type": "execute_result"
    }
   ],
   "source": [
    "len(img_x)"
   ]
  },
  {
   "cell_type": "code",
   "execution_count": 317,
   "metadata": {
    "colab": {
     "base_uri": "https://localhost:8080/"
    },
    "id": "Kzlfr0jDlTN1",
    "outputId": "acdd2971-c7cb-41e3-8342-9f7f7d52cf40"
   },
   "outputs": [],
   "source": [
    "\n",
    "img_y=[]\n",
    "for i in y:\n",
    "  s=\"Test2_Version2/ftd_rep1_v2_txt_version2/_\"+i+\"_data.txt\"\n",
    "  img=np.loadtxt(s)\n",
    "#   print(s)\n",
    "  img_y.append(img)"
   ]
  },
  {
   "cell_type": "code",
   "execution_count": 318,
   "metadata": {
    "colab": {
     "base_uri": "https://localhost:8080/"
    },
    "id": "SwbBRl83mvUm",
    "outputId": "7d896c95-2b94-4c89-d371-28d5ad194efd"
   },
   "outputs": [
    {
     "data": {
      "text/plain": [
       "574"
      ]
     },
     "execution_count": 318,
     "metadata": {},
     "output_type": "execute_result"
    }
   ],
   "source": [
    "len(img_y)"
   ]
  },
  {
   "cell_type": "code",
   "execution_count": 319,
   "metadata": {
    "colab": {
     "base_uri": "https://localhost:8080/"
    },
    "id": "CuoNS943myO4",
    "outputId": "aa435aa3-5283-44da-89ed-6d29a041a364"
   },
   "outputs": [
    {
     "data": {
      "text/plain": [
       "1148"
      ]
     },
     "execution_count": 319,
     "metadata": {},
     "output_type": "execute_result"
    }
   ],
   "source": [
    "574*2"
   ]
  },
  {
   "cell_type": "code",
   "execution_count": 320,
   "metadata": {
    "colab": {
     "base_uri": "https://localhost:8080/"
    },
    "id": "BvnrbQA4oLHO",
    "outputId": "e559adf9-fd01-4b39-c331-c667c9c99adb"
   },
   "outputs": [
    {
     "data": {
      "text/plain": [
       "918.4000000000001"
      ]
     },
     "execution_count": 320,
     "metadata": {},
     "output_type": "execute_result"
    }
   ],
   "source": [
    "1148*0.8"
   ]
  },
  {
   "cell_type": "code",
   "execution_count": 321,
   "metadata": {
    "id": "qL9ewxYkmUcE"
   },
   "outputs": [],
   "source": [
    "X_train=[]\n",
    "X_test=[]\n",
    "y_test=[]\n",
    "y_train=[]"
   ]
  },
  {
   "cell_type": "code",
   "execution_count": 322,
   "metadata": {
    "id": "LTuXuqrWmfwW"
   },
   "outputs": [],
   "source": [
    "count=0\n",
    "for i in img_x:\n",
    "  if(count<918):\n",
    "    X_train.append(i)\n",
    "  else:\n",
    "    X_test.append(i)\n",
    "  count+=1"
   ]
  },
  {
   "cell_type": "code",
   "execution_count": 323,
   "metadata": {
    "id": "l-YjyLadoeLh"
   },
   "outputs": [],
   "source": [
    "count=0\n",
    "for i in img_y:\n",
    "  if(count<459):\n",
    "    y_train.append(i)\n",
    "  else:\n",
    "    y_test.append(i)\n",
    "  count+=1"
   ]
  },
  {
   "cell_type": "code",
   "execution_count": 324,
   "metadata": {
    "colab": {
     "base_uri": "https://localhost:8080/"
    },
    "id": "RZxYvzCbo-3k",
    "outputId": "19926dac-dbb3-4291-f1be-03b9bfc99fd7"
   },
   "outputs": [
    {
     "data": {
      "text/plain": [
       "230"
      ]
     },
     "execution_count": 324,
     "metadata": {},
     "output_type": "execute_result"
    }
   ],
   "source": [
    "len(X_test)"
   ]
  },
  {
   "cell_type": "code",
   "execution_count": 325,
   "metadata": {
    "id": "DYwjDs6SpAkh"
   },
   "outputs": [],
   "source": [
    "X_train=np.array(X_train)\n",
    "y_train=np.array(y_train)\n",
    "X_test=np.array(X_test)\n",
    "y_test=np.array(y_test)"
   ]
  },
  {
   "cell_type": "code",
   "execution_count": 326,
   "metadata": {
    "colab": {
     "base_uri": "https://localhost:8080/"
    },
    "id": "llCcZlKEpqP9",
    "outputId": "471fc0ba-b801-4fbc-edb8-1cffef26d377"
   },
   "outputs": [
    {
     "data": {
      "text/plain": [
       "(58, 10082)"
      ]
     },
     "execution_count": 326,
     "metadata": {},
     "output_type": "execute_result"
    }
   ],
   "source": [
    "s_y_test.shape"
   ]
  },
  {
   "cell_type": "code",
   "execution_count": 327,
   "metadata": {
    "id": "yZCwCDONpxBQ"
   },
   "outputs": [],
   "source": [
    "X_train=X_train.reshape(459,2,71,142)"
   ]
  },
  {
   "cell_type": "code",
   "execution_count": 328,
   "metadata": {
    "id": "Y4Ku6_wbqIsc"
   },
   "outputs": [],
   "source": [
    "X_test=X_test.reshape(115,2,71,142)"
   ]
  },
  {
   "cell_type": "code",
   "execution_count": 329,
   "metadata": {
    "colab": {
     "base_uri": "https://localhost:8080/"
    },
    "id": "U58yerXoqaPk",
    "outputId": "f9a05cb0-fff5-4c2f-a0f8-c46a395db6e1"
   },
   "outputs": [
    {
     "data": {
      "text/plain": [
       "(115, 71, 142)"
      ]
     },
     "execution_count": 329,
     "metadata": {},
     "output_type": "execute_result"
    }
   ],
   "source": [
    "y_test.shape"
   ]
  },
  {
   "cell_type": "code",
   "execution_count": 330,
   "metadata": {
    "id": "zOUpavmlqb4U"
   },
   "outputs": [],
   "source": [
    "y_test=y_test.reshape(115, 71*142)"
   ]
  },
  {
   "cell_type": "code",
   "execution_count": 331,
   "metadata": {
    "colab": {
     "base_uri": "https://localhost:8080/"
    },
    "id": "4od0vqGYqgyt",
    "outputId": "ae1d9e70-4c08-4338-d854-52f478a40214"
   },
   "outputs": [
    {
     "data": {
      "text/plain": [
       "(459, 71, 142)"
      ]
     },
     "execution_count": 331,
     "metadata": {},
     "output_type": "execute_result"
    }
   ],
   "source": [
    "y_train.shape"
   ]
  },
  {
   "cell_type": "code",
   "execution_count": 332,
   "metadata": {
    "id": "vOy1ucxEqh-C"
   },
   "outputs": [],
   "source": [
    "y_train=y_train.reshape(459, 71*142)"
   ]
  },
  {
   "cell_type": "code",
   "execution_count": 333,
   "metadata": {
    "colab": {
     "base_uri": "https://localhost:8080/"
    },
    "id": "-lJYWXDJqo2U",
    "outputId": "ace4127f-f640-4e33-d9a9-0569fd23e1ec"
   },
   "outputs": [
    {
     "data": {
      "text/plain": [
       "(459, 10082)"
      ]
     },
     "execution_count": 333,
     "metadata": {},
     "output_type": "execute_result"
    }
   ],
   "source": [
    "y_train.shape"
   ]
  },
  {
   "cell_type": "code",
   "execution_count": 336,
   "metadata": {
    "id": "E5X4o-wxqrlR"
   },
   "outputs": [],
   "source": [
    "X_train=X_train/255.0\n",
    "X_test=X_test/255.0\n",
    "y_train=y_train/255.0\n",
    "y_test=y_test/255.0"
   ]
  },
  {
   "cell_type": "code",
   "execution_count": 337,
   "metadata": {
    "id": "RkRWICvHrDFZ"
   },
   "outputs": [],
   "source": [
    "model_m2 = Sequential()\n",
    "model_m2.add(ConvLSTM2D(filters=64, kernel_size=3, activation='relu', input_shape=(2,71,142,1),return_sequences=True))\n",
    "model_m2.add(ConvLSTM2D(filters=32, kernel_size=3, activation='relu'))\n",
    "model_m2.add(Flatten())\n",
    "model_m2.add(Dense(71*142,activation='relu'))\n",
    "model_m2.compile(optimizer='adam', loss='mse')"
   ]
  },
  {
   "cell_type": "code",
   "execution_count": 339,
   "metadata": {},
   "outputs": [
    {
     "name": "stdout",
     "output_type": "stream",
     "text": [
      "Epoch 1/10\n",
      "15/15 [==============================] - 227s 15s/step - loss: 0.0139\n",
      "Epoch 2/10\n",
      "15/15 [==============================] - 219s 15s/step - loss: 0.0066\n",
      "Epoch 3/10\n",
      "15/15 [==============================] - 222s 15s/step - loss: 0.0050\n",
      "Epoch 4/10\n",
      "15/15 [==============================] - 227s 15s/step - loss: 0.0042\n",
      "Epoch 5/10\n",
      "15/15 [==============================] - 224s 15s/step - loss: 0.0039\n",
      "Epoch 6/10\n",
      "15/15 [==============================] - 231s 15s/step - loss: 0.0036\n",
      "Epoch 7/10\n",
      "15/15 [==============================] - 232s 15s/step - loss: 0.0035\n",
      "Epoch 8/10\n",
      "15/15 [==============================] - 230s 15s/step - loss: 0.0033\n",
      "Epoch 9/10\n",
      "15/15 [==============================] - 227s 15s/step - loss: 0.0032\n",
      "Epoch 10/10\n",
      "15/15 [==============================] - 236s 16s/step - loss: 0.0032\n"
     ]
    },
    {
     "data": {
      "text/plain": [
       "<keras.callbacks.History at 0x7f1bcb454430>"
      ]
     },
     "execution_count": 339,
     "metadata": {},
     "output_type": "execute_result"
    }
   ],
   "source": [
    "model_m2.fit(X_train, y_train, epochs=10,verbose=1)"
   ]
  },
  {
   "cell_type": "code",
   "execution_count": 340,
   "metadata": {},
   "outputs": [
    {
     "name": "stdout",
     "output_type": "stream",
     "text": [
      "Keras weights file (<HDF5 file \"variables.h5\" (mode r+)>) saving:\n",
      "...layers\n",
      "......conv_lstm2d\n",
      ".........cell\n",
      "............vars\n",
      "...............0\n",
      "...............1\n",
      "...............2\n",
      ".........vars\n",
      "......conv_lstm2d_1\n",
      ".........cell\n",
      "............vars\n",
      "...............0\n",
      "...............1\n",
      "...............2\n",
      ".........vars\n",
      "......dense\n",
      ".........vars\n",
      "............0\n",
      "............1\n",
      "......flatten\n",
      ".........vars\n",
      "...metrics\n",
      "......mean\n",
      ".........vars\n",
      "............0\n",
      "............1\n",
      "...optimizer\n",
      "......vars\n",
      ".........0\n",
      ".........1\n",
      ".........10\n",
      ".........11\n",
      ".........12\n",
      ".........13\n",
      ".........14\n",
      ".........15\n",
      ".........16\n",
      ".........2\n",
      ".........3\n",
      ".........4\n",
      ".........5\n",
      ".........6\n",
      ".........7\n",
      ".........8\n",
      ".........9\n",
      "...vars\n",
      "Keras model archive saving:\n",
      "File Name                                             Modified             Size\n",
      "config.json                                    2024-08-19 00:29:41         3026\n",
      "variables.h5                                   2024-08-19 00:30:22  35799057264\n",
      "metadata.json                                  2024-08-19 00:29:41           64\n"
     ]
    },
    {
     "data": {
      "text/plain": [
       "['Model_M2.pkl']"
      ]
     },
     "execution_count": 340,
     "metadata": {},
     "output_type": "execute_result"
    }
   ],
   "source": [
    "joblib.dump(model_m2,\"Model_M2.pkl\")"
   ]
  },
  {
   "cell_type": "code",
   "execution_count": 341,
   "metadata": {
    "colab": {
     "base_uri": "https://localhost:8080/"
    },
    "id": "Eu5gtBOQrpyI",
    "outputId": "414a8ea6-4aa1-49cc-d130-b267467520bb"
   },
   "outputs": [
    {
     "data": {
      "text/plain": [
       "(115, 2, 71, 142)"
      ]
     },
     "execution_count": 341,
     "metadata": {},
     "output_type": "execute_result"
    }
   ],
   "source": [
    "X_test.shape"
   ]
  },
  {
   "cell_type": "code",
   "execution_count": 342,
   "metadata": {
    "colab": {
     "base_uri": "https://localhost:8080/"
    },
    "id": "Ba2aVr6trdbm",
    "outputId": "21b24b54-2c8f-43a7-8bec-8de941b82396"
   },
   "outputs": [
    {
     "name": "stdout",
     "output_type": "stream",
     "text": [
      "4/4 [==============================] - 11s 1s/step\n"
     ]
    }
   ],
   "source": [
    "y_pred=model_m2.predict(X_test)"
   ]
  },
  {
   "cell_type": "code",
   "execution_count": 352,
   "metadata": {
    "id": "WwEIWoxotf35"
   },
   "outputs": [],
   "source": [
    "y1=X_test[0]"
   ]
  },
  {
   "cell_type": "code",
   "execution_count": 354,
   "metadata": {},
   "outputs": [
    {
     "data": {
      "text/plain": [
       "(2, 71, 142)"
      ]
     },
     "execution_count": 354,
     "metadata": {},
     "output_type": "execute_result"
    }
   ],
   "source": [
    "y1.shape"
   ]
  },
  {
   "cell_type": "code",
   "execution_count": 355,
   "metadata": {
    "id": "ePge-fKZuNTP"
   },
   "outputs": [],
   "source": [
    "y1=y1.reshape(1,2,71,142,1)"
   ]
  },
  {
   "cell_type": "code",
   "execution_count": 356,
   "metadata": {
    "colab": {
     "base_uri": "https://localhost:8080/"
    },
    "id": "jOqUeQ3atn6i",
    "outputId": "d7fbee9c-ad2c-48bc-dfff-c2ac276d3ca0"
   },
   "outputs": [],
   "source": [
    "# y1\n"
   ]
  },
  {
   "cell_type": "code",
   "execution_count": 357,
   "metadata": {},
   "outputs": [
    {
     "data": {
      "text/plain": [
       "(1, 2, 71, 142, 1)"
      ]
     },
     "execution_count": 357,
     "metadata": {},
     "output_type": "execute_result"
    }
   ],
   "source": [
    "y1.shape"
   ]
  },
  {
   "cell_type": "code",
   "execution_count": 358,
   "metadata": {
    "colab": {
     "base_uri": "https://localhost:8080/"
    },
    "id": "QIVzrtuKs9HR",
    "outputId": "a60885ce-459a-4236-f941-8e8b3cf555be"
   },
   "outputs": [
    {
     "name": "stdout",
     "output_type": "stream",
     "text": [
      "4/4 [==============================] - 4s 1s/step\n"
     ]
    }
   ],
   "source": [
    "y_pred=model_m2.predict(X_test)"
   ]
  },
  {
   "cell_type": "code",
   "execution_count": 359,
   "metadata": {
    "colab": {
     "base_uri": "https://localhost:8080/"
    },
    "id": "VrqOVAzytBTk",
    "outputId": "cfa044d9-4c09-4850-a584-5fab6d6d2ab7"
   },
   "outputs": [
    {
     "data": {
      "text/plain": [
       "0.004431289216014604"
      ]
     },
     "execution_count": 359,
     "metadata": {},
     "output_type": "execute_result"
    }
   ],
   "source": [
    "mean_squared_error(y_test,y_pred)"
   ]
  },
  {
   "cell_type": "markdown",
   "metadata": {
    "id": "HwGkGCmEQVRc"
   },
   "source": [
    "## M1-> M2 -> M2"
   ]
  },
  {
   "cell_type": "code",
   "execution_count": 381,
   "metadata": {
    "colab": {
     "base_uri": "https://localhost:8080/"
    },
    "id": "b7Jms5xyQxOs",
    "outputId": "65100aa8-9730-4253-c919-818ea15aad6e"
   },
   "outputs": [],
   "source": [
    "img_1 = np.array(img_1)"
   ]
  },
  {
   "cell_type": "code",
   "execution_count": 382,
   "metadata": {
    "colab": {
     "base_uri": "https://localhost:8080/"
    },
    "id": "DWyFDnD2Q7C_",
    "outputId": "1c3d7cf6-cefb-46ca-82bf-ba86900c3267"
   },
   "outputs": [
    {
     "data": {
      "text/plain": [
       "(58, 1, 71, 142)"
      ]
     },
     "execution_count": 382,
     "metadata": {},
     "output_type": "execute_result"
    }
   ],
   "source": [
    "y_pred_t2.shape"
   ]
  },
  {
   "cell_type": "code",
   "execution_count": 383,
   "metadata": {
    "id": "7awyLXlUQ9TZ"
   },
   "outputs": [],
   "source": [
    "img_12=[]\n",
    "for i in range(0,58):\n",
    "  img_12.append(img_1[i])\n",
    "  img_12.append(y_pred_t2[i])"
   ]
  },
  {
   "cell_type": "code",
   "execution_count": 384,
   "metadata": {
    "colab": {
     "base_uri": "https://localhost:8080/"
    },
    "id": "p6ARXAUmRitd",
    "outputId": "3cc8d1ff-d831-4728-aab8-445e9bdad4d1"
   },
   "outputs": [
    {
     "data": {
      "text/plain": [
       "116"
      ]
     },
     "execution_count": 384,
     "metadata": {},
     "output_type": "execute_result"
    }
   ],
   "source": [
    "len(img_12)"
   ]
  },
  {
   "cell_type": "code",
   "execution_count": 385,
   "metadata": {},
   "outputs": [
    {
     "name": "stderr",
     "output_type": "stream",
     "text": [
      "/tmp/ipykernel_16265/2888126387.py:1: VisibleDeprecationWarning: Creating an ndarray from ragged nested sequences (which is a list-or-tuple of lists-or-tuples-or ndarrays with different lengths or shapes) is deprecated. If you meant to do this, you must specify 'dtype=object' when creating the ndarray.\n",
      "  img_12 = np.array(img_12)\n"
     ]
    }
   ],
   "source": [
    "img_12 = np.array(img_12)"
   ]
  },
  {
   "cell_type": "code",
   "execution_count": 386,
   "metadata": {
    "id": "LzlRHQ7laQNJ"
   },
   "outputs": [],
   "source": [
    "# img_12_1=np.array(img_12_1)"
   ]
  },
  {
   "cell_type": "code",
   "execution_count": 387,
   "metadata": {
    "id": "EKGLhQpkukfC"
   },
   "outputs": [],
   "source": [
    "# img_12_2=np.array(img_12_2)"
   ]
  },
  {
   "cell_type": "code",
   "execution_count": 392,
   "metadata": {
    "id": "3qGaGCSvaVj4"
   },
   "outputs": [],
   "source": [
    "img_12=img_12.reshape(58,2)"
   ]
  },
  {
   "cell_type": "code",
   "execution_count": null,
   "metadata": {
    "id": "EH8v5jq0uua1"
   },
   "outputs": [],
   "source": [
    "# img_12_2=img_12_2.reshape(58,2,6,6)"
   ]
  },
  {
   "cell_type": "code",
   "execution_count": 390,
   "metadata": {
    "id": "Iu6g3Pd6Rx9F"
   },
   "outputs": [
    {
     "name": "stdout",
     "output_type": "stream",
     "text": [
      "Keras model archive loading:\n",
      "File Name                                             Modified             Size\n",
      "config.json                                    2024-08-19 00:29:40         3026\n",
      "variables.h5                                   2024-08-19 00:30:22  35799057264\n",
      "metadata.json                                  2024-08-19 00:29:40           64\n",
      "Keras weights file (<HDF5 file \"variables.h5\" (mode r)>) loading:\n",
      "...layers\n",
      "......conv_lstm2d\n",
      ".........cell\n",
      "............vars\n",
      "...............0\n",
      "...............1\n",
      "...............2\n",
      ".........vars\n",
      "......conv_lstm2d_1\n",
      ".........cell\n",
      "............vars\n",
      "...............0\n",
      "...............1\n",
      "...............2\n",
      ".........vars\n",
      "......dense\n",
      ".........vars\n",
      "............0\n",
      "............1\n",
      "......flatten\n",
      ".........vars\n",
      "...metrics\n",
      "......mean\n",
      ".........vars\n",
      "............0\n",
      "............1\n",
      "...optimizer\n",
      "......vars\n",
      ".........0\n",
      ".........1\n",
      ".........10\n",
      ".........11\n",
      ".........12\n",
      ".........13\n",
      ".........14\n",
      ".........15\n",
      ".........16\n",
      ".........2\n",
      ".........3\n",
      ".........4\n",
      ".........5\n",
      ".........6\n",
      ".........7\n",
      ".........8\n",
      ".........9\n",
      "...vars\n"
     ]
    }
   ],
   "source": [
    "model_m2=joblib.load(\"Model_M2.pkl\")"
   ]
  },
  {
   "cell_type": "code",
   "execution_count": 395,
   "metadata": {
    "colab": {
     "base_uri": "https://localhost:8080/"
    },
    "id": "6oCKLRJPTGP1",
    "outputId": "aa4f6e9f-137e-4c6b-b72a-d29cd5537933",
    "scrolled": true
   },
   "outputs": [
    {
     "ename": "ValueError",
     "evalue": "Failed to convert a NumPy array to a Tensor (Unsupported object type numpy.ndarray).",
     "output_type": "error",
     "traceback": [
      "\u001b[0;31m---------------------------------------------------------------------------\u001b[0m",
      "\u001b[0;31mValueError\u001b[0m                                Traceback (most recent call last)",
      "Cell \u001b[0;32mIn[395], line 1\u001b[0m\n\u001b[0;32m----> 1\u001b[0m y_pred_t3_g12\u001b[38;5;241m=\u001b[39m\u001b[43mmodel_m2\u001b[49m\u001b[38;5;241;43m.\u001b[39;49m\u001b[43mpredict\u001b[49m\u001b[43m(\u001b[49m\u001b[43mimg_12\u001b[49m\u001b[43m)\u001b[49m\n",
      "File \u001b[0;32m~/project1/venv/lib/python3.8/site-packages/keras/utils/traceback_utils.py:70\u001b[0m, in \u001b[0;36mfilter_traceback.<locals>.error_handler\u001b[0;34m(*args, **kwargs)\u001b[0m\n\u001b[1;32m     67\u001b[0m     filtered_tb \u001b[38;5;241m=\u001b[39m _process_traceback_frames(e\u001b[38;5;241m.\u001b[39m__traceback__)\n\u001b[1;32m     68\u001b[0m     \u001b[38;5;66;03m# To get the full stack trace, call:\u001b[39;00m\n\u001b[1;32m     69\u001b[0m     \u001b[38;5;66;03m# `tf.debugging.disable_traceback_filtering()`\u001b[39;00m\n\u001b[0;32m---> 70\u001b[0m     \u001b[38;5;28;01mraise\u001b[39;00m e\u001b[38;5;241m.\u001b[39mwith_traceback(filtered_tb) \u001b[38;5;28;01mfrom\u001b[39;00m \u001b[38;5;28mNone\u001b[39m\n\u001b[1;32m     71\u001b[0m \u001b[38;5;28;01mfinally\u001b[39;00m:\n\u001b[1;32m     72\u001b[0m     \u001b[38;5;28;01mdel\u001b[39;00m filtered_tb\n",
      "File \u001b[0;32m~/project1/venv/lib/python3.8/site-packages/tensorflow/python/framework/constant_op.py:102\u001b[0m, in \u001b[0;36mconvert_to_eager_tensor\u001b[0;34m(value, ctx, dtype)\u001b[0m\n\u001b[1;32m    100\u001b[0m     dtype \u001b[38;5;241m=\u001b[39m dtypes\u001b[38;5;241m.\u001b[39mas_dtype(dtype)\u001b[38;5;241m.\u001b[39mas_datatype_enum\n\u001b[1;32m    101\u001b[0m ctx\u001b[38;5;241m.\u001b[39mensure_initialized()\n\u001b[0;32m--> 102\u001b[0m \u001b[38;5;28;01mreturn\u001b[39;00m \u001b[43mops\u001b[49m\u001b[38;5;241;43m.\u001b[39;49m\u001b[43mEagerTensor\u001b[49m\u001b[43m(\u001b[49m\u001b[43mvalue\u001b[49m\u001b[43m,\u001b[49m\u001b[43m \u001b[49m\u001b[43mctx\u001b[49m\u001b[38;5;241;43m.\u001b[39;49m\u001b[43mdevice_name\u001b[49m\u001b[43m,\u001b[49m\u001b[43m \u001b[49m\u001b[43mdtype\u001b[49m\u001b[43m)\u001b[49m\n",
      "\u001b[0;31mValueError\u001b[0m: Failed to convert a NumPy array to a Tensor (Unsupported object type numpy.ndarray)."
     ]
    }
   ],
   "source": [
    "y_pred_t3_g12=model_m2.predict(img_12)"
   ]
  },
  {
   "cell_type": "code",
   "execution_count": 396,
   "metadata": {
    "colab": {
     "base_uri": "https://localhost:8080/"
    },
    "id": "VTLvYzn-TglG",
    "outputId": "443a6b33-e1dc-419f-ac98-a9edbfa228f5"
   },
   "outputs": [
    {
     "ename": "NameError",
     "evalue": "name 'y_pred_t3_g12' is not defined",
     "output_type": "error",
     "traceback": [
      "\u001b[0;31m---------------------------------------------------------------------------\u001b[0m",
      "\u001b[0;31mNameError\u001b[0m                                 Traceback (most recent call last)",
      "Cell \u001b[0;32mIn[396], line 1\u001b[0m\n\u001b[0;32m----> 1\u001b[0m mean_squared_error(img_3,\u001b[43my_pred_t3_g12\u001b[49m)\n",
      "\u001b[0;31mNameError\u001b[0m: name 'y_pred_t3_g12' is not defined"
     ]
    }
   ],
   "source": [
    "mean_squared_error(img_3,y_pred_t3_g12)"
   ]
  },
  {
   "cell_type": "code",
   "execution_count": 397,
   "metadata": {
    "colab": {
     "base_uri": "https://localhost:8080/"
    },
    "id": "SWuo99z0vBbF",
    "outputId": "3f3e0668-81d1-43d7-9fb3-5a55e4c4b66f"
   },
   "outputs": [
    {
     "ename": "NameError",
     "evalue": "name 'y_pred_t3_g12' is not defined",
     "output_type": "error",
     "traceback": [
      "\u001b[0;31m---------------------------------------------------------------------------\u001b[0m",
      "\u001b[0;31mNameError\u001b[0m                                 Traceback (most recent call last)",
      "Cell \u001b[0;32mIn[397], line 1\u001b[0m\n\u001b[0;32m----> 1\u001b[0m mean_squared_error(img_3,\u001b[43my_pred_t3_g12\u001b[49m)\n",
      "\u001b[0;31mNameError\u001b[0m: name 'y_pred_t3_g12' is not defined"
     ]
    }
   ],
   "source": [
    "mean_squared_error(img_3,y_pred_t3_g12)"
   ]
  },
  {
   "cell_type": "code",
   "execution_count": null,
   "metadata": {
    "colab": {
     "base_uri": "https://localhost:8080/"
    },
    "id": "kPs_ViSGapo3",
    "outputId": "463c8b17-fc9b-4cd5-9013-3f1e3c5ce4a9"
   },
   "outputs": [
    {
     "data": {
      "text/plain": [
       "0.05252315462819489"
      ]
     },
     "execution_count": 199,
     "metadata": {},
     "output_type": "execute_result"
    }
   ],
   "source": [
    "mean_squared_error(img_3,y_pred_t3_1_g12)"
   ]
  },
  {
   "cell_type": "code",
   "execution_count": null,
   "metadata": {
    "colab": {
     "base_uri": "https://localhost:8080/"
    },
    "id": "9wLbHmq2vFj0",
    "outputId": "541b8830-25c2-4a97-d140-491d5b232922"
   },
   "outputs": [
    {
     "data": {
      "text/plain": [
       "0.050641805058997624"
      ]
     },
     "execution_count": 60,
     "metadata": {},
     "output_type": "execute_result"
    }
   ],
   "source": [
    "mean_squared_error(img_3,y_pred_t3_1_g12)"
   ]
  },
  {
   "cell_type": "code",
   "execution_count": null,
   "metadata": {
    "colab": {
     "base_uri": "https://localhost:8080/"
    },
    "id": "8ab6D_ltvITu",
    "outputId": "1709762d-eeb9-4288-dbd1-11fbaac4feb2"
   },
   "outputs": [
    {
     "data": {
      "text/plain": [
       "0.05033430854641144"
      ]
     },
     "execution_count": 80,
     "metadata": {},
     "output_type": "execute_result"
    }
   ],
   "source": [
    "mean_squared_error(img_3,y_pred_t3_2_g12)"
   ]
  },
  {
   "cell_type": "code",
   "execution_count": null,
   "metadata": {
    "id": "H5HJzyYoTm2B"
   },
   "outputs": [],
   "source": [
    "y_pred_t3_g12=y_pred_t3_g12.reshape(58,1,6,6)"
   ]
  },
  {
   "cell_type": "code",
   "execution_count": null,
   "metadata": {
    "id": "noEHga2Dax1O"
   },
   "outputs": [],
   "source": [
    "y_pred_t3_1_g12=y_pred_t3_1_g12.reshape(58,1,6,6)"
   ]
  },
  {
   "cell_type": "code",
   "execution_count": null,
   "metadata": {
    "id": "U4nJHslJve_y"
   },
   "outputs": [],
   "source": [
    "y_pred_t3_2_g12=y_pred_t3_2_g12.reshape(58,1,6,6)"
   ]
  },
  {
   "cell_type": "code",
   "execution_count": null,
   "metadata": {
    "id": "Ph8iOPJdUAav"
   },
   "outputs": [],
   "source": [
    "img_23=[]\n",
    "for i in range(58):\n",
    "  img_23.append(y_pred_t2[i])\n",
    "  img_23.append(y_pred_t3_g12[i])"
   ]
  },
  {
   "cell_type": "code",
   "execution_count": null,
   "metadata": {
    "id": "L3ASIy4fa36M"
   },
   "outputs": [],
   "source": [
    "img_23_1=[]\n",
    "for i in range(58):\n",
    "  img_23_1.append(y_pred_t2_1[i])\n",
    "  img_23_1.append(y_pred_t3_1_g12[i])"
   ]
  },
  {
   "cell_type": "code",
   "execution_count": null,
   "metadata": {
    "id": "FHw9pxoCvi7N"
   },
   "outputs": [],
   "source": [
    "img_23_2=[]\n",
    "for i in range(58):\n",
    "  img_23_2.append(y_pred_t2_2[i])\n",
    "  img_23_2.append(y_pred_t3_2_g12[i])"
   ]
  },
  {
   "cell_type": "code",
   "execution_count": null,
   "metadata": {
    "id": "TIRN-isSUVT8"
   },
   "outputs": [],
   "source": [
    "img_23=np.array(img_23)"
   ]
  },
  {
   "cell_type": "code",
   "execution_count": null,
   "metadata": {
    "id": "Mn9zwvbSbCmK"
   },
   "outputs": [],
   "source": [
    "img_23_1=np.array(img_23_1)"
   ]
  },
  {
   "cell_type": "code",
   "execution_count": null,
   "metadata": {
    "id": "ftW96P_QvoLc"
   },
   "outputs": [],
   "source": [
    "img_23_2=np.array(img_23_2)"
   ]
  },
  {
   "cell_type": "code",
   "execution_count": null,
   "metadata": {
    "colab": {
     "base_uri": "https://localhost:8080/"
    },
    "id": "a3-arWVgUf7r",
    "outputId": "395f2f1c-e53e-4e22-a939-20401ba3b34e"
   },
   "outputs": [
    {
     "data": {
      "text/plain": [
       "(116, 1, 6, 6)"
      ]
     },
     "execution_count": 71,
     "metadata": {},
     "output_type": "execute_result"
    }
   ],
   "source": [
    "img_23.shape"
   ]
  },
  {
   "cell_type": "code",
   "execution_count": null,
   "metadata": {
    "colab": {
     "base_uri": "https://localhost:8080/"
    },
    "id": "iHvh-LLGbP6U",
    "outputId": "67ba6056-54f1-4738-b907-7b307c8d7f17"
   },
   "outputs": [
    {
     "data": {
      "text/plain": [
       "(116, 1, 6, 6)"
      ]
     },
     "execution_count": 72,
     "metadata": {},
     "output_type": "execute_result"
    }
   ],
   "source": [
    "img_23_1.shape"
   ]
  },
  {
   "cell_type": "code",
   "execution_count": null,
   "metadata": {
    "id": "ZjGHZVxGvsKR"
   },
   "outputs": [],
   "source": [
    "img_23_2=np.array(img_23_2)"
   ]
  },
  {
   "cell_type": "code",
   "execution_count": null,
   "metadata": {
    "id": "TNu-D_kiUmFG"
   },
   "outputs": [],
   "source": [
    "img_23=img_23.reshape(58,2,6,6)"
   ]
  },
  {
   "cell_type": "code",
   "execution_count": null,
   "metadata": {
    "id": "UTwfB7mBbS3c"
   },
   "outputs": [],
   "source": [
    "img_23_1=img_23_1.reshape(58,2,6,6)"
   ]
  },
  {
   "cell_type": "code",
   "execution_count": null,
   "metadata": {
    "id": "Ln-7lRsAvxTC"
   },
   "outputs": [],
   "source": [
    "img_23_2=img_23_2.reshape(58,2,6,6)"
   ]
  },
  {
   "cell_type": "code",
   "execution_count": null,
   "metadata": {
    "colab": {
     "base_uri": "https://localhost:8080/"
    },
    "id": "J6cYHop9UurN",
    "outputId": "5b43810b-1c56-45b1-80e0-d6dfc5c942d8"
   },
   "outputs": [
    {
     "name": "stdout",
     "output_type": "stream",
     "text": [
      "2/2 [==============================] - 0s 47ms/step\n"
     ]
    }
   ],
   "source": [
    "y_pred_t4_g23=model_m2.predict(img_23)"
   ]
  },
  {
   "cell_type": "code",
   "execution_count": null,
   "metadata": {
    "colab": {
     "base_uri": "https://localhost:8080/"
    },
    "id": "ffi3IdA7bg21",
    "outputId": "f0cd1906-cf2e-4e53-96aa-3f77f4446334"
   },
   "outputs": [
    {
     "name": "stdout",
     "output_type": "stream",
     "text": [
      "2/2 [==============================] - 0s 33ms/step\n"
     ]
    }
   ],
   "source": [
    "y_pred_t4_g23_1=model1_m2.predict(img_23_1)"
   ]
  },
  {
   "cell_type": "code",
   "execution_count": null,
   "metadata": {
    "colab": {
     "base_uri": "https://localhost:8080/"
    },
    "id": "bPHrrURev1J8",
    "outputId": "8bb04f2d-f86f-484f-9cb5-c87eb43c3ce1"
   },
   "outputs": [
    {
     "name": "stdout",
     "output_type": "stream",
     "text": [
      "2/2 [==============================] - 0s 29ms/step\n"
     ]
    }
   ],
   "source": [
    "y_pred_t4_g23_2=model2_m2.predict(img_23_2)"
   ]
  },
  {
   "cell_type": "code",
   "execution_count": null,
   "metadata": {
    "colab": {
     "base_uri": "https://localhost:8080/"
    },
    "id": "VU3hCF1EU3Gj",
    "outputId": "5532967d-8595-4bda-f75d-890c6be8e5d8"
   },
   "outputs": [
    {
     "data": {
      "text/plain": [
       "0.07889286052549971"
      ]
     },
     "execution_count": 177,
     "metadata": {},
     "output_type": "execute_result"
    }
   ],
   "source": [
    "mean_squared_error(img_4,y_pred_t4_g23)"
   ]
  },
  {
   "cell_type": "code",
   "execution_count": null,
   "metadata": {
    "colab": {
     "base_uri": "https://localhost:8080/"
    },
    "id": "VKXpK-BAwIPM",
    "outputId": "e59fca9a-9509-4bdc-f6de-12d7575c2dd6"
   },
   "outputs": [
    {
     "data": {
      "text/plain": [
       "0.0740800699336094"
      ]
     },
     "execution_count": 86,
     "metadata": {},
     "output_type": "execute_result"
    }
   ],
   "source": [
    "mean_squared_error(img_4,y_pred_t4_g23)"
   ]
  },
  {
   "cell_type": "code",
   "execution_count": null,
   "metadata": {
    "colab": {
     "base_uri": "https://localhost:8080/"
    },
    "id": "iTIZGVmUbk7v",
    "outputId": "9cd69b07-f665-4643-a773-f412c0b837aa"
   },
   "outputs": [
    {
     "data": {
      "text/plain": [
       "0.07041369808139702"
      ]
     },
     "execution_count": 207,
     "metadata": {},
     "output_type": "execute_result"
    }
   ],
   "source": [
    "mean_squared_error(img_4,y_pred_t4_g23_1)"
   ]
  },
  {
   "cell_type": "code",
   "execution_count": null,
   "metadata": {
    "colab": {
     "base_uri": "https://localhost:8080/"
    },
    "id": "jFzgnizZwKwa",
    "outputId": "69076f89-a45a-4cc6-c731-5fdf49cc0cd4"
   },
   "outputs": [
    {
     "data": {
      "text/plain": [
       "0.0629248770457718"
      ]
     },
     "execution_count": 87,
     "metadata": {},
     "output_type": "execute_result"
    }
   ],
   "source": [
    "mean_squared_error(img_4,y_pred_t4_g23_1)"
   ]
  },
  {
   "cell_type": "code",
   "execution_count": null,
   "metadata": {
    "colab": {
     "base_uri": "https://localhost:8080/"
    },
    "id": "reJfvaH2U8Sx",
    "outputId": "d39f3bef-7d8c-4513-a63c-9cb03fca1166"
   },
   "outputs": [
    {
     "data": {
      "text/plain": [
       "0.06264315544909943"
      ]
     },
     "execution_count": 88,
     "metadata": {},
     "output_type": "execute_result"
    }
   ],
   "source": [
    "mean_squared_error(img_4,y_pred_t4_g23_2)"
   ]
  },
  {
   "cell_type": "markdown",
   "metadata": {
    "id": "Annaz0c-VAra"
   },
   "source": [
    "## M1->M2->M3"
   ]
  },
  {
   "cell_type": "code",
   "execution_count": null,
   "metadata": {
    "id": "xA9K5krcVDA4"
   },
   "outputs": [],
   "source": [
    "img_123=[]\n",
    "for i in range(58):\n",
    "  img_123.append(img_1[i])\n",
    "  img_123.append(y_pred_t2[i])\n",
    "  img_123.append(y_pred_t3_g12[i])"
   ]
  },
  {
   "cell_type": "code",
   "execution_count": null,
   "metadata": {
    "id": "ERQ3LgLFbprK"
   },
   "outputs": [],
   "source": [
    "img_123_1=[]\n",
    "for i in range(58):\n",
    "  img_123_1.append(img_1[i])\n",
    "  img_123_1.append(y_pred_t2_1[i])\n",
    "  img_123_1.append(y_pred_t3_1_g12[i])"
   ]
  },
  {
   "cell_type": "code",
   "execution_count": null,
   "metadata": {
    "id": "bTqWZonMwpW3"
   },
   "outputs": [],
   "source": [
    "img_123_2=[]\n",
    "for i in range(58):\n",
    "  img_123_2.append(img_1[i])\n",
    "  img_123_2.append(y_pred_t2_2[i])\n",
    "  img_123_2.append(y_pred_t3_2_g12[i])"
   ]
  },
  {
   "cell_type": "code",
   "execution_count": null,
   "metadata": {
    "id": "qUAXcxkSVsW4"
   },
   "outputs": [],
   "source": [
    "img_123=np.array(img_123)"
   ]
  },
  {
   "cell_type": "code",
   "execution_count": null,
   "metadata": {
    "id": "uH9knByAbwWd"
   },
   "outputs": [],
   "source": [
    "img_123_1=np.array(img_123_1)"
   ]
  },
  {
   "cell_type": "code",
   "execution_count": null,
   "metadata": {
    "id": "Ia01N4rswuPd"
   },
   "outputs": [],
   "source": [
    "img_123_2=np.array(img_123_2)"
   ]
  },
  {
   "cell_type": "code",
   "execution_count": null,
   "metadata": {
    "colab": {
     "base_uri": "https://localhost:8080/"
    },
    "id": "W1HgJ7f9Vusz",
    "outputId": "414379e5-fd3a-44ea-9e0c-aa4bee5b45e8"
   },
   "outputs": [
    {
     "data": {
      "text/plain": [
       "(174, 1, 6, 6)"
      ]
     },
     "execution_count": 180,
     "metadata": {},
     "output_type": "execute_result"
    }
   ],
   "source": [
    "img_123.shape"
   ]
  },
  {
   "cell_type": "code",
   "execution_count": null,
   "metadata": {
    "id": "gL-OngPtVwnk"
   },
   "outputs": [],
   "source": [
    "img_123=img_123.reshape(58,3,6,6)"
   ]
  },
  {
   "cell_type": "code",
   "execution_count": null,
   "metadata": {
    "id": "bKek2kQAb5d1"
   },
   "outputs": [],
   "source": [
    "img_123_1=img_123_1.reshape(58,3,6,6)"
   ]
  },
  {
   "cell_type": "code",
   "execution_count": null,
   "metadata": {
    "id": "aavanHtrw0G1"
   },
   "outputs": [],
   "source": [
    "img_123_2=img_123_2.reshape(58,3,6,6)"
   ]
  },
  {
   "cell_type": "code",
   "execution_count": null,
   "metadata": {
    "id": "kjiycmrVV1oO"
   },
   "outputs": [],
   "source": [
    "model_m3=joblib.load(\"drive/MyDrive/Model_M3.pkl\")"
   ]
  },
  {
   "cell_type": "code",
   "execution_count": null,
   "metadata": {
    "id": "fAAifTMjb_sh"
   },
   "outputs": [],
   "source": [
    "model1_m3=joblib.load(\"drive/MyDrive/Model1_M3.pkl\")"
   ]
  },
  {
   "cell_type": "code",
   "execution_count": null,
   "metadata": {
    "id": "2sE1TsxAw58v"
   },
   "outputs": [],
   "source": [
    "model2_m3=joblib.load(\"drive/MyDrive/Model2_M3.pkl\")"
   ]
  },
  {
   "cell_type": "code",
   "execution_count": null,
   "metadata": {
    "colab": {
     "base_uri": "https://localhost:8080/"
    },
    "id": "LmUJejlFV_Oy",
    "outputId": "d9b0d686-6931-4a3b-d3ba-495dbbeba624"
   },
   "outputs": [
    {
     "name": "stdout",
     "output_type": "stream",
     "text": [
      "2/2 [==============================] - 1s 29ms/step\n"
     ]
    }
   ],
   "source": [
    "y_pred_t4_g123=model_m3.predict(img_123)"
   ]
  },
  {
   "cell_type": "code",
   "execution_count": null,
   "metadata": {
    "colab": {
     "base_uri": "https://localhost:8080/"
    },
    "id": "uBIicDvBcCM-",
    "outputId": "aa8070da-9fcf-47dc-eb99-96e1eab9384f"
   },
   "outputs": [
    {
     "name": "stdout",
     "output_type": "stream",
     "text": [
      "2/2 [==============================] - 1s 27ms/step\n"
     ]
    }
   ],
   "source": [
    "y_pred_t4_g123_1=model1_m3.predict(img_123_1)"
   ]
  },
  {
   "cell_type": "code",
   "execution_count": null,
   "metadata": {
    "colab": {
     "base_uri": "https://localhost:8080/"
    },
    "id": "ro4SYNr8w_YI",
    "outputId": "f66b2a41-e4fb-43ee-a75f-41cf9950b97c"
   },
   "outputs": [
    {
     "name": "stderr",
     "output_type": "stream",
     "text": [
      "WARNING:tensorflow:5 out of the last 17 calls to <function Model.make_predict_function.<locals>.predict_function at 0x7c4fdd022290> triggered tf.function retracing. Tracing is expensive and the excessive number of tracings could be due to (1) creating @tf.function repeatedly in a loop, (2) passing tensors with different shapes, (3) passing Python objects instead of tensors. For (1), please define your @tf.function outside of the loop. For (2), @tf.function has reduce_retracing=True option that can avoid unnecessary retracing. For (3), please refer to https://www.tensorflow.org/guide/function#controlling_retracing and https://www.tensorflow.org/api_docs/python/tf/function for  more details.\n"
     ]
    },
    {
     "name": "stdout",
     "output_type": "stream",
     "text": [
      "2/2 [==============================] - 2s 39ms/step\n"
     ]
    }
   ],
   "source": [
    "y_pred_t4_g123_2=model2_m3.predict(img_123_2)"
   ]
  },
  {
   "cell_type": "code",
   "execution_count": null,
   "metadata": {
    "colab": {
     "base_uri": "https://localhost:8080/"
    },
    "id": "yejdnx3bWIkr",
    "outputId": "229bf333-6416-4fe1-e454-bdd56200e640"
   },
   "outputs": [
    {
     "data": {
      "text/plain": [
       "0.06402338499694424"
      ]
     },
     "execution_count": 185,
     "metadata": {},
     "output_type": "execute_result"
    }
   ],
   "source": [
    "mean_squared_error(img_4,y_pred_t4_g123)"
   ]
  },
  {
   "cell_type": "code",
   "execution_count": null,
   "metadata": {
    "colab": {
     "base_uri": "https://localhost:8080/"
    },
    "id": "QhVsxAkqxDJ_",
    "outputId": "d8a4293f-1680-4ea0-b39a-377ffeb5d0de"
   },
   "outputs": [
    {
     "data": {
      "text/plain": [
       "0.06499738733691279"
      ]
     },
     "execution_count": 104,
     "metadata": {},
     "output_type": "execute_result"
    }
   ],
   "source": [
    "mean_squared_error(img_4,y_pred_t4_g123)"
   ]
  },
  {
   "cell_type": "code",
   "execution_count": null,
   "metadata": {
    "colab": {
     "base_uri": "https://localhost:8080/"
    },
    "id": "nhbHVwj3WNwi",
    "outputId": "d1f0b84f-00a7-4c18-ddca-e46b60fdad4d"
   },
   "outputs": [
    {
     "data": {
      "text/plain": [
       "0.0743933812981379"
      ]
     },
     "execution_count": 213,
     "metadata": {},
     "output_type": "execute_result"
    }
   ],
   "source": [
    "mean_squared_error(img_4,y_pred_t4_g123_1)"
   ]
  },
  {
   "cell_type": "code",
   "execution_count": null,
   "metadata": {
    "colab": {
     "base_uri": "https://localhost:8080/"
    },
    "id": "kGLgsXbxxFJ5",
    "outputId": "bb32900d-a9ea-4265-a4f2-469fc1d86244"
   },
   "outputs": [
    {
     "data": {
      "text/plain": [
       "0.07515876812427952"
      ]
     },
     "execution_count": 105,
     "metadata": {},
     "output_type": "execute_result"
    }
   ],
   "source": [
    "mean_squared_error(img_4,y_pred_t4_g123_1)"
   ]
  },
  {
   "cell_type": "code",
   "execution_count": null,
   "metadata": {
    "colab": {
     "base_uri": "https://localhost:8080/"
    },
    "id": "c9xKpIpjxGsa",
    "outputId": "5b434602-1ec7-497e-fc00-081adcb086cf"
   },
   "outputs": [
    {
     "data": {
      "text/plain": [
       "0.06984065631127082"
      ]
     },
     "execution_count": 106,
     "metadata": {},
     "output_type": "execute_result"
    }
   ],
   "source": [
    "mean_squared_error(img_4,y_pred_t4_g123_2)"
   ]
  },
  {
   "cell_type": "markdown",
   "metadata": {
    "id": "9LbYcbiSV5er"
   },
   "source": [
    "## Vanilla LSTM for Tabular Data - M1\n",
    "\n"
   ]
  },
  {
   "cell_type": "code",
   "execution_count": null,
   "metadata": {
    "id": "BFziJGnsWfcO"
   },
   "outputs": [],
   "source": [
    "import pandas as pd\n",
    "df=pd.read_excel(\"ftd_temporal_processed.xlsx\",index_col=\"ID\")"
   ]
  },
  {
   "cell_type": "code",
   "execution_count": null,
   "metadata": {
    "colab": {
     "base_uri": "https://localhost:8080/"
    },
    "id": "QUQFZPihV8DQ",
    "outputId": "99be0d55-e15e-46e5-8bf4-ec80e9ab68e7"
   },
   "outputs": [
    {
     "name": "stdout",
     "output_type": "stream",
     "text": [
      "[0, 1, 2, 3]\n",
      "[4, 5, 6, 7]\n",
      "[8, 9, 10, 11]\n",
      "[12, 13, 14, 15]\n",
      "[16, 17, 18, 19]\n",
      "[20, 21, 22, 23]\n",
      "[24, 25, 26, 27]\n",
      "[28, 29, 30, 31]\n",
      "[32, 33, 34, 35]\n",
      "[36, 37, 38, 39]\n",
      "[40, 41, 42, 43]\n",
      "[44, 45, 46, 47]\n",
      "[48, 49, 50, 51]\n",
      "[52, 53, 54, 55]\n",
      "[56, 57, 58, 59]\n",
      "[60, 61, 62, 63]\n",
      "[64, 65, 66, 67]\n",
      "[68, 69, 70, 71]\n",
      "[72, 73, 74, 75]\n",
      "[76, 77, 78, 79]\n",
      "[80, 81, 82, 83]\n",
      "[84, 85, 86, 87]\n",
      "[88, 89, 90, 91]\n",
      "[92, 93, 94, 95]\n",
      "[96, 97, 98, 99]\n",
      "[100, 101, 102, 103]\n",
      "[104, 105, 106, 107]\n",
      "[108, 109, 110, 111]\n",
      "[112, 113, 114, 115]\n",
      "[116, 117, 118, 119]\n",
      "[120, 121, 122, 123]\n",
      "[124, 125, 126, 127]\n",
      "[128, 129, 130, 131]\n",
      "[132, 133, 134, 135]\n",
      "[136, 137, 138, 139]\n",
      "[140, 141, 142, 143]\n",
      "[144, 145, 146, 147]\n",
      "[148, 149, 150, 151]\n",
      "[152, 153, 154, 155]\n",
      "[156, 157, 158, 159]\n",
      "[160, 161, 162, 163]\n",
      "[164, 165, 166, 167]\n",
      "[168, 169, 170, 171]\n",
      "[172, 173, 174, 175]\n",
      "[176, 177, 178, 179]\n",
      "[180, 181, 182, 183]\n",
      "[184, 185, 186, 187]\n",
      "[188, 189, 190, 191]\n",
      "[192, 193, 194, 195]\n",
      "[196, 197, 198, 199]\n",
      "[200, 201, 202, 203]\n",
      "[204, 205, 206, 207]\n",
      "[208, 209, 210, 211]\n",
      "[212, 213, 214, 215]\n",
      "[216, 217, 218, 219]\n",
      "[220, 221, 222, 223]\n",
      "[224, 225, 226, 227]\n",
      "[228, 229, 230, 231]\n",
      "[232, 233, 234, 235]\n",
      "[236, 237, 238, 239]\n",
      "[240, 241, 242, 243]\n",
      "[244, 245, 246, 247]\n",
      "[248, 249, 250, 251]\n",
      "[252, 253, 254, 255]\n",
      "[256, 257, 258, 259]\n",
      "[260, 261, 262, 263]\n",
      "[264, 265, 266, 267]\n",
      "[268, 269, 270, 271]\n",
      "[272, 273, 274, 275]\n",
      "[276, 277, 278, 279]\n",
      "[280, 281, 282, 283]\n",
      "[284, 285, 286, 287]\n",
      "[288, 289, 290, 291]\n",
      "[292, 293, 294, 295]\n",
      "[296, 297, 298, 299]\n",
      "[300, 301, 302, 303]\n",
      "[304, 305, 306, 307]\n",
      "[308, 309, 310, 311]\n",
      "[312, 313, 314, 315]\n",
      "[316, 317, 318, 319]\n",
      "[320, 321, 322, 323]\n",
      "[324, 325, 326, 327]\n",
      "[328, 329, 330, 331]\n",
      "[332, 333, 334, 335]\n",
      "[336, 337, 338, 339]\n",
      "[340, 341, 342, 343]\n",
      "[344, 345, 346, 347]\n",
      "[348, 349, 350, 351]\n",
      "[352, 353, 354, 355]\n",
      "[356, 357, 358, 359]\n",
      "[360, 361, 362, 363]\n",
      "[364, 365, 366, 367]\n",
      "[368, 369, 370, 371]\n",
      "[372, 373, 374, 375]\n",
      "[376, 377, 378, 379]\n",
      "[380, 381, 382, 383]\n",
      "[384, 385, 386, 387]\n",
      "[388, 389, 390, 391]\n",
      "[392, 393, 394, 395]\n",
      "[396, 397, 398, 399]\n",
      "[400, 401, 402, 403]\n",
      "[404, 405, 406, 407]\n",
      "[408, 409, 410, 411]\n",
      "[412, 413, 414, 415]\n",
      "[416, 417, 418, 419]\n",
      "[420, 421, 422, 423]\n",
      "[424, 425, 426, 427]\n",
      "[428, 429, 430, 431]\n",
      "[432, 433, 434, 435]\n",
      "[436, 437, 438, 439]\n",
      "[440, 441, 442, 443]\n",
      "[444, 445, 446, 447]\n",
      "[448, 449, 450, 451]\n",
      "[452, 453, 454, 455]\n",
      "[456, 457, 458, 459]\n",
      "[460, 461, 462, 463]\n",
      "[464, 465, 466, 467]\n",
      "[468, 469, 470, 471]\n",
      "[472, 473, 474, 475]\n",
      "[476, 477, 478, 479]\n",
      "[480, 481, 482, 483]\n",
      "[484, 485, 486, 487]\n",
      "[488, 489, 490, 491]\n",
      "[492, 493, 494, 495]\n",
      "[496, 497, 498, 499]\n",
      "[500, 501, 502, 503]\n",
      "[504, 505, 506, 507]\n",
      "[508, 509, 510, 511]\n",
      "[512, 513, 514, 515]\n",
      "[516, 517, 518, 519]\n",
      "[520, 521, 522, 523]\n",
      "[524, 525, 526, 527]\n",
      "[528, 529, 530, 531]\n",
      "[532, 533, 534, 535]\n",
      "[536, 537, 538, 539]\n",
      "[540, 541, 542, 543]\n",
      "[544, 545, 546, 547]\n",
      "[548, 549, 550, 551]\n",
      "[552, 553, 554, 555]\n",
      "[556, 557, 558, 559]\n",
      "[560, 561, 562, 563]\n",
      "[564, 565, 566, 567]\n",
      "[568, 569, 570, 571]\n",
      "[572, 573, 574, 575]\n",
      "[576, 577, 578, 579]\n",
      "[580, 581, 582, 583]\n",
      "[584, 585, 586, 587]\n",
      "[588, 589, 590, 591]\n",
      "[592, 593, 594, 595]\n",
      "[596, 597, 598, 599]\n",
      "[600, 601, 602, 603]\n",
      "[604, 605, 606, 607]\n",
      "[608, 609, 610, 611]\n",
      "[612, 613, 614, 615]\n",
      "[616, 617, 618, 619]\n",
      "[620, 621, 622, 623]\n",
      "[624, 625, 626, 627]\n",
      "[628, 629, 630, 631]\n",
      "[632, 633, 634, 635]\n",
      "[636, 637, 638, 639]\n",
      "[640, 641, 642, 643]\n",
      "[644, 645, 646, 647]\n",
      "[648, 649, 650, 651]\n",
      "[652, 653, 654, 655]\n",
      "[656, 657, 658, 659]\n",
      "[660, 661, 662, 663]\n",
      "[664, 665, 666, 667]\n",
      "[668, 669, 670, 671]\n",
      "[672, 673, 674, 675]\n",
      "[676, 677, 678, 679]\n",
      "[680, 681, 682, 683]\n",
      "[684, 685, 686, 687]\n",
      "[688, 689, 690, 691]\n",
      "[692, 693, 694, 695]\n",
      "[696, 697, 698, 699]\n",
      "[700, 701, 702, 703]\n",
      "[704, 705, 706, 707]\n",
      "[708, 709, 710, 711]\n",
      "[712, 713, 714, 715]\n",
      "[716, 717, 718, 719]\n",
      "[720, 721, 722, 723]\n",
      "[724, 725, 726, 727]\n",
      "[728, 729, 730, 731]\n",
      "[732, 733, 734, 735]\n",
      "[736, 737, 738, 739]\n",
      "[740, 741, 742, 743]\n",
      "[744, 745, 746, 747]\n",
      "[748, 749, 750, 751]\n",
      "[752, 753, 754, 755]\n",
      "[756, 757, 758, 759]\n",
      "[760, 761, 762, 763]\n",
      "[764, 765, 766, 767]\n",
      "[768, 769, 770, 771]\n",
      "[772, 773, 774, 775]\n",
      "[776, 777, 778, 779]\n",
      "[780, 781, 782, 783]\n",
      "[784, 785, 786, 787]\n",
      "[788, 789, 790, 791]\n",
      "[792, 793, 794, 795]\n",
      "[796, 797, 798, 799]\n",
      "[800, 801, 802, 803]\n",
      "[804, 805, 806, 807]\n",
      "[808, 809, 810, 811]\n",
      "[812, 813, 814, 815]\n",
      "[816, 817, 818, 819]\n",
      "[820, 821, 822, 823]\n",
      "[824, 825, 826, 827]\n",
      "[828, 829, 830, 831]\n",
      "[832, 833, 834, 835]\n",
      "[836, 837, 838, 839]\n",
      "[840, 841, 842, 843]\n",
      "[844, 845, 846, 847]\n",
      "[848, 849, 850, 851]\n",
      "[852, 853, 854, 855]\n",
      "[856, 857, 858, 859]\n",
      "[860, 861, 862, 863]\n",
      "[864, 865, 866, 867]\n",
      "[868, 869, 870, 871]\n",
      "[872, 873, 874, 875]\n",
      "[876, 877, 878, 879]\n",
      "[880, 881, 882, 883]\n",
      "[884, 885, 886, 887]\n",
      "[888, 889, 890, 891]\n",
      "[892, 893, 894, 895]\n",
      "[896, 897, 898, 899]\n",
      "[900, 901, 902, 903]\n",
      "[904, 905, 906, 907]\n",
      "[908, 909, 910, 911]\n",
      "[912, 913, 914, 915]\n",
      "[916, 917, 918, 919]\n",
      "[920, 921, 922, 923]\n",
      "[924, 925, 926, 927]\n",
      "[928, 929, 930, 931]\n",
      "[932, 933, 934, 935]\n",
      "[936, 937, 938, 939]\n",
      "[940, 941, 942, 943]\n",
      "[944, 945, 946, 947]\n",
      "[948, 949, 950, 951]\n",
      "[952, 953, 954, 955]\n",
      "[956, 957, 958, 959]\n",
      "[960, 961, 962, 963]\n",
      "[964, 965, 966, 967]\n",
      "[968, 969, 970, 971]\n",
      "[972, 973, 974, 975]\n",
      "[976, 977, 978, 979]\n",
      "[980, 981, 982, 983]\n",
      "[984, 985, 986, 987]\n",
      "[988, 989, 990, 991]\n",
      "[992, 993, 994, 995]\n",
      "[996, 997, 998, 999]\n",
      "[1000, 1001, 1002, 1003]\n",
      "[1004, 1005, 1006, 1007]\n",
      "[1008, 1009, 1010, 1011]\n",
      "[1012, 1013, 1014, 1015]\n",
      "[1016, 1017, 1018, 1019]\n",
      "[1020, 1021, 1022, 1023]\n",
      "[1024, 1025, 1026, 1027]\n",
      "[1028, 1029, 1030, 1031]\n",
      "[1032, 1033, 1034, 1035]\n",
      "[1036, 1037, 1038, 1039]\n",
      "[1040, 1041, 1042, 1043]\n",
      "[1044, 1045, 1046, 1047]\n",
      "[1048, 1049, 1050, 1051]\n",
      "[1052, 1053, 1054, 1055]\n",
      "[1056, 1057, 1058, 1059]\n",
      "[1060, 1061, 1062, 1063]\n",
      "[1064, 1065, 1066, 1067]\n",
      "[1068, 1069, 1070, 1071]\n",
      "[1072, 1073, 1074, 1075]\n",
      "[1076, 1077, 1078, 1079]\n",
      "[1080, 1081, 1082, 1083]\n",
      "[1084, 1085, 1086, 1087]\n",
      "[1088, 1089, 1090, 1091]\n",
      "[1092, 1093, 1094, 1095]\n",
      "[1096, 1097, 1098, 1099]\n",
      "[1100, 1101, 1102, 1103]\n",
      "[1104, 1105, 1106, 1107]\n",
      "[1108, 1109, 1110, 1111]\n",
      "[1112, 1113, 1114, 1115]\n",
      "[1116, 1117, 1118, 1119]\n",
      "[1120, 1121, 1122, 1123]\n",
      "[1124, 1125, 1126, 1127]\n",
      "[1128, 1129, 1130, 1131]\n",
      "[1132, 1133, 1134, 1135]\n",
      "[1136, 1137, 1138, 1139]\n",
      "[1140, 1141, 1142, 1143]\n",
      "[1144, 1145, 1146, 1147]\n"
     ]
    }
   ],
   "source": [
    "X=[]\n",
    "y=[]\n",
    "for i in range(287):\n",
    "  y1=[]\n",
    "  y1.append(i*4+0)\n",
    "  y1.append(i*4+1)\n",
    "  y1.append(i*4+2)\n",
    "  y1.append(i*4+3)\n",
    "  print(y1)\n",
    "  for j in range(len(y1)-1):\n",
    "    x1=df.iloc[y1[j]]\n",
    "    # print(x1)\n",
    "    # print(x1.index)\n",
    "    # ind1=x1['ID']\n",
    "    # print(x1)\n",
    "    y2=df.iloc[y1[j+1]]\n",
    "    # ind2=y2['ID']\n",
    "    X.append(x1.values)\n",
    "    y.append(y2.values)\n",
    "\n",
    "\n"
   ]
  },
  {
   "cell_type": "code",
   "execution_count": null,
   "metadata": {
    "colab": {
     "base_uri": "https://localhost:8080/"
    },
    "id": "QJzsNBUNXBSN",
    "outputId": "84320138-86fe-41e0-c8ea-748cd04ecca8"
   },
   "outputs": [
    {
     "data": {
      "text/plain": [
       "861"
      ]
     },
     "execution_count": 13,
     "metadata": {},
     "output_type": "execute_result"
    }
   ],
   "source": [
    "len(y)"
   ]
  },
  {
   "cell_type": "code",
   "execution_count": null,
   "metadata": {
    "id": "GbiZrgkNXBuz"
   },
   "outputs": [],
   "source": [
    "X=np.array(X)\n",
    "y=np.array(y)"
   ]
  },
  {
   "cell_type": "code",
   "execution_count": null,
   "metadata": {
    "colab": {
     "base_uri": "https://localhost:8080/"
    },
    "id": "TeMGpO6WYX5G",
    "outputId": "1c57d068-163b-475f-e6c5-d435800b7240"
   },
   "outputs": [
    {
     "data": {
      "text/plain": [
       "(861, 36)"
      ]
     },
     "execution_count": 110,
     "metadata": {},
     "output_type": "execute_result"
    }
   ],
   "source": [
    "X.shape"
   ]
  },
  {
   "cell_type": "code",
   "execution_count": null,
   "metadata": {
    "id": "vBUh5KQMZMA9"
   },
   "outputs": [],
   "source": [
    "X_train=[]\n",
    "X_test=[]\n",
    "y_train=[]\n",
    "y_test=[]"
   ]
  },
  {
   "cell_type": "code",
   "execution_count": null,
   "metadata": {
    "id": "RtKaS7DFZgJ2"
   },
   "outputs": [],
   "source": [
    "for i in range(688):\n",
    "  X_train.append(X[i])\n",
    "  y_train.append(y[i])"
   ]
  },
  {
   "cell_type": "code",
   "execution_count": null,
   "metadata": {
    "id": "D11eAEFsZiVZ"
   },
   "outputs": [],
   "source": [
    "for i in range(688,861):\n",
    "  X_test.append(X[i])\n",
    "  y_test.append(y[i])"
   ]
  },
  {
   "cell_type": "code",
   "execution_count": null,
   "metadata": {
    "id": "NRHQuxTZajSt"
   },
   "outputs": [],
   "source": [
    "X_train=np.array(X_train)\n",
    "y_train=np.array(y_train)\n",
    "X_test=np.array(X_test)\n",
    "y_test=np.array(y_test)"
   ]
  },
  {
   "cell_type": "code",
   "execution_count": null,
   "metadata": {
    "colab": {
     "base_uri": "https://localhost:8080/"
    },
    "id": "ZhC4uAEEbyK1",
    "outputId": "f4f322ea-ea35-4cea-d85c-955dc1d52e93"
   },
   "outputs": [
    {
     "data": {
      "text/plain": [
       "(688, 36)"
      ]
     },
     "execution_count": 115,
     "metadata": {},
     "output_type": "execute_result"
    }
   ],
   "source": [
    "X_train.shape"
   ]
  },
  {
   "cell_type": "code",
   "execution_count": null,
   "metadata": {
    "id": "VFzGb1QOafvA"
   },
   "outputs": [],
   "source": [
    "X_train=X_train.reshape(688,1,36)\n",
    "X_test=X_test.reshape(173,1,36)"
   ]
  },
  {
   "cell_type": "code",
   "execution_count": null,
   "metadata": {
    "id": "Ww8D8ftky4xR"
   },
   "outputs": [],
   "source": [
    "selected_indices = random.sample(range(len(X_train)), 229)\n",
    "\n",
    "# Retrieve corresponding X_train[i] and y_train[i]\n",
    "s_X_train = [X_train[i] for i in selected_indices]\n",
    "s_y_train = [y_train[i] for i in selected_indices]"
   ]
  },
  {
   "cell_type": "code",
   "execution_count": null,
   "metadata": {
    "id": "xloDrC4Mz5J6"
   },
   "outputs": [],
   "source": [
    "selected_indices = random.sample(range(len(X_test)), 58)\n",
    "\n",
    "# Retrieve corresponding X_train[i] and y_train[i]\n",
    "s_X_test = [X_test[i] for i in selected_indices]\n",
    "s_y_test = [y_test[i] for i in selected_indices]"
   ]
  },
  {
   "cell_type": "code",
   "execution_count": null,
   "metadata": {
    "id": "fga2Cus70T6b"
   },
   "outputs": [],
   "source": [
    "s_X_train=np.array(s_X_train)\n",
    "s_y_train=np.array(s_y_train)\n",
    "s_X_test=np.array(s_X_test)\n",
    "s_y_test=np.array(s_y_test)"
   ]
  },
  {
   "cell_type": "code",
   "execution_count": null,
   "metadata": {
    "colab": {
     "base_uri": "https://localhost:8080/"
    },
    "id": "UXf9T9KO0a3G",
    "outputId": "fa27fa69-152f-4645-dedf-597f2d35793c"
   },
   "outputs": [
    {
     "data": {
      "text/plain": [
       "(229, 1, 36)"
      ]
     },
     "execution_count": 120,
     "metadata": {},
     "output_type": "execute_result"
    }
   ],
   "source": [
    "s_X_train.shape"
   ]
  },
  {
   "cell_type": "code",
   "execution_count": null,
   "metadata": {
    "id": "z7sOgmGjaY37"
   },
   "outputs": [],
   "source": [
    "model = Sequential()\n",
    "model.add(LSTM(50, activation='relu', return_sequences=True, input_shape=(1, 36)))\n",
    "model.add(LSTM(50, activation='relu'))\n",
    "model.add(Dense(36))\n",
    "model.compile(optimizer='adam', loss='mse')"
   ]
  },
  {
   "cell_type": "code",
   "execution_count": null,
   "metadata": {
    "id": "UtrfDqFQdJLO"
   },
   "outputs": [],
   "source": [
    "model1 = Sequential()\n",
    "model1.add(LSTM(50, activation='relu', return_sequences=True, input_shape=(1, 36)))\n",
    "model1.add(LSTM(50, activation='relu'))\n",
    "model1.add(Dense(36))\n",
    "model1.compile(optimizer='adam', loss='mse')"
   ]
  },
  {
   "cell_type": "code",
   "execution_count": null,
   "metadata": {
    "id": "nfeoUclVdc45"
   },
   "outputs": [],
   "source": [
    "model2 = Sequential()\n",
    "model2.add(LSTM(50, activation='relu', return_sequences=True, input_shape=(1, 36)))\n",
    "model2.add(LSTM(50, activation='relu'))\n",
    "model2.add(Dense(36))\n",
    "model2.compile(optimizer='adam', loss='mse')"
   ]
  },
  {
   "cell_type": "code",
   "execution_count": null,
   "metadata": {
    "colab": {
     "base_uri": "https://localhost:8080/"
    },
    "id": "1eawmq2Gdh1V",
    "outputId": "3ef0147d-19c9-44ef-99c8-2c497a9beb02"
   },
   "outputs": [
    {
     "name": "stdout",
     "output_type": "stream",
     "text": [
      "Epoch 1/30\n",
      "8/8 [==============================] - 7s 9ms/step - loss: 0.2126\n",
      "Epoch 2/30\n",
      "8/8 [==============================] - 0s 8ms/step - loss: 0.2035\n",
      "Epoch 3/30\n",
      "8/8 [==============================] - 0s 7ms/step - loss: 0.1909\n",
      "Epoch 4/30\n",
      "8/8 [==============================] - 0s 6ms/step - loss: 0.1712\n",
      "Epoch 5/30\n",
      "8/8 [==============================] - 0s 7ms/step - loss: 0.1432\n",
      "Epoch 6/30\n",
      "8/8 [==============================] - 0s 9ms/step - loss: 0.1168\n",
      "Epoch 7/30\n",
      "8/8 [==============================] - 0s 8ms/step - loss: 0.0997\n",
      "Epoch 8/30\n",
      "8/8 [==============================] - 0s 7ms/step - loss: 0.0855\n",
      "Epoch 9/30\n",
      "8/8 [==============================] - 0s 6ms/step - loss: 0.0766\n",
      "Epoch 10/30\n",
      "8/8 [==============================] - 0s 9ms/step - loss: 0.0704\n",
      "Epoch 11/30\n",
      "8/8 [==============================] - 0s 7ms/step - loss: 0.0638\n",
      "Epoch 12/30\n",
      "8/8 [==============================] - 0s 11ms/step - loss: 0.0578\n",
      "Epoch 13/30\n",
      "8/8 [==============================] - 0s 9ms/step - loss: 0.0534\n",
      "Epoch 14/30\n",
      "8/8 [==============================] - 0s 11ms/step - loss: 0.0504\n",
      "Epoch 15/30\n",
      "8/8 [==============================] - 0s 7ms/step - loss: 0.0482\n",
      "Epoch 16/30\n",
      "8/8 [==============================] - 0s 7ms/step - loss: 0.0466\n",
      "Epoch 17/30\n",
      "8/8 [==============================] - 0s 7ms/step - loss: 0.0454\n",
      "Epoch 18/30\n",
      "8/8 [==============================] - 0s 7ms/step - loss: 0.0445\n",
      "Epoch 19/30\n",
      "8/8 [==============================] - 0s 7ms/step - loss: 0.0438\n",
      "Epoch 20/30\n",
      "8/8 [==============================] - 0s 7ms/step - loss: 0.0432\n",
      "Epoch 21/30\n",
      "8/8 [==============================] - 0s 7ms/step - loss: 0.0426\n",
      "Epoch 22/30\n",
      "8/8 [==============================] - 0s 7ms/step - loss: 0.0419\n",
      "Epoch 23/30\n",
      "8/8 [==============================] - 0s 7ms/step - loss: 0.0413\n",
      "Epoch 24/30\n",
      "8/8 [==============================] - 0s 7ms/step - loss: 0.0405\n",
      "Epoch 25/30\n",
      "8/8 [==============================] - 0s 9ms/step - loss: 0.0398\n",
      "Epoch 26/30\n",
      "8/8 [==============================] - 0s 7ms/step - loss: 0.0396\n",
      "Epoch 27/30\n",
      "8/8 [==============================] - 0s 8ms/step - loss: 0.0383\n",
      "Epoch 28/30\n",
      "8/8 [==============================] - 0s 7ms/step - loss: 0.0376\n",
      "Epoch 29/30\n",
      "8/8 [==============================] - 0s 10ms/step - loss: 0.0367\n",
      "Epoch 30/30\n",
      "8/8 [==============================] - 0s 7ms/step - loss: 0.0361\n"
     ]
    },
    {
     "data": {
      "text/plain": [
       "<keras.src.callbacks.History at 0x7c4fdcc33cd0>"
      ]
     },
     "execution_count": 124,
     "metadata": {},
     "output_type": "execute_result"
    }
   ],
   "source": [
    "model2.fit(s_X_train,s_y_train,epochs=30,verbose=1)"
   ]
  },
  {
   "cell_type": "code",
   "execution_count": null,
   "metadata": {
    "colab": {
     "base_uri": "https://localhost:8080/"
    },
    "id": "ET4WdWaxdMm8",
    "outputId": "954f0313-fb35-4301-8261-e5176557ba4d"
   },
   "outputs": [
    {
     "name": "stdout",
     "output_type": "stream",
     "text": [
      "Epoch 1/30\n",
      "8/8 [==============================] - 8s 8ms/step - loss: 0.2109\n",
      "Epoch 2/30\n",
      "8/8 [==============================] - 0s 11ms/step - loss: 0.1995\n",
      "Epoch 3/30\n",
      "8/8 [==============================] - 0s 11ms/step - loss: 0.1823\n",
      "Epoch 4/30\n",
      "8/8 [==============================] - 0s 10ms/step - loss: 0.1550\n",
      "Epoch 5/30\n",
      "8/8 [==============================] - 0s 11ms/step - loss: 0.1212\n",
      "Epoch 6/30\n",
      "8/8 [==============================] - 0s 10ms/step - loss: 0.1022\n",
      "Epoch 7/30\n",
      "8/8 [==============================] - 0s 10ms/step - loss: 0.0883\n",
      "Epoch 8/30\n",
      "8/8 [==============================] - 0s 10ms/step - loss: 0.0808\n",
      "Epoch 9/30\n",
      "8/8 [==============================] - 0s 10ms/step - loss: 0.0755\n",
      "Epoch 10/30\n",
      "8/8 [==============================] - 0s 10ms/step - loss: 0.0704\n",
      "Epoch 11/30\n",
      "8/8 [==============================] - 0s 12ms/step - loss: 0.0643\n",
      "Epoch 12/30\n",
      "8/8 [==============================] - 0s 13ms/step - loss: 0.0577\n",
      "Epoch 13/30\n",
      "8/8 [==============================] - 0s 12ms/step - loss: 0.0524\n",
      "Epoch 14/30\n",
      "8/8 [==============================] - 0s 11ms/step - loss: 0.0483\n",
      "Epoch 15/30\n",
      "8/8 [==============================] - 0s 12ms/step - loss: 0.0457\n",
      "Epoch 16/30\n",
      "8/8 [==============================] - 0s 10ms/step - loss: 0.0440\n",
      "Epoch 17/30\n",
      "8/8 [==============================] - 0s 7ms/step - loss: 0.0424\n",
      "Epoch 18/30\n",
      "8/8 [==============================] - 0s 7ms/step - loss: 0.0413\n",
      "Epoch 19/30\n",
      "8/8 [==============================] - 0s 6ms/step - loss: 0.0402\n",
      "Epoch 20/30\n",
      "8/8 [==============================] - 0s 10ms/step - loss: 0.0392\n",
      "Epoch 21/30\n",
      "8/8 [==============================] - 0s 9ms/step - loss: 0.0382\n",
      "Epoch 22/30\n",
      "8/8 [==============================] - 0s 10ms/step - loss: 0.0371\n",
      "Epoch 23/30\n",
      "8/8 [==============================] - 0s 8ms/step - loss: 0.0363\n",
      "Epoch 24/30\n",
      "8/8 [==============================] - 0s 7ms/step - loss: 0.0354\n",
      "Epoch 25/30\n",
      "8/8 [==============================] - 0s 13ms/step - loss: 0.0347\n",
      "Epoch 26/30\n",
      "8/8 [==============================] - 0s 9ms/step - loss: 0.0346\n",
      "Epoch 27/30\n",
      "8/8 [==============================] - 0s 9ms/step - loss: 0.0337\n",
      "Epoch 28/30\n",
      "8/8 [==============================] - 0s 10ms/step - loss: 0.0332\n",
      "Epoch 29/30\n",
      "8/8 [==============================] - 0s 10ms/step - loss: 0.0325\n",
      "Epoch 30/30\n",
      "8/8 [==============================] - 0s 8ms/step - loss: 0.0322\n"
     ]
    },
    {
     "data": {
      "text/plain": [
       "<keras.src.callbacks.History at 0x7c4fd6fe1930>"
      ]
     },
     "execution_count": 125,
     "metadata": {},
     "output_type": "execute_result"
    }
   ],
   "source": [
    "model1.fit(s_X_train,s_y_train,epochs=30,verbose=1)"
   ]
  },
  {
   "cell_type": "code",
   "execution_count": null,
   "metadata": {
    "colab": {
     "base_uri": "https://localhost:8080/"
    },
    "id": "Ls9tjfWlcJ9n",
    "outputId": "eddad80e-f03b-47fa-c1da-1b7664f91c72"
   },
   "outputs": [
    {
     "name": "stdout",
     "output_type": "stream",
     "text": [
      "Epoch 1/30\n",
      "8/8 [==============================] - 9s 9ms/step - loss: 0.2139\n",
      "Epoch 2/30\n",
      "8/8 [==============================] - 0s 8ms/step - loss: 0.2069\n",
      "Epoch 3/30\n",
      "8/8 [==============================] - 0s 7ms/step - loss: 0.1975\n",
      "Epoch 4/30\n",
      "8/8 [==============================] - 0s 10ms/step - loss: 0.1824\n",
      "Epoch 5/30\n",
      "8/8 [==============================] - 0s 5ms/step - loss: 0.1581\n",
      "Epoch 6/30\n",
      "8/8 [==============================] - 0s 4ms/step - loss: 0.1238\n",
      "Epoch 7/30\n",
      "8/8 [==============================] - 0s 4ms/step - loss: 0.1049\n",
      "Epoch 8/30\n",
      "8/8 [==============================] - 0s 5ms/step - loss: 0.0920\n",
      "Epoch 9/30\n",
      "8/8 [==============================] - 0s 5ms/step - loss: 0.0837\n",
      "Epoch 10/30\n",
      "8/8 [==============================] - 0s 6ms/step - loss: 0.0785\n",
      "Epoch 11/30\n",
      "8/8 [==============================] - 0s 11ms/step - loss: 0.0737\n",
      "Epoch 12/30\n",
      "8/8 [==============================] - 0s 9ms/step - loss: 0.0679\n",
      "Epoch 13/30\n",
      "8/8 [==============================] - 0s 6ms/step - loss: 0.0615\n",
      "Epoch 14/30\n",
      "8/8 [==============================] - 0s 7ms/step - loss: 0.0550\n",
      "Epoch 15/30\n",
      "8/8 [==============================] - 0s 9ms/step - loss: 0.0504\n",
      "Epoch 16/30\n",
      "8/8 [==============================] - 0s 6ms/step - loss: 0.0479\n",
      "Epoch 17/30\n",
      "8/8 [==============================] - 0s 7ms/step - loss: 0.0462\n",
      "Epoch 18/30\n",
      "8/8 [==============================] - 0s 7ms/step - loss: 0.0450\n",
      "Epoch 19/30\n",
      "8/8 [==============================] - 0s 7ms/step - loss: 0.0441\n",
      "Epoch 20/30\n",
      "8/8 [==============================] - 0s 12ms/step - loss: 0.0432\n",
      "Epoch 21/30\n",
      "8/8 [==============================] - 0s 9ms/step - loss: 0.0425\n",
      "Epoch 22/30\n",
      "8/8 [==============================] - 0s 7ms/step - loss: 0.0416\n",
      "Epoch 23/30\n",
      "8/8 [==============================] - 0s 9ms/step - loss: 0.0409\n",
      "Epoch 24/30\n",
      "8/8 [==============================] - 0s 11ms/step - loss: 0.0399\n",
      "Epoch 25/30\n",
      "8/8 [==============================] - 0s 12ms/step - loss: 0.0391\n",
      "Epoch 26/30\n",
      "8/8 [==============================] - 0s 11ms/step - loss: 0.0387\n",
      "Epoch 27/30\n",
      "8/8 [==============================] - 0s 12ms/step - loss: 0.0372\n",
      "Epoch 28/30\n",
      "8/8 [==============================] - 0s 11ms/step - loss: 0.0366\n",
      "Epoch 29/30\n",
      "8/8 [==============================] - 0s 6ms/step - loss: 0.0358\n",
      "Epoch 30/30\n",
      "8/8 [==============================] - 0s 6ms/step - loss: 0.0351\n"
     ]
    },
    {
     "data": {
      "text/plain": [
       "<keras.src.callbacks.History at 0x7c4fd6087be0>"
      ]
     },
     "execution_count": 126,
     "metadata": {},
     "output_type": "execute_result"
    }
   ],
   "source": [
    "model.fit(s_X_train,s_y_train,epochs=30,verbose=1)"
   ]
  },
  {
   "cell_type": "code",
   "execution_count": null,
   "metadata": {
    "colab": {
     "base_uri": "https://localhost:8080/"
    },
    "id": "yYPC0Og3cdTM",
    "outputId": "f434c210-fbf9-459d-894d-97f02f82a815"
   },
   "outputs": [
    {
     "name": "stderr",
     "output_type": "stream",
     "text": [
      "WARNING:tensorflow:5 out of the last 11 calls to <function Model.make_predict_function.<locals>.predict_function at 0x7c4fd4491e10> triggered tf.function retracing. Tracing is expensive and the excessive number of tracings could be due to (1) creating @tf.function repeatedly in a loop, (2) passing tensors with different shapes, (3) passing Python objects instead of tensors. For (1), please define your @tf.function outside of the loop. For (2), @tf.function has reduce_retracing=True option that can avoid unnecessary retracing. For (3), please refer to https://www.tensorflow.org/guide/function#controlling_retracing and https://www.tensorflow.org/api_docs/python/tf/function for  more details.\n"
     ]
    },
    {
     "name": "stdout",
     "output_type": "stream",
     "text": [
      "2/2 [==============================] - 1s 7ms/step\n"
     ]
    }
   ],
   "source": [
    "y_pred=model.predict(s_X_test)"
   ]
  },
  {
   "cell_type": "code",
   "execution_count": null,
   "metadata": {
    "colab": {
     "base_uri": "https://localhost:8080/"
    },
    "id": "QWax2OFkctAJ",
    "outputId": "809e5c1d-0b01-4ec5-c1cc-c8566d95f6d3"
   },
   "outputs": [
    {
     "data": {
      "text/plain": [
       "0.05153223859378136"
      ]
     },
     "execution_count": 32,
     "metadata": {},
     "output_type": "execute_result"
    }
   ],
   "source": [
    "mean_squared_error(y_test,y_pred)"
   ]
  },
  {
   "cell_type": "code",
   "execution_count": null,
   "metadata": {
    "colab": {
     "base_uri": "https://localhost:8080/"
    },
    "id": "e_eUKoaH01N3",
    "outputId": "be6187eb-3b24-4eb4-9ac6-09bb7a8ab56b"
   },
   "outputs": [
    {
     "data": {
      "text/plain": [
       "0.07140747572177675"
      ]
     },
     "execution_count": 129,
     "metadata": {},
     "output_type": "execute_result"
    }
   ],
   "source": [
    "mean_squared_error(s_y_test,y_pred)"
   ]
  },
  {
   "cell_type": "code",
   "execution_count": null,
   "metadata": {
    "colab": {
     "base_uri": "https://localhost:8080/"
    },
    "id": "2bNudMzacz7w",
    "outputId": "1415fa76-2a39-4c43-c8a0-5202662e8812"
   },
   "outputs": [
    {
     "name": "stdout",
     "output_type": "stream",
     "text": [
      "2/2 [==============================] - 0s 6ms/step\n"
     ]
    }
   ],
   "source": [
    "y_pred1=model1.predict(s_X_test)"
   ]
  },
  {
   "cell_type": "code",
   "execution_count": null,
   "metadata": {
    "colab": {
     "base_uri": "https://localhost:8080/"
    },
    "id": "26Qzj6NmdUAQ",
    "outputId": "2c466ea7-d2a8-4798-efb1-03af7388e792"
   },
   "outputs": [
    {
     "data": {
      "text/plain": [
       "0.053191326292783704"
      ]
     },
     "execution_count": 36,
     "metadata": {},
     "output_type": "execute_result"
    }
   ],
   "source": [
    "mean_squared_error(y_test,y_pred1)"
   ]
  },
  {
   "cell_type": "code",
   "execution_count": null,
   "metadata": {
    "colab": {
     "base_uri": "https://localhost:8080/"
    },
    "id": "xUgSbzwQ0_tZ",
    "outputId": "c91a0148-6233-48bd-d45f-191070347be3"
   },
   "outputs": [
    {
     "data": {
      "text/plain": [
       "0.0694257939036989"
      ]
     },
     "execution_count": 131,
     "metadata": {},
     "output_type": "execute_result"
    }
   ],
   "source": [
    "mean_squared_error(s_y_test,y_pred1)"
   ]
  },
  {
   "cell_type": "code",
   "execution_count": null,
   "metadata": {
    "colab": {
     "base_uri": "https://localhost:8080/"
    },
    "id": "3dki4gJUdkjI",
    "outputId": "d878daa5-fcf5-4ca5-a2ce-0d23de211d7c"
   },
   "outputs": [
    {
     "name": "stdout",
     "output_type": "stream",
     "text": [
      "2/2 [==============================] - 0s 6ms/step\n"
     ]
    }
   ],
   "source": [
    "y_pred2=model2.predict(s_X_test)"
   ]
  },
  {
   "cell_type": "code",
   "execution_count": null,
   "metadata": {
    "colab": {
     "base_uri": "https://localhost:8080/"
    },
    "id": "FDsHqFk1doIW",
    "outputId": "f3c942e9-2196-42cf-c204-b8e2d2176eef"
   },
   "outputs": [
    {
     "data": {
      "text/plain": [
       "0.051519918149844274"
      ]
     },
     "execution_count": 40,
     "metadata": {},
     "output_type": "execute_result"
    }
   ],
   "source": [
    "mean_squared_error(y_test,y_pred2)"
   ]
  },
  {
   "cell_type": "code",
   "execution_count": null,
   "metadata": {
    "colab": {
     "base_uri": "https://localhost:8080/"
    },
    "id": "ITqEcxI41UXF",
    "outputId": "1913496f-7fca-43f6-abc2-f68245705d38"
   },
   "outputs": [
    {
     "data": {
      "text/plain": [
       "0.07187022813467986"
      ]
     },
     "execution_count": 134,
     "metadata": {},
     "output_type": "execute_result"
    }
   ],
   "source": [
    "mean_squared_error(s_y_test,y_pred2)"
   ]
  },
  {
   "cell_type": "code",
   "execution_count": null,
   "metadata": {
    "id": "zTweL6nIdzmi"
   },
   "outputs": [],
   "source": [
    "import joblib"
   ]
  },
  {
   "cell_type": "code",
   "execution_count": null,
   "metadata": {
    "colab": {
     "base_uri": "https://localhost:8080/"
    },
    "id": "r-2u1zkfd1Hu",
    "outputId": "2934cb55-321d-4edc-ca0d-8dcc10c8ebb8"
   },
   "outputs": [
    {
     "data": {
      "text/plain": [
       "['drive/MyDrive/S_Only_LSTM_Model_M1.pkl']"
      ]
     },
     "execution_count": 136,
     "metadata": {},
     "output_type": "execute_result"
    }
   ],
   "source": [
    "joblib.dump(model,\"drive/MyDrive/S_Only_LSTM_Model_M1.pkl\")"
   ]
  },
  {
   "cell_type": "code",
   "execution_count": null,
   "metadata": {
    "colab": {
     "base_uri": "https://localhost:8080/"
    },
    "id": "CAH0pecBeA0I",
    "outputId": "225741bf-dbc9-4e51-93b9-83fc3b0181f2"
   },
   "outputs": [
    {
     "data": {
      "text/plain": [
       "['drive/MyDrive/S_Only_LSTM_Model1_M1.pkl']"
      ]
     },
     "execution_count": 137,
     "metadata": {},
     "output_type": "execute_result"
    }
   ],
   "source": [
    "joblib.dump(model1,\"drive/MyDrive/S_Only_LSTM_Model1_M1.pkl\")"
   ]
  },
  {
   "cell_type": "code",
   "execution_count": null,
   "metadata": {
    "colab": {
     "base_uri": "https://localhost:8080/"
    },
    "id": "ol1rlj3WeDqd",
    "outputId": "9bee6be5-d70c-40ce-ef3a-816afe41bf14"
   },
   "outputs": [
    {
     "data": {
      "text/plain": [
       "['drive/MyDrive/S_Only_LSTM_Model2_M1.pkl']"
      ]
     },
     "execution_count": 138,
     "metadata": {},
     "output_type": "execute_result"
    }
   ],
   "source": [
    "joblib.dump(model2,\"drive/MyDrive/S_Only_LSTM_Model2_M1.pkl\")"
   ]
  },
  {
   "cell_type": "markdown",
   "metadata": {
    "id": "6tcoutqWeHF6"
   },
   "source": [
    "## ONLY LSTM M2"
   ]
  },
  {
   "cell_type": "code",
   "execution_count": null,
   "metadata": {
    "colab": {
     "base_uri": "https://localhost:8080/"
    },
    "id": "fzfeNNlmeGuO",
    "outputId": "d08bf8f7-2b25-4d6d-bf54-06947e2edf79"
   },
   "outputs": [
    {
     "name": "stdout",
     "output_type": "stream",
     "text": [
      "[0, 1, 2, 3]\n",
      "[4, 5, 6, 7]\n",
      "[8, 9, 10, 11]\n",
      "[12, 13, 14, 15]\n",
      "[16, 17, 18, 19]\n",
      "[20, 21, 22, 23]\n",
      "[24, 25, 26, 27]\n",
      "[28, 29, 30, 31]\n",
      "[32, 33, 34, 35]\n",
      "[36, 37, 38, 39]\n",
      "[40, 41, 42, 43]\n",
      "[44, 45, 46, 47]\n",
      "[48, 49, 50, 51]\n",
      "[52, 53, 54, 55]\n",
      "[56, 57, 58, 59]\n",
      "[60, 61, 62, 63]\n",
      "[64, 65, 66, 67]\n",
      "[68, 69, 70, 71]\n",
      "[72, 73, 74, 75]\n",
      "[76, 77, 78, 79]\n",
      "[80, 81, 82, 83]\n",
      "[84, 85, 86, 87]\n",
      "[88, 89, 90, 91]\n",
      "[92, 93, 94, 95]\n",
      "[96, 97, 98, 99]\n",
      "[100, 101, 102, 103]\n",
      "[104, 105, 106, 107]\n",
      "[108, 109, 110, 111]\n",
      "[112, 113, 114, 115]\n",
      "[116, 117, 118, 119]\n",
      "[120, 121, 122, 123]\n",
      "[124, 125, 126, 127]\n",
      "[128, 129, 130, 131]\n",
      "[132, 133, 134, 135]\n",
      "[136, 137, 138, 139]\n",
      "[140, 141, 142, 143]\n",
      "[144, 145, 146, 147]\n",
      "[148, 149, 150, 151]\n",
      "[152, 153, 154, 155]\n",
      "[156, 157, 158, 159]\n",
      "[160, 161, 162, 163]\n",
      "[164, 165, 166, 167]\n",
      "[168, 169, 170, 171]\n",
      "[172, 173, 174, 175]\n",
      "[176, 177, 178, 179]\n",
      "[180, 181, 182, 183]\n",
      "[184, 185, 186, 187]\n",
      "[188, 189, 190, 191]\n",
      "[192, 193, 194, 195]\n",
      "[196, 197, 198, 199]\n",
      "[200, 201, 202, 203]\n",
      "[204, 205, 206, 207]\n",
      "[208, 209, 210, 211]\n",
      "[212, 213, 214, 215]\n",
      "[216, 217, 218, 219]\n",
      "[220, 221, 222, 223]\n",
      "[224, 225, 226, 227]\n",
      "[228, 229, 230, 231]\n",
      "[232, 233, 234, 235]\n",
      "[236, 237, 238, 239]\n",
      "[240, 241, 242, 243]\n",
      "[244, 245, 246, 247]\n",
      "[248, 249, 250, 251]\n",
      "[252, 253, 254, 255]\n",
      "[256, 257, 258, 259]\n",
      "[260, 261, 262, 263]\n",
      "[264, 265, 266, 267]\n",
      "[268, 269, 270, 271]\n",
      "[272, 273, 274, 275]\n",
      "[276, 277, 278, 279]\n",
      "[280, 281, 282, 283]\n",
      "[284, 285, 286, 287]\n",
      "[288, 289, 290, 291]\n",
      "[292, 293, 294, 295]\n",
      "[296, 297, 298, 299]\n",
      "[300, 301, 302, 303]\n",
      "[304, 305, 306, 307]\n",
      "[308, 309, 310, 311]\n",
      "[312, 313, 314, 315]\n",
      "[316, 317, 318, 319]\n",
      "[320, 321, 322, 323]\n",
      "[324, 325, 326, 327]\n",
      "[328, 329, 330, 331]\n",
      "[332, 333, 334, 335]\n",
      "[336, 337, 338, 339]\n",
      "[340, 341, 342, 343]\n",
      "[344, 345, 346, 347]\n",
      "[348, 349, 350, 351]\n",
      "[352, 353, 354, 355]\n",
      "[356, 357, 358, 359]\n",
      "[360, 361, 362, 363]\n",
      "[364, 365, 366, 367]\n",
      "[368, 369, 370, 371]\n",
      "[372, 373, 374, 375]\n",
      "[376, 377, 378, 379]\n",
      "[380, 381, 382, 383]\n",
      "[384, 385, 386, 387]\n",
      "[388, 389, 390, 391]\n",
      "[392, 393, 394, 395]\n",
      "[396, 397, 398, 399]\n",
      "[400, 401, 402, 403]\n",
      "[404, 405, 406, 407]\n",
      "[408, 409, 410, 411]\n",
      "[412, 413, 414, 415]\n",
      "[416, 417, 418, 419]\n",
      "[420, 421, 422, 423]\n",
      "[424, 425, 426, 427]\n",
      "[428, 429, 430, 431]\n",
      "[432, 433, 434, 435]\n",
      "[436, 437, 438, 439]\n",
      "[440, 441, 442, 443]\n",
      "[444, 445, 446, 447]\n",
      "[448, 449, 450, 451]\n",
      "[452, 453, 454, 455]\n",
      "[456, 457, 458, 459]\n",
      "[460, 461, 462, 463]\n",
      "[464, 465, 466, 467]\n",
      "[468, 469, 470, 471]\n",
      "[472, 473, 474, 475]\n",
      "[476, 477, 478, 479]\n",
      "[480, 481, 482, 483]\n",
      "[484, 485, 486, 487]\n",
      "[488, 489, 490, 491]\n",
      "[492, 493, 494, 495]\n",
      "[496, 497, 498, 499]\n",
      "[500, 501, 502, 503]\n",
      "[504, 505, 506, 507]\n",
      "[508, 509, 510, 511]\n",
      "[512, 513, 514, 515]\n",
      "[516, 517, 518, 519]\n",
      "[520, 521, 522, 523]\n",
      "[524, 525, 526, 527]\n",
      "[528, 529, 530, 531]\n",
      "[532, 533, 534, 535]\n",
      "[536, 537, 538, 539]\n",
      "[540, 541, 542, 543]\n",
      "[544, 545, 546, 547]\n",
      "[548, 549, 550, 551]\n",
      "[552, 553, 554, 555]\n",
      "[556, 557, 558, 559]\n",
      "[560, 561, 562, 563]\n",
      "[564, 565, 566, 567]\n",
      "[568, 569, 570, 571]\n",
      "[572, 573, 574, 575]\n",
      "[576, 577, 578, 579]\n",
      "[580, 581, 582, 583]\n",
      "[584, 585, 586, 587]\n",
      "[588, 589, 590, 591]\n",
      "[592, 593, 594, 595]\n",
      "[596, 597, 598, 599]\n",
      "[600, 601, 602, 603]\n",
      "[604, 605, 606, 607]\n",
      "[608, 609, 610, 611]\n",
      "[612, 613, 614, 615]\n",
      "[616, 617, 618, 619]\n",
      "[620, 621, 622, 623]\n",
      "[624, 625, 626, 627]\n",
      "[628, 629, 630, 631]\n",
      "[632, 633, 634, 635]\n",
      "[636, 637, 638, 639]\n",
      "[640, 641, 642, 643]\n",
      "[644, 645, 646, 647]\n",
      "[648, 649, 650, 651]\n",
      "[652, 653, 654, 655]\n",
      "[656, 657, 658, 659]\n",
      "[660, 661, 662, 663]\n",
      "[664, 665, 666, 667]\n",
      "[668, 669, 670, 671]\n",
      "[672, 673, 674, 675]\n",
      "[676, 677, 678, 679]\n",
      "[680, 681, 682, 683]\n",
      "[684, 685, 686, 687]\n",
      "[688, 689, 690, 691]\n",
      "[692, 693, 694, 695]\n",
      "[696, 697, 698, 699]\n",
      "[700, 701, 702, 703]\n",
      "[704, 705, 706, 707]\n",
      "[708, 709, 710, 711]\n",
      "[712, 713, 714, 715]\n",
      "[716, 717, 718, 719]\n",
      "[720, 721, 722, 723]\n",
      "[724, 725, 726, 727]\n",
      "[728, 729, 730, 731]\n",
      "[732, 733, 734, 735]\n",
      "[736, 737, 738, 739]\n",
      "[740, 741, 742, 743]\n",
      "[744, 745, 746, 747]\n",
      "[748, 749, 750, 751]\n",
      "[752, 753, 754, 755]\n",
      "[756, 757, 758, 759]\n",
      "[760, 761, 762, 763]\n",
      "[764, 765, 766, 767]\n",
      "[768, 769, 770, 771]\n",
      "[772, 773, 774, 775]\n",
      "[776, 777, 778, 779]\n",
      "[780, 781, 782, 783]\n",
      "[784, 785, 786, 787]\n",
      "[788, 789, 790, 791]\n",
      "[792, 793, 794, 795]\n",
      "[796, 797, 798, 799]\n",
      "[800, 801, 802, 803]\n",
      "[804, 805, 806, 807]\n",
      "[808, 809, 810, 811]\n",
      "[812, 813, 814, 815]\n",
      "[816, 817, 818, 819]\n",
      "[820, 821, 822, 823]\n",
      "[824, 825, 826, 827]\n",
      "[828, 829, 830, 831]\n",
      "[832, 833, 834, 835]\n",
      "[836, 837, 838, 839]\n",
      "[840, 841, 842, 843]\n",
      "[844, 845, 846, 847]\n",
      "[848, 849, 850, 851]\n",
      "[852, 853, 854, 855]\n",
      "[856, 857, 858, 859]\n",
      "[860, 861, 862, 863]\n",
      "[864, 865, 866, 867]\n",
      "[868, 869, 870, 871]\n",
      "[872, 873, 874, 875]\n",
      "[876, 877, 878, 879]\n",
      "[880, 881, 882, 883]\n",
      "[884, 885, 886, 887]\n",
      "[888, 889, 890, 891]\n",
      "[892, 893, 894, 895]\n",
      "[896, 897, 898, 899]\n",
      "[900, 901, 902, 903]\n",
      "[904, 905, 906, 907]\n",
      "[908, 909, 910, 911]\n",
      "[912, 913, 914, 915]\n",
      "[916, 917, 918, 919]\n",
      "[920, 921, 922, 923]\n",
      "[924, 925, 926, 927]\n",
      "[928, 929, 930, 931]\n",
      "[932, 933, 934, 935]\n",
      "[936, 937, 938, 939]\n",
      "[940, 941, 942, 943]\n",
      "[944, 945, 946, 947]\n",
      "[948, 949, 950, 951]\n",
      "[952, 953, 954, 955]\n",
      "[956, 957, 958, 959]\n",
      "[960, 961, 962, 963]\n",
      "[964, 965, 966, 967]\n",
      "[968, 969, 970, 971]\n",
      "[972, 973, 974, 975]\n",
      "[976, 977, 978, 979]\n",
      "[980, 981, 982, 983]\n",
      "[984, 985, 986, 987]\n",
      "[988, 989, 990, 991]\n",
      "[992, 993, 994, 995]\n",
      "[996, 997, 998, 999]\n",
      "[1000, 1001, 1002, 1003]\n",
      "[1004, 1005, 1006, 1007]\n",
      "[1008, 1009, 1010, 1011]\n",
      "[1012, 1013, 1014, 1015]\n",
      "[1016, 1017, 1018, 1019]\n",
      "[1020, 1021, 1022, 1023]\n",
      "[1024, 1025, 1026, 1027]\n",
      "[1028, 1029, 1030, 1031]\n",
      "[1032, 1033, 1034, 1035]\n",
      "[1036, 1037, 1038, 1039]\n",
      "[1040, 1041, 1042, 1043]\n",
      "[1044, 1045, 1046, 1047]\n",
      "[1048, 1049, 1050, 1051]\n",
      "[1052, 1053, 1054, 1055]\n",
      "[1056, 1057, 1058, 1059]\n",
      "[1060, 1061, 1062, 1063]\n",
      "[1064, 1065, 1066, 1067]\n",
      "[1068, 1069, 1070, 1071]\n",
      "[1072, 1073, 1074, 1075]\n",
      "[1076, 1077, 1078, 1079]\n",
      "[1080, 1081, 1082, 1083]\n",
      "[1084, 1085, 1086, 1087]\n",
      "[1088, 1089, 1090, 1091]\n",
      "[1092, 1093, 1094, 1095]\n",
      "[1096, 1097, 1098, 1099]\n",
      "[1100, 1101, 1102, 1103]\n",
      "[1104, 1105, 1106, 1107]\n",
      "[1108, 1109, 1110, 1111]\n",
      "[1112, 1113, 1114, 1115]\n",
      "[1116, 1117, 1118, 1119]\n",
      "[1120, 1121, 1122, 1123]\n",
      "[1124, 1125, 1126, 1127]\n",
      "[1128, 1129, 1130, 1131]\n",
      "[1132, 1133, 1134, 1135]\n",
      "[1136, 1137, 1138, 1139]\n",
      "[1140, 1141, 1142, 1143]\n",
      "[1144, 1145, 1146, 1147]\n"
     ]
    }
   ],
   "source": [
    "X=[]\n",
    "y=[]\n",
    "for i in range(287):\n",
    "  y1=[]\n",
    "  y1.append(i*4+0)\n",
    "  y1.append(i*4+1)\n",
    "  y1.append(i*4+2)\n",
    "  y1.append(i*4+3)\n",
    "  print(y1)\n",
    "  for j in range(len(y1)-2):\n",
    "    x1=df.iloc[y1[j]]\n",
    "    # print(x1)\n",
    "    # print(x1.index)\n",
    "    # ind1=x1['ID']\n",
    "    # print(x1)\n",
    "    x2=df.iloc[y1[j+1]]\n",
    "    # ind2=y2['ID']\n",
    "    X.append(x1.values)\n",
    "    X.append(x2.values)\n",
    "    y2=df.iloc[y1[j+2]]\n",
    "    y.append(y2.values)\n",
    "\n",
    "\n"
   ]
  },
  {
   "cell_type": "code",
   "execution_count": null,
   "metadata": {
    "colab": {
     "base_uri": "https://localhost:8080/"
    },
    "id": "TejHKAv-exCD",
    "outputId": "ad96f47b-c363-4a24-ab35-03291ca0491d"
   },
   "outputs": [
    {
     "data": {
      "text/plain": [
       "1148"
      ]
     },
     "execution_count": 51,
     "metadata": {},
     "output_type": "execute_result"
    }
   ],
   "source": [
    "len(X)"
   ]
  },
  {
   "cell_type": "code",
   "execution_count": null,
   "metadata": {
    "id": "QSSwinDgexwn"
   },
   "outputs": [],
   "source": [
    "X_train=[]\n",
    "X_test=[]\n",
    "y_train=[]\n",
    "y_test=[]"
   ]
  },
  {
   "cell_type": "code",
   "execution_count": null,
   "metadata": {
    "id": "r80_93B_hCQ7"
   },
   "outputs": [],
   "source": [
    "count=0\n",
    "for i in X:\n",
    "  if(count<918):\n",
    "    X_train.append(i)\n",
    "  else:\n",
    "    X_test.append(i)\n",
    "  count+=1"
   ]
  },
  {
   "cell_type": "code",
   "execution_count": null,
   "metadata": {
    "id": "NUawopCEhCRH"
   },
   "outputs": [],
   "source": [
    "count=0\n",
    "for i in y:\n",
    "  if(count<459):\n",
    "    y_train.append(i)\n",
    "  else:\n",
    "    y_test.append(i)\n",
    "  count+=1"
   ]
  },
  {
   "cell_type": "code",
   "execution_count": null,
   "metadata": {
    "id": "2E_n6f8ahS6d"
   },
   "outputs": [],
   "source": [
    "X_train=np.array(X_train)\n",
    "X_test=np.array(X_test)\n",
    "y_train=np.array(y_train)\n",
    "y_test=np.array(y_test)"
   ]
  },
  {
   "cell_type": "code",
   "execution_count": null,
   "metadata": {
    "colab": {
     "base_uri": "https://localhost:8080/"
    },
    "id": "PkqxMdKlhpPl",
    "outputId": "ffba8dc6-c094-42ea-80f0-6a3ba5208622"
   },
   "outputs": [
    {
     "data": {
      "text/plain": [
       "(918, 36)"
      ]
     },
     "execution_count": 57,
     "metadata": {},
     "output_type": "execute_result"
    }
   ],
   "source": [
    "X_train.shape"
   ]
  },
  {
   "cell_type": "code",
   "execution_count": null,
   "metadata": {
    "id": "uvwSBVo4hqYG"
   },
   "outputs": [],
   "source": [
    "X_train=X_train.reshape(459,2,36)"
   ]
  },
  {
   "cell_type": "code",
   "execution_count": null,
   "metadata": {
    "colab": {
     "base_uri": "https://localhost:8080/"
    },
    "id": "Xt0nbzr6hums",
    "outputId": "51e1ff28-c0a6-46f4-b292-1da31ce300c5"
   },
   "outputs": [
    {
     "data": {
      "text/plain": [
       "(230, 36)"
      ]
     },
     "execution_count": 59,
     "metadata": {},
     "output_type": "execute_result"
    }
   ],
   "source": [
    "X_test.shape"
   ]
  },
  {
   "cell_type": "code",
   "execution_count": null,
   "metadata": {
    "id": "5xgMO3hphwEl"
   },
   "outputs": [],
   "source": [
    "X_test=X_test.reshape(115,2,36)"
   ]
  },
  {
   "cell_type": "code",
   "execution_count": null,
   "metadata": {
    "id": "-456J6DJ2JAJ"
   },
   "outputs": [],
   "source": [
    "selected_indices = random.sample(range(len(X_train)), 229)\n",
    "\n",
    "# Retrieve corresponding X_train[i] and y_train[i\n",
    "s_X_train = [X_train[i] for i in selected_indices]\n",
    "s_y_train = [y_train[i] for i in selected_indices]"
   ]
  },
  {
   "cell_type": "code",
   "execution_count": null,
   "metadata": {
    "id": "fzPMtkWu2n5B"
   },
   "outputs": [],
   "source": [
    "selected_indices = random.sample(range(len(X_test)), 58)\n",
    "\n",
    "# Retrieve corresponding X_train[i] and y_train[i\n",
    "s_X_test = [X_test[i] for i in selected_indices]\n",
    "s_y_test = [y_test[i] for i in selected_indices]"
   ]
  },
  {
   "cell_type": "code",
   "execution_count": null,
   "metadata": {
    "id": "ohl86qXb2wK3"
   },
   "outputs": [],
   "source": [
    "s_X_train=np.array(s_X_train)\n",
    "s_X_test=np.array(s_X_test)\n",
    "s_y_train=np.array(s_y_train)\n",
    "s_y_test=np.array(s_y_test)"
   ]
  },
  {
   "cell_type": "code",
   "execution_count": null,
   "metadata": {
    "id": "YfWnD3Qeh03i"
   },
   "outputs": [],
   "source": [
    "model_m2 = Sequential()\n",
    "model_m2.add(LSTM(50, activation='relu', return_sequences=True, input_shape=(2, 36)))\n",
    "model_m2.add(LSTM(50, activation='relu'))\n",
    "model_m2.add(Dense(36))\n",
    "model_m2.compile(optimizer='adam', loss='mse')"
   ]
  },
  {
   "cell_type": "code",
   "execution_count": null,
   "metadata": {
    "id": "-cV-E3GZjm65"
   },
   "outputs": [],
   "source": [
    "model1_m2 = Sequential()\n",
    "model1_m2.add(LSTM(50, activation='relu', return_sequences=True, input_shape=(2, 36)))\n",
    "model1_m2.add(LSTM(50, activation='relu'))\n",
    "model1_m2.add(Dense(36))\n",
    "model1_m2.compile(optimizer='adam', loss='mse')"
   ]
  },
  {
   "cell_type": "code",
   "execution_count": null,
   "metadata": {
    "id": "jyvkb38ajxTc"
   },
   "outputs": [],
   "source": [
    "model2_m2 = Sequential()\n",
    "model2_m2.add(LSTM(50, activation='relu', return_sequences=True, input_shape=(2, 36)))\n",
    "model2_m2.add(LSTM(50, activation='relu'))\n",
    "model2_m2.add(Dense(36))\n",
    "model2_m2.compile(optimizer='adam', loss='mse')"
   ]
  },
  {
   "cell_type": "code",
   "execution_count": null,
   "metadata": {
    "colab": {
     "base_uri": "https://localhost:8080/"
    },
    "id": "cBlGLi6Sj2mW",
    "outputId": "f4ff0e7f-3085-4a23-d2cd-9f9c7c2a02a0"
   },
   "outputs": [
    {
     "name": "stdout",
     "output_type": "stream",
     "text": [
      "Epoch 1/30\n",
      "8/8 [==============================] - 7s 12ms/step - loss: 0.2098\n",
      "Epoch 2/30\n",
      "8/8 [==============================] - 0s 9ms/step - loss: 0.1973\n",
      "Epoch 3/30\n",
      "8/8 [==============================] - 0s 10ms/step - loss: 0.1798\n",
      "Epoch 4/30\n",
      "8/8 [==============================] - 0s 10ms/step - loss: 0.1489\n",
      "Epoch 5/30\n",
      "8/8 [==============================] - 0s 9ms/step - loss: 0.1141\n",
      "Epoch 6/30\n",
      "8/8 [==============================] - 0s 10ms/step - loss: 0.0977\n",
      "Epoch 7/30\n",
      "8/8 [==============================] - 0s 11ms/step - loss: 0.0837\n",
      "Epoch 8/30\n",
      "8/8 [==============================] - 0s 9ms/step - loss: 0.0752\n",
      "Epoch 9/30\n",
      "8/8 [==============================] - 0s 9ms/step - loss: 0.0677\n",
      "Epoch 10/30\n",
      "8/8 [==============================] - 0s 10ms/step - loss: 0.0603\n",
      "Epoch 11/30\n",
      "8/8 [==============================] - 0s 9ms/step - loss: 0.0538\n",
      "Epoch 12/30\n",
      "8/8 [==============================] - 0s 10ms/step - loss: 0.0496\n",
      "Epoch 13/30\n",
      "8/8 [==============================] - 0s 10ms/step - loss: 0.0460\n",
      "Epoch 14/30\n",
      "8/8 [==============================] - 0s 10ms/step - loss: 0.0438\n",
      "Epoch 15/30\n",
      "8/8 [==============================] - 0s 10ms/step - loss: 0.0418\n",
      "Epoch 16/30\n",
      "8/8 [==============================] - 0s 9ms/step - loss: 0.0403\n",
      "Epoch 17/30\n",
      "8/8 [==============================] - 0s 10ms/step - loss: 0.0388\n",
      "Epoch 18/30\n",
      "8/8 [==============================] - 0s 10ms/step - loss: 0.0378\n",
      "Epoch 19/30\n",
      "8/8 [==============================] - 0s 11ms/step - loss: 0.0369\n",
      "Epoch 20/30\n",
      "8/8 [==============================] - 0s 11ms/step - loss: 0.0361\n",
      "Epoch 21/30\n",
      "8/8 [==============================] - 0s 10ms/step - loss: 0.0358\n",
      "Epoch 22/30\n",
      "8/8 [==============================] - 0s 7ms/step - loss: 0.0351\n",
      "Epoch 23/30\n",
      "8/8 [==============================] - 0s 11ms/step - loss: 0.0344\n",
      "Epoch 24/30\n",
      "8/8 [==============================] - 0s 11ms/step - loss: 0.0338\n",
      "Epoch 25/30\n",
      "8/8 [==============================] - 0s 11ms/step - loss: 0.0333\n",
      "Epoch 26/30\n",
      "8/8 [==============================] - 0s 11ms/step - loss: 0.0329\n",
      "Epoch 27/30\n",
      "8/8 [==============================] - 0s 9ms/step - loss: 0.0324\n",
      "Epoch 28/30\n",
      "8/8 [==============================] - 0s 10ms/step - loss: 0.0327\n",
      "Epoch 29/30\n",
      "8/8 [==============================] - 0s 9ms/step - loss: 0.0317\n",
      "Epoch 30/30\n",
      "8/8 [==============================] - 0s 11ms/step - loss: 0.0313\n"
     ]
    },
    {
     "data": {
      "text/plain": [
       "<keras.src.callbacks.History at 0x7c4fcafa1ab0>"
      ]
     },
     "execution_count": 152,
     "metadata": {},
     "output_type": "execute_result"
    }
   ],
   "source": [
    "model2_m2.fit(s_X_train,s_y_train,epochs=30,verbose=1)"
   ]
  },
  {
   "cell_type": "code",
   "execution_count": null,
   "metadata": {
    "colab": {
     "base_uri": "https://localhost:8080/"
    },
    "id": "AnV6htKAjqe2",
    "outputId": "be9bda2d-2488-4d99-c811-441f0037ecb6"
   },
   "outputs": [
    {
     "name": "stdout",
     "output_type": "stream",
     "text": [
      "Epoch 1/30\n",
      "8/8 [==============================] - 8s 16ms/step - loss: 0.2050\n",
      "Epoch 2/30\n",
      "8/8 [==============================] - 0s 10ms/step - loss: 0.1889\n",
      "Epoch 3/30\n",
      "8/8 [==============================] - 0s 8ms/step - loss: 0.1639\n",
      "Epoch 4/30\n",
      "8/8 [==============================] - 0s 11ms/step - loss: 0.1255\n",
      "Epoch 5/30\n",
      "8/8 [==============================] - 0s 11ms/step - loss: 0.1043\n",
      "Epoch 6/30\n",
      "8/8 [==============================] - 0s 10ms/step - loss: 0.0869\n",
      "Epoch 7/30\n",
      "8/8 [==============================] - 0s 10ms/step - loss: 0.0753\n",
      "Epoch 8/30\n",
      "8/8 [==============================] - 0s 11ms/step - loss: 0.0666\n",
      "Epoch 9/30\n",
      "8/8 [==============================] - 0s 9ms/step - loss: 0.0593\n",
      "Epoch 10/30\n",
      "8/8 [==============================] - 0s 10ms/step - loss: 0.0546\n",
      "Epoch 11/30\n",
      "8/8 [==============================] - 0s 10ms/step - loss: 0.0510\n",
      "Epoch 12/30\n",
      "8/8 [==============================] - 0s 11ms/step - loss: 0.0487\n",
      "Epoch 13/30\n",
      "8/8 [==============================] - 0s 9ms/step - loss: 0.0464\n",
      "Epoch 14/30\n",
      "8/8 [==============================] - 0s 10ms/step - loss: 0.0448\n",
      "Epoch 15/30\n",
      "8/8 [==============================] - 0s 9ms/step - loss: 0.0434\n",
      "Epoch 16/30\n",
      "8/8 [==============================] - 0s 8ms/step - loss: 0.0422\n",
      "Epoch 17/30\n",
      "8/8 [==============================] - 0s 8ms/step - loss: 0.0411\n",
      "Epoch 18/30\n",
      "8/8 [==============================] - 0s 8ms/step - loss: 0.0400\n",
      "Epoch 19/30\n",
      "8/8 [==============================] - 0s 9ms/step - loss: 0.0389\n",
      "Epoch 20/30\n",
      "8/8 [==============================] - 0s 8ms/step - loss: 0.0381\n",
      "Epoch 21/30\n",
      "8/8 [==============================] - 0s 8ms/step - loss: 0.0373\n",
      "Epoch 22/30\n",
      "8/8 [==============================] - 0s 8ms/step - loss: 0.0367\n",
      "Epoch 23/30\n",
      "8/8 [==============================] - 0s 9ms/step - loss: 0.0358\n",
      "Epoch 24/30\n",
      "8/8 [==============================] - 0s 9ms/step - loss: 0.0351\n",
      "Epoch 25/30\n",
      "8/8 [==============================] - 0s 10ms/step - loss: 0.0344\n",
      "Epoch 26/30\n",
      "8/8 [==============================] - 0s 9ms/step - loss: 0.0337\n",
      "Epoch 27/30\n",
      "8/8 [==============================] - 0s 8ms/step - loss: 0.0332\n",
      "Epoch 28/30\n",
      "8/8 [==============================] - 0s 10ms/step - loss: 0.0331\n",
      "Epoch 29/30\n",
      "8/8 [==============================] - 0s 9ms/step - loss: 0.0323\n",
      "Epoch 30/30\n",
      "8/8 [==============================] - 0s 9ms/step - loss: 0.0319\n"
     ]
    },
    {
     "data": {
      "text/plain": [
       "<keras.src.callbacks.History at 0x7c4fcaa17d30>"
      ]
     },
     "execution_count": 153,
     "metadata": {},
     "output_type": "execute_result"
    }
   ],
   "source": [
    "model1_m2.fit(s_X_train,s_y_train,epochs=30,verbose=1)"
   ]
  },
  {
   "cell_type": "code",
   "execution_count": null,
   "metadata": {
    "colab": {
     "base_uri": "https://localhost:8080/"
    },
    "id": "7Lq498X7iYko",
    "outputId": "3f3ddb47-f0d3-4688-cbf9-89b7cbc62da0"
   },
   "outputs": [
    {
     "name": "stdout",
     "output_type": "stream",
     "text": [
      "Epoch 1/30\n",
      "8/8 [==============================] - 8s 8ms/step - loss: 0.2048\n",
      "Epoch 2/30\n",
      "8/8 [==============================] - 0s 12ms/step - loss: 0.1885\n",
      "Epoch 3/30\n",
      "8/8 [==============================] - 0s 14ms/step - loss: 0.1605\n",
      "Epoch 4/30\n",
      "8/8 [==============================] - 0s 9ms/step - loss: 0.1250\n",
      "Epoch 5/30\n",
      "8/8 [==============================] - 0s 12ms/step - loss: 0.1026\n",
      "Epoch 6/30\n",
      "8/8 [==============================] - 0s 9ms/step - loss: 0.0844\n",
      "Epoch 7/30\n",
      "8/8 [==============================] - 0s 9ms/step - loss: 0.0756\n",
      "Epoch 8/30\n",
      "8/8 [==============================] - 0s 9ms/step - loss: 0.0681\n",
      "Epoch 9/30\n",
      "8/8 [==============================] - 0s 8ms/step - loss: 0.0605\n",
      "Epoch 10/30\n",
      "8/8 [==============================] - 0s 11ms/step - loss: 0.0546\n",
      "Epoch 11/30\n",
      "8/8 [==============================] - 0s 9ms/step - loss: 0.0500\n",
      "Epoch 12/30\n",
      "8/8 [==============================] - 0s 12ms/step - loss: 0.0475\n",
      "Epoch 13/30\n",
      "8/8 [==============================] - 0s 10ms/step - loss: 0.0451\n",
      "Epoch 14/30\n",
      "8/8 [==============================] - 0s 14ms/step - loss: 0.0436\n",
      "Epoch 15/30\n",
      "8/8 [==============================] - 0s 14ms/step - loss: 0.0421\n",
      "Epoch 16/30\n",
      "8/8 [==============================] - 0s 13ms/step - loss: 0.0410\n",
      "Epoch 17/30\n",
      "8/8 [==============================] - 0s 9ms/step - loss: 0.0400\n",
      "Epoch 18/30\n",
      "8/8 [==============================] - 0s 12ms/step - loss: 0.0394\n",
      "Epoch 19/30\n",
      "8/8 [==============================] - 0s 8ms/step - loss: 0.0382\n",
      "Epoch 20/30\n",
      "8/8 [==============================] - 0s 10ms/step - loss: 0.0375\n",
      "Epoch 21/30\n",
      "8/8 [==============================] - 0s 12ms/step - loss: 0.0370\n",
      "Epoch 22/30\n",
      "8/8 [==============================] - 0s 13ms/step - loss: 0.0361\n",
      "Epoch 23/30\n",
      "8/8 [==============================] - 0s 12ms/step - loss: 0.0350\n",
      "Epoch 24/30\n",
      "8/8 [==============================] - 0s 19ms/step - loss: 0.0342\n",
      "Epoch 25/30\n",
      "8/8 [==============================] - 0s 19ms/step - loss: 0.0334\n",
      "Epoch 26/30\n",
      "8/8 [==============================] - 0s 15ms/step - loss: 0.0327\n",
      "Epoch 27/30\n",
      "8/8 [==============================] - 0s 14ms/step - loss: 0.0321\n",
      "Epoch 28/30\n",
      "8/8 [==============================] - 0s 7ms/step - loss: 0.0319\n",
      "Epoch 29/30\n",
      "8/8 [==============================] - 0s 5ms/step - loss: 0.0310\n",
      "Epoch 30/30\n",
      "8/8 [==============================] - 0s 5ms/step - loss: 0.0304\n"
     ]
    },
    {
     "data": {
      "text/plain": [
       "<keras.src.callbacks.History at 0x7c4fcafa07c0>"
      ]
     },
     "execution_count": 154,
     "metadata": {},
     "output_type": "execute_result"
    }
   ],
   "source": [
    "model_m2.fit(s_X_train,s_y_train,epochs=30,verbose=1)"
   ]
  },
  {
   "cell_type": "code",
   "execution_count": null,
   "metadata": {
    "colab": {
     "base_uri": "https://localhost:8080/"
    },
    "id": "tdx_ggikiewS",
    "outputId": "2d66230e-f7ab-479d-f75d-62bd9305816c"
   },
   "outputs": [
    {
     "name": "stdout",
     "output_type": "stream",
     "text": [
      "2/2 [==============================] - 1s 7ms/step\n"
     ]
    }
   ],
   "source": [
    "y_pred=model_m2.predict(s_X_test)"
   ]
  },
  {
   "cell_type": "code",
   "execution_count": null,
   "metadata": {
    "colab": {
     "base_uri": "https://localhost:8080/"
    },
    "id": "5sNo5aX3jZdE",
    "outputId": "2503e0b4-9fa0-4f3a-ad74-6bb988be6915"
   },
   "outputs": [
    {
     "data": {
      "text/plain": [
       "0.05869650130477655"
      ]
     },
     "execution_count": 67,
     "metadata": {},
     "output_type": "execute_result"
    }
   ],
   "source": [
    "mean_squared_error(y_test,y_pred)"
   ]
  },
  {
   "cell_type": "code",
   "execution_count": null,
   "metadata": {
    "colab": {
     "base_uri": "https://localhost:8080/"
    },
    "id": "ZvlQ0XlS3BxY",
    "outputId": "28d4bf18-eb25-4ac6-fe7d-429e34d90318"
   },
   "outputs": [
    {
     "data": {
      "text/plain": [
       "0.0669522697322551"
      ]
     },
     "execution_count": 156,
     "metadata": {},
     "output_type": "execute_result"
    }
   ],
   "source": [
    "mean_squared_error(s_y_test,y_pred)"
   ]
  },
  {
   "cell_type": "code",
   "execution_count": null,
   "metadata": {
    "colab": {
     "base_uri": "https://localhost:8080/"
    },
    "id": "EYx1k7pCkM0n",
    "outputId": "c98bd425-d47e-4a1a-b1c6-ba2d62afd716"
   },
   "outputs": [
    {
     "name": "stdout",
     "output_type": "stream",
     "text": [
      "4/4 [==============================] - 0s 6ms/step\n"
     ]
    }
   ],
   "source": [
    "y_pred1=model1_m2.predict(X_test)"
   ]
  },
  {
   "cell_type": "code",
   "execution_count": null,
   "metadata": {
    "colab": {
     "base_uri": "https://localhost:8080/"
    },
    "id": "I-e2d2_P3Eip",
    "outputId": "1d253d99-09b9-4f28-e42e-ba146d44f843"
   },
   "outputs": [
    {
     "name": "stdout",
     "output_type": "stream",
     "text": [
      "2/2 [==============================] - 1s 13ms/step\n"
     ]
    }
   ],
   "source": [
    "y_pred1=model1_m2.predict(s_X_test)"
   ]
  },
  {
   "cell_type": "code",
   "execution_count": null,
   "metadata": {
    "colab": {
     "base_uri": "https://localhost:8080/"
    },
    "id": "RS2z_VKtjj2j",
    "outputId": "598f8e61-a3ed-4661-f5ce-ca6065ef06c4"
   },
   "outputs": [
    {
     "name": "stdout",
     "output_type": "stream",
     "text": [
      "4/4 [==============================] - 0s 5ms/step\n"
     ]
    }
   ],
   "source": [
    "y_pred2=model2_m2.predict(X_test)"
   ]
  },
  {
   "cell_type": "code",
   "execution_count": null,
   "metadata": {
    "colab": {
     "base_uri": "https://localhost:8080/"
    },
    "id": "U55DLy8j3Hif",
    "outputId": "1bd70fa8-daa3-41f6-9bdf-98afd42f91a6"
   },
   "outputs": [
    {
     "name": "stdout",
     "output_type": "stream",
     "text": [
      "2/2 [==============================] - 1s 11ms/step\n"
     ]
    }
   ],
   "source": [
    "y_pred2=model2_m2.predict(s_X_test)"
   ]
  },
  {
   "cell_type": "code",
   "execution_count": null,
   "metadata": {
    "colab": {
     "base_uri": "https://localhost:8080/"
    },
    "id": "K8dbeqCakRDE",
    "outputId": "8c637cf7-2fc7-494a-e5d7-e7819fdcc4f6"
   },
   "outputs": [
    {
     "data": {
      "text/plain": [
       "0.058773539493654825"
      ]
     },
     "execution_count": 74,
     "metadata": {},
     "output_type": "execute_result"
    }
   ],
   "source": [
    "mean_squared_error(y_test,y_pred1)"
   ]
  },
  {
   "cell_type": "code",
   "execution_count": null,
   "metadata": {
    "colab": {
     "base_uri": "https://localhost:8080/"
    },
    "id": "to_O2xwK3KIj",
    "outputId": "0029be94-3afa-4e9b-d795-a83e0108eec7"
   },
   "outputs": [
    {
     "data": {
      "text/plain": [
       "0.06763404060718921"
      ]
     },
     "execution_count": 159,
     "metadata": {},
     "output_type": "execute_result"
    }
   ],
   "source": [
    "mean_squared_error(s_y_test,y_pred1)"
   ]
  },
  {
   "cell_type": "code",
   "execution_count": null,
   "metadata": {
    "colab": {
     "base_uri": "https://localhost:8080/"
    },
    "id": "EkhO3HMikT9t",
    "outputId": "253b155e-fdac-4ba1-bbfe-f9f1a51ab107"
   },
   "outputs": [
    {
     "data": {
      "text/plain": [
       "0.06043489714617948"
      ]
     },
     "execution_count": 75,
     "metadata": {},
     "output_type": "execute_result"
    }
   ],
   "source": [
    "mean_squared_error(y_test,y_pred2)"
   ]
  },
  {
   "cell_type": "code",
   "execution_count": null,
   "metadata": {
    "colab": {
     "base_uri": "https://localhost:8080/"
    },
    "id": "eQmbvJFw3MYc",
    "outputId": "4e4eaf1f-fd50-44d8-8b4b-f5124e3552b2"
   },
   "outputs": [
    {
     "data": {
      "text/plain": [
       "0.06868627969611125"
      ]
     },
     "execution_count": 160,
     "metadata": {},
     "output_type": "execute_result"
    }
   ],
   "source": [
    "mean_squared_error(s_y_test,y_pred2)"
   ]
  },
  {
   "cell_type": "code",
   "execution_count": null,
   "metadata": {
    "colab": {
     "base_uri": "https://localhost:8080/"
    },
    "id": "MnSE-ttXk0SE",
    "outputId": "3024f93a-8f18-4cad-a892-87d4c2be3174"
   },
   "outputs": [
    {
     "data": {
      "text/plain": [
       "['drive/MyDrive/S_Only_LSTM_Model_M2.pkl']"
      ]
     },
     "execution_count": 161,
     "metadata": {},
     "output_type": "execute_result"
    }
   ],
   "source": [
    "joblib.dump(model_m2,\"drive/MyDrive/S_Only_LSTM_Model_M2.pkl\")"
   ]
  },
  {
   "cell_type": "code",
   "execution_count": null,
   "metadata": {
    "colab": {
     "base_uri": "https://localhost:8080/"
    },
    "id": "azdKvPyLlBck",
    "outputId": "879b2386-6e66-4c0f-8633-ee9ac7652c96"
   },
   "outputs": [
    {
     "data": {
      "text/plain": [
       "['drive/MyDrive/S_Only_LSTM_Model1_M2.pkl']"
      ]
     },
     "execution_count": 162,
     "metadata": {},
     "output_type": "execute_result"
    }
   ],
   "source": [
    "joblib.dump(model1_m2,\"drive/MyDrive/S_Only_LSTM_Model1_M2.pkl\")"
   ]
  },
  {
   "cell_type": "code",
   "execution_count": null,
   "metadata": {
    "colab": {
     "base_uri": "https://localhost:8080/"
    },
    "id": "8ocUJ9X8lElC",
    "outputId": "24762804-ecce-41e1-97c8-fe13193bacfb"
   },
   "outputs": [
    {
     "data": {
      "text/plain": [
       "['drive/MyDrive/S_Only_LSTM_Model2_M2.pkl']"
      ]
     },
     "execution_count": 163,
     "metadata": {},
     "output_type": "execute_result"
    }
   ],
   "source": [
    "joblib.dump(model2_m2,\"drive/MyDrive/S_Only_LSTM_Model2_M2.pkl\")"
   ]
  },
  {
   "cell_type": "markdown",
   "metadata": {
    "id": "7Zsw7ErrlVaG"
   },
   "source": [
    "## Model_M3"
   ]
  },
  {
   "cell_type": "code",
   "execution_count": null,
   "metadata": {
    "colab": {
     "base_uri": "https://localhost:8080/"
    },
    "id": "ilHM4QZ0lW6W",
    "outputId": "1622e682-dd8c-4bff-d0aa-4b499946e868"
   },
   "outputs": [
    {
     "name": "stdout",
     "output_type": "stream",
     "text": [
      "[0, 1, 2, 3]\n",
      "[4, 5, 6, 7]\n",
      "[8, 9, 10, 11]\n",
      "[12, 13, 14, 15]\n",
      "[16, 17, 18, 19]\n",
      "[20, 21, 22, 23]\n",
      "[24, 25, 26, 27]\n",
      "[28, 29, 30, 31]\n",
      "[32, 33, 34, 35]\n",
      "[36, 37, 38, 39]\n",
      "[40, 41, 42, 43]\n",
      "[44, 45, 46, 47]\n",
      "[48, 49, 50, 51]\n",
      "[52, 53, 54, 55]\n",
      "[56, 57, 58, 59]\n",
      "[60, 61, 62, 63]\n",
      "[64, 65, 66, 67]\n",
      "[68, 69, 70, 71]\n",
      "[72, 73, 74, 75]\n",
      "[76, 77, 78, 79]\n",
      "[80, 81, 82, 83]\n",
      "[84, 85, 86, 87]\n",
      "[88, 89, 90, 91]\n",
      "[92, 93, 94, 95]\n",
      "[96, 97, 98, 99]\n",
      "[100, 101, 102, 103]\n",
      "[104, 105, 106, 107]\n",
      "[108, 109, 110, 111]\n",
      "[112, 113, 114, 115]\n",
      "[116, 117, 118, 119]\n",
      "[120, 121, 122, 123]\n",
      "[124, 125, 126, 127]\n",
      "[128, 129, 130, 131]\n",
      "[132, 133, 134, 135]\n",
      "[136, 137, 138, 139]\n",
      "[140, 141, 142, 143]\n",
      "[144, 145, 146, 147]\n",
      "[148, 149, 150, 151]\n",
      "[152, 153, 154, 155]\n",
      "[156, 157, 158, 159]\n",
      "[160, 161, 162, 163]\n",
      "[164, 165, 166, 167]\n",
      "[168, 169, 170, 171]\n",
      "[172, 173, 174, 175]\n",
      "[176, 177, 178, 179]\n",
      "[180, 181, 182, 183]\n",
      "[184, 185, 186, 187]\n",
      "[188, 189, 190, 191]\n",
      "[192, 193, 194, 195]\n",
      "[196, 197, 198, 199]\n",
      "[200, 201, 202, 203]\n",
      "[204, 205, 206, 207]\n",
      "[208, 209, 210, 211]\n",
      "[212, 213, 214, 215]\n",
      "[216, 217, 218, 219]\n",
      "[220, 221, 222, 223]\n",
      "[224, 225, 226, 227]\n",
      "[228, 229, 230, 231]\n",
      "[232, 233, 234, 235]\n",
      "[236, 237, 238, 239]\n",
      "[240, 241, 242, 243]\n",
      "[244, 245, 246, 247]\n",
      "[248, 249, 250, 251]\n",
      "[252, 253, 254, 255]\n",
      "[256, 257, 258, 259]\n",
      "[260, 261, 262, 263]\n",
      "[264, 265, 266, 267]\n",
      "[268, 269, 270, 271]\n",
      "[272, 273, 274, 275]\n",
      "[276, 277, 278, 279]\n",
      "[280, 281, 282, 283]\n",
      "[284, 285, 286, 287]\n",
      "[288, 289, 290, 291]\n",
      "[292, 293, 294, 295]\n",
      "[296, 297, 298, 299]\n",
      "[300, 301, 302, 303]\n",
      "[304, 305, 306, 307]\n",
      "[308, 309, 310, 311]\n",
      "[312, 313, 314, 315]\n",
      "[316, 317, 318, 319]\n",
      "[320, 321, 322, 323]\n",
      "[324, 325, 326, 327]\n",
      "[328, 329, 330, 331]\n",
      "[332, 333, 334, 335]\n",
      "[336, 337, 338, 339]\n",
      "[340, 341, 342, 343]\n",
      "[344, 345, 346, 347]\n",
      "[348, 349, 350, 351]\n",
      "[352, 353, 354, 355]\n",
      "[356, 357, 358, 359]\n",
      "[360, 361, 362, 363]\n",
      "[364, 365, 366, 367]\n",
      "[368, 369, 370, 371]\n",
      "[372, 373, 374, 375]\n",
      "[376, 377, 378, 379]\n",
      "[380, 381, 382, 383]\n",
      "[384, 385, 386, 387]\n",
      "[388, 389, 390, 391]\n",
      "[392, 393, 394, 395]\n",
      "[396, 397, 398, 399]\n",
      "[400, 401, 402, 403]\n",
      "[404, 405, 406, 407]\n",
      "[408, 409, 410, 411]\n",
      "[412, 413, 414, 415]\n",
      "[416, 417, 418, 419]\n",
      "[420, 421, 422, 423]\n",
      "[424, 425, 426, 427]\n",
      "[428, 429, 430, 431]\n",
      "[432, 433, 434, 435]\n",
      "[436, 437, 438, 439]\n",
      "[440, 441, 442, 443]\n",
      "[444, 445, 446, 447]\n",
      "[448, 449, 450, 451]\n",
      "[452, 453, 454, 455]\n",
      "[456, 457, 458, 459]\n",
      "[460, 461, 462, 463]\n",
      "[464, 465, 466, 467]\n",
      "[468, 469, 470, 471]\n",
      "[472, 473, 474, 475]\n",
      "[476, 477, 478, 479]\n",
      "[480, 481, 482, 483]\n",
      "[484, 485, 486, 487]\n",
      "[488, 489, 490, 491]\n",
      "[492, 493, 494, 495]\n",
      "[496, 497, 498, 499]\n",
      "[500, 501, 502, 503]\n",
      "[504, 505, 506, 507]\n",
      "[508, 509, 510, 511]\n",
      "[512, 513, 514, 515]\n",
      "[516, 517, 518, 519]\n",
      "[520, 521, 522, 523]\n",
      "[524, 525, 526, 527]\n",
      "[528, 529, 530, 531]\n",
      "[532, 533, 534, 535]\n",
      "[536, 537, 538, 539]\n",
      "[540, 541, 542, 543]\n",
      "[544, 545, 546, 547]\n",
      "[548, 549, 550, 551]\n",
      "[552, 553, 554, 555]\n",
      "[556, 557, 558, 559]\n",
      "[560, 561, 562, 563]\n",
      "[564, 565, 566, 567]\n",
      "[568, 569, 570, 571]\n",
      "[572, 573, 574, 575]\n",
      "[576, 577, 578, 579]\n",
      "[580, 581, 582, 583]\n",
      "[584, 585, 586, 587]\n",
      "[588, 589, 590, 591]\n",
      "[592, 593, 594, 595]\n",
      "[596, 597, 598, 599]\n",
      "[600, 601, 602, 603]\n",
      "[604, 605, 606, 607]\n",
      "[608, 609, 610, 611]\n",
      "[612, 613, 614, 615]\n",
      "[616, 617, 618, 619]\n",
      "[620, 621, 622, 623]\n",
      "[624, 625, 626, 627]\n",
      "[628, 629, 630, 631]\n",
      "[632, 633, 634, 635]\n",
      "[636, 637, 638, 639]\n",
      "[640, 641, 642, 643]\n",
      "[644, 645, 646, 647]\n",
      "[648, 649, 650, 651]\n",
      "[652, 653, 654, 655]\n",
      "[656, 657, 658, 659]\n",
      "[660, 661, 662, 663]\n",
      "[664, 665, 666, 667]\n",
      "[668, 669, 670, 671]\n",
      "[672, 673, 674, 675]\n",
      "[676, 677, 678, 679]\n",
      "[680, 681, 682, 683]\n",
      "[684, 685, 686, 687]\n",
      "[688, 689, 690, 691]\n",
      "[692, 693, 694, 695]\n",
      "[696, 697, 698, 699]\n",
      "[700, 701, 702, 703]\n",
      "[704, 705, 706, 707]\n",
      "[708, 709, 710, 711]\n",
      "[712, 713, 714, 715]\n",
      "[716, 717, 718, 719]\n",
      "[720, 721, 722, 723]\n",
      "[724, 725, 726, 727]\n",
      "[728, 729, 730, 731]\n",
      "[732, 733, 734, 735]\n",
      "[736, 737, 738, 739]\n",
      "[740, 741, 742, 743]\n",
      "[744, 745, 746, 747]\n",
      "[748, 749, 750, 751]\n",
      "[752, 753, 754, 755]\n",
      "[756, 757, 758, 759]\n",
      "[760, 761, 762, 763]\n",
      "[764, 765, 766, 767]\n",
      "[768, 769, 770, 771]\n",
      "[772, 773, 774, 775]\n",
      "[776, 777, 778, 779]\n",
      "[780, 781, 782, 783]\n",
      "[784, 785, 786, 787]\n",
      "[788, 789, 790, 791]\n",
      "[792, 793, 794, 795]\n",
      "[796, 797, 798, 799]\n",
      "[800, 801, 802, 803]\n",
      "[804, 805, 806, 807]\n",
      "[808, 809, 810, 811]\n",
      "[812, 813, 814, 815]\n",
      "[816, 817, 818, 819]\n",
      "[820, 821, 822, 823]\n",
      "[824, 825, 826, 827]\n",
      "[828, 829, 830, 831]\n",
      "[832, 833, 834, 835]\n",
      "[836, 837, 838, 839]\n",
      "[840, 841, 842, 843]\n",
      "[844, 845, 846, 847]\n",
      "[848, 849, 850, 851]\n",
      "[852, 853, 854, 855]\n",
      "[856, 857, 858, 859]\n",
      "[860, 861, 862, 863]\n",
      "[864, 865, 866, 867]\n",
      "[868, 869, 870, 871]\n",
      "[872, 873, 874, 875]\n",
      "[876, 877, 878, 879]\n",
      "[880, 881, 882, 883]\n",
      "[884, 885, 886, 887]\n",
      "[888, 889, 890, 891]\n",
      "[892, 893, 894, 895]\n",
      "[896, 897, 898, 899]\n",
      "[900, 901, 902, 903]\n",
      "[904, 905, 906, 907]\n",
      "[908, 909, 910, 911]\n",
      "[912, 913, 914, 915]\n",
      "[916, 917, 918, 919]\n",
      "[920, 921, 922, 923]\n",
      "[924, 925, 926, 927]\n",
      "[928, 929, 930, 931]\n",
      "[932, 933, 934, 935]\n",
      "[936, 937, 938, 939]\n",
      "[940, 941, 942, 943]\n",
      "[944, 945, 946, 947]\n",
      "[948, 949, 950, 951]\n",
      "[952, 953, 954, 955]\n",
      "[956, 957, 958, 959]\n",
      "[960, 961, 962, 963]\n",
      "[964, 965, 966, 967]\n",
      "[968, 969, 970, 971]\n",
      "[972, 973, 974, 975]\n",
      "[976, 977, 978, 979]\n",
      "[980, 981, 982, 983]\n",
      "[984, 985, 986, 987]\n",
      "[988, 989, 990, 991]\n",
      "[992, 993, 994, 995]\n",
      "[996, 997, 998, 999]\n",
      "[1000, 1001, 1002, 1003]\n",
      "[1004, 1005, 1006, 1007]\n",
      "[1008, 1009, 1010, 1011]\n",
      "[1012, 1013, 1014, 1015]\n",
      "[1016, 1017, 1018, 1019]\n",
      "[1020, 1021, 1022, 1023]\n",
      "[1024, 1025, 1026, 1027]\n",
      "[1028, 1029, 1030, 1031]\n",
      "[1032, 1033, 1034, 1035]\n",
      "[1036, 1037, 1038, 1039]\n",
      "[1040, 1041, 1042, 1043]\n",
      "[1044, 1045, 1046, 1047]\n",
      "[1048, 1049, 1050, 1051]\n",
      "[1052, 1053, 1054, 1055]\n",
      "[1056, 1057, 1058, 1059]\n",
      "[1060, 1061, 1062, 1063]\n",
      "[1064, 1065, 1066, 1067]\n",
      "[1068, 1069, 1070, 1071]\n",
      "[1072, 1073, 1074, 1075]\n",
      "[1076, 1077, 1078, 1079]\n",
      "[1080, 1081, 1082, 1083]\n",
      "[1084, 1085, 1086, 1087]\n",
      "[1088, 1089, 1090, 1091]\n",
      "[1092, 1093, 1094, 1095]\n",
      "[1096, 1097, 1098, 1099]\n",
      "[1100, 1101, 1102, 1103]\n",
      "[1104, 1105, 1106, 1107]\n",
      "[1108, 1109, 1110, 1111]\n",
      "[1112, 1113, 1114, 1115]\n",
      "[1116, 1117, 1118, 1119]\n",
      "[1120, 1121, 1122, 1123]\n",
      "[1124, 1125, 1126, 1127]\n",
      "[1128, 1129, 1130, 1131]\n",
      "[1132, 1133, 1134, 1135]\n",
      "[1136, 1137, 1138, 1139]\n",
      "[1140, 1141, 1142, 1143]\n",
      "[1144, 1145, 1146, 1147]\n"
     ]
    }
   ],
   "source": [
    "X=[]\n",
    "y=[]\n",
    "for i in range(287):\n",
    "  y1=[]\n",
    "  y1.append(i*4+0)\n",
    "  y1.append(i*4+1)\n",
    "  y1.append(i*4+2)\n",
    "  y1.append(i*4+3)\n",
    "  print(y1)\n",
    "  for j in range(len(y1)-3):\n",
    "    x1=df.iloc[y1[j]]\n",
    "    # print(x1)\n",
    "    # print(x1.index)\n",
    "    # ind1=x1['ID']\n",
    "    # print(x1)\n",
    "    x2=df.iloc[y1[j+1]]\n",
    "    # ind2=y2['ID']\n",
    "    X.append(x1.values)\n",
    "    X.append(x2.values)\n",
    "    x3=df.iloc[y1[j+2]]\n",
    "    X.append(x3.values)\n",
    "    y2=df.iloc[y1[j+3]]\n",
    "    y.append(y2.values)\n",
    "\n",
    "\n"
   ]
  },
  {
   "cell_type": "code",
   "execution_count": null,
   "metadata": {
    "colab": {
     "base_uri": "https://localhost:8080/"
    },
    "id": "YvCYogwImMtW",
    "outputId": "486666a8-636b-4ae4-f6fe-7ad30361f907"
   },
   "outputs": [
    {
     "data": {
      "text/plain": [
       "861"
      ]
     },
     "execution_count": 80,
     "metadata": {},
     "output_type": "execute_result"
    }
   ],
   "source": [
    "len(X)"
   ]
  },
  {
   "cell_type": "code",
   "execution_count": null,
   "metadata": {
    "colab": {
     "base_uri": "https://localhost:8080/"
    },
    "id": "P_YTpY1rmNgD",
    "outputId": "b0f608f9-b22a-4271-8ebf-97982c10d945"
   },
   "outputs": [
    {
     "data": {
      "text/plain": [
       "287"
      ]
     },
     "execution_count": 81,
     "metadata": {},
     "output_type": "execute_result"
    }
   ],
   "source": [
    "len(y)"
   ]
  },
  {
   "cell_type": "code",
   "execution_count": null,
   "metadata": {
    "id": "WaPf03D3mRte"
   },
   "outputs": [],
   "source": [
    "X_train=[]\n",
    "X_test=[]\n",
    "y_train=[]\n",
    "y_test=[]"
   ]
  },
  {
   "cell_type": "code",
   "execution_count": null,
   "metadata": {
    "id": "M7cRWhaTnzV6"
   },
   "outputs": [],
   "source": [
    "count=0\n",
    "for i in X:\n",
    "  if(count<687):\n",
    "    X_train.append(i)\n",
    "  else:\n",
    "    X_test.append(i)\n",
    "  count+=1"
   ]
  },
  {
   "cell_type": "code",
   "execution_count": null,
   "metadata": {
    "id": "LgKKgIC0oR7w"
   },
   "outputs": [],
   "source": [
    "count=0\n",
    "for i in y:\n",
    "  if(count<229):\n",
    "    y_train.append(i)\n",
    "  else:\n",
    "    y_test.append(i)\n",
    "  count+=1"
   ]
  },
  {
   "cell_type": "code",
   "execution_count": null,
   "metadata": {
    "id": "DcFGTsDboafJ"
   },
   "outputs": [],
   "source": [
    "X_train=np.array(X_train)\n",
    "X_test=np.array(X_test)\n",
    "y_train=np.array(y_train)\n",
    "y_test=np.array(y_test)"
   ]
  },
  {
   "cell_type": "code",
   "execution_count": null,
   "metadata": {
    "colab": {
     "base_uri": "https://localhost:8080/"
    },
    "id": "fIXRWqVkoft0",
    "outputId": "5a5deff4-3f6c-4182-e516-26e08c1d9e95"
   },
   "outputs": [
    {
     "data": {
      "text/plain": [
       "(229, 36)"
      ]
     },
     "execution_count": 94,
     "metadata": {},
     "output_type": "execute_result"
    }
   ],
   "source": [
    "y_train.shape"
   ]
  },
  {
   "cell_type": "code",
   "execution_count": null,
   "metadata": {
    "colab": {
     "base_uri": "https://localhost:8080/"
    },
    "id": "vjJ_EGjko4vp",
    "outputId": "582e2d66-db43-4116-a7de-632ff1abd1ed"
   },
   "outputs": [
    {
     "data": {
      "text/plain": [
       "(687, 36)"
      ]
     },
     "execution_count": 88,
     "metadata": {},
     "output_type": "execute_result"
    }
   ],
   "source": [
    "X_train.shape"
   ]
  },
  {
   "cell_type": "code",
   "execution_count": null,
   "metadata": {
    "id": "v22h-Ypmo6gc"
   },
   "outputs": [],
   "source": [
    "X_train=X_train.reshape(229,3,36)"
   ]
  },
  {
   "cell_type": "code",
   "execution_count": null,
   "metadata": {
    "colab": {
     "base_uri": "https://localhost:8080/"
    },
    "id": "zGwCNHekpYm4",
    "outputId": "87d0a261-51d4-4738-a408-fb5d36466493"
   },
   "outputs": [
    {
     "data": {
      "text/plain": [
       "(58, 36)"
      ]
     },
     "execution_count": 96,
     "metadata": {},
     "output_type": "execute_result"
    }
   ],
   "source": [
    "y_test.shape"
   ]
  },
  {
   "cell_type": "code",
   "execution_count": null,
   "metadata": {
    "id": "JL4MKAjhpZ1j"
   },
   "outputs": [],
   "source": [
    "X_test=X_test.reshape(58,3,36)"
   ]
  },
  {
   "cell_type": "code",
   "execution_count": null,
   "metadata": {
    "id": "989NFV0Pp3Ld"
   },
   "outputs": [],
   "source": [
    "model_m3 = Sequential()\n",
    "model_m3.add(LSTM(50, activation='relu', return_sequences=True, input_shape=(3, 36)))\n",
    "model_m3.add(LSTM(50, activation='relu'))\n",
    "model_m3.add(Dense(36))\n",
    "model_m3.compile(optimizer='adam', loss='mse')"
   ]
  },
  {
   "cell_type": "code",
   "execution_count": null,
   "metadata": {
    "id": "NELEtIb2qJ-x"
   },
   "outputs": [],
   "source": [
    "model1_m3 = Sequential()\n",
    "model1_m3.add(LSTM(50, activation='relu', return_sequences=True, input_shape=(3, 36)))\n",
    "model1_m3.add(LSTM(50, activation='relu'))\n",
    "model1_m3.add(Dense(36))\n",
    "model1_m3.compile(optimizer='adam', loss='mse')"
   ]
  },
  {
   "cell_type": "code",
   "execution_count": null,
   "metadata": {
    "id": "vjWj9ytVqRIb"
   },
   "outputs": [],
   "source": [
    "model2_m3 = Sequential()\n",
    "model2_m3.add(LSTM(50, activation='relu', return_sequences=True, input_shape=(3, 36)))\n",
    "model2_m3.add(LSTM(50, activation='relu'))\n",
    "model2_m3.add(Dense(36))\n",
    "model2_m3.compile(optimizer='adam', loss='mse')"
   ]
  },
  {
   "cell_type": "code",
   "execution_count": null,
   "metadata": {
    "colab": {
     "base_uri": "https://localhost:8080/"
    },
    "id": "o3HljUKrrJJK",
    "outputId": "2736c694-132f-4350-cab5-2e6079cdd5f6"
   },
   "outputs": [
    {
     "name": "stdout",
     "output_type": "stream",
     "text": [
      "Epoch 1/30\n",
      "8/8 [==============================] - 5s 11ms/step - loss: 0.2166\n",
      "Epoch 2/30\n",
      "8/8 [==============================] - 0s 10ms/step - loss: 0.1964\n",
      "Epoch 3/30\n",
      "8/8 [==============================] - 0s 10ms/step - loss: 0.1649\n",
      "Epoch 4/30\n",
      "8/8 [==============================] - 0s 10ms/step - loss: 0.1277\n",
      "Epoch 5/30\n",
      "8/8 [==============================] - 0s 10ms/step - loss: 0.0984\n",
      "Epoch 6/30\n",
      "8/8 [==============================] - 0s 10ms/step - loss: 0.0787\n",
      "Epoch 7/30\n",
      "8/8 [==============================] - 0s 10ms/step - loss: 0.0667\n",
      "Epoch 8/30\n",
      "8/8 [==============================] - 0s 10ms/step - loss: 0.0578\n",
      "Epoch 9/30\n",
      "8/8 [==============================] - 0s 10ms/step - loss: 0.0527\n",
      "Epoch 10/30\n",
      "8/8 [==============================] - 0s 9ms/step - loss: 0.0494\n",
      "Epoch 11/30\n",
      "8/8 [==============================] - 0s 10ms/step - loss: 0.0471\n",
      "Epoch 12/30\n",
      "8/8 [==============================] - 0s 10ms/step - loss: 0.0455\n",
      "Epoch 13/30\n",
      "8/8 [==============================] - 0s 11ms/step - loss: 0.0443\n",
      "Epoch 14/30\n",
      "8/8 [==============================] - 0s 10ms/step - loss: 0.0428\n",
      "Epoch 15/30\n",
      "8/8 [==============================] - 0s 11ms/step - loss: 0.0418\n",
      "Epoch 16/30\n",
      "8/8 [==============================] - 0s 10ms/step - loss: 0.0407\n",
      "Epoch 17/30\n",
      "8/8 [==============================] - 0s 6ms/step - loss: 0.0398\n",
      "Epoch 18/30\n",
      "8/8 [==============================] - 0s 6ms/step - loss: 0.0389\n",
      "Epoch 19/30\n",
      "8/8 [==============================] - 0s 6ms/step - loss: 0.0380\n",
      "Epoch 20/30\n",
      "8/8 [==============================] - 0s 6ms/step - loss: 0.0372\n",
      "Epoch 21/30\n",
      "8/8 [==============================] - 0s 6ms/step - loss: 0.0365\n",
      "Epoch 22/30\n",
      "8/8 [==============================] - 0s 6ms/step - loss: 0.0362\n",
      "Epoch 23/30\n",
      "8/8 [==============================] - 0s 6ms/step - loss: 0.0355\n",
      "Epoch 24/30\n",
      "8/8 [==============================] - 0s 6ms/step - loss: 0.0348\n",
      "Epoch 25/30\n",
      "8/8 [==============================] - 0s 6ms/step - loss: 0.0341\n",
      "Epoch 26/30\n",
      "8/8 [==============================] - 0s 6ms/step - loss: 0.0335\n",
      "Epoch 27/30\n",
      "8/8 [==============================] - 0s 8ms/step - loss: 0.0330\n",
      "Epoch 28/30\n",
      "8/8 [==============================] - 0s 6ms/step - loss: 0.0327\n",
      "Epoch 29/30\n",
      "8/8 [==============================] - 0s 6ms/step - loss: 0.0322\n",
      "Epoch 30/30\n",
      "8/8 [==============================] - 0s 6ms/step - loss: 0.0318\n"
     ]
    },
    {
     "data": {
      "text/plain": [
       "<keras.src.callbacks.History at 0x7ba97af35840>"
      ]
     },
     "execution_count": 103,
     "metadata": {},
     "output_type": "execute_result"
    }
   ],
   "source": [
    "model2_m3.fit(X_train,y_train,epochs=30,verbose=1)"
   ]
  },
  {
   "cell_type": "code",
   "execution_count": null,
   "metadata": {
    "colab": {
     "base_uri": "https://localhost:8080/"
    },
    "id": "fSCsi5FOqOdc",
    "outputId": "2bd541ed-35c6-40ed-ce60-2fba2d28c985"
   },
   "outputs": [
    {
     "name": "stdout",
     "output_type": "stream",
     "text": [
      "Epoch 1/30\n",
      "8/8 [==============================] - 2s 5ms/step - loss: 0.2222\n",
      "Epoch 2/30\n",
      "8/8 [==============================] - 0s 5ms/step - loss: 0.2109\n",
      "Epoch 3/30\n",
      "8/8 [==============================] - 0s 5ms/step - loss: 0.1942\n",
      "Epoch 4/30\n",
      "8/8 [==============================] - 0s 6ms/step - loss: 0.1626\n",
      "Epoch 5/30\n",
      "8/8 [==============================] - 0s 5ms/step - loss: 0.1297\n",
      "Epoch 6/30\n",
      "8/8 [==============================] - 0s 7ms/step - loss: 0.0993\n",
      "Epoch 7/30\n",
      "8/8 [==============================] - 0s 6ms/step - loss: 0.0809\n",
      "Epoch 8/30\n",
      "8/8 [==============================] - 0s 6ms/step - loss: 0.0693\n",
      "Epoch 9/30\n",
      "8/8 [==============================] - 0s 6ms/step - loss: 0.0615\n",
      "Epoch 10/30\n",
      "8/8 [==============================] - 0s 5ms/step - loss: 0.0565\n",
      "Epoch 11/30\n",
      "8/8 [==============================] - 0s 5ms/step - loss: 0.0525\n",
      "Epoch 12/30\n",
      "8/8 [==============================] - 0s 6ms/step - loss: 0.0496\n",
      "Epoch 13/30\n",
      "8/8 [==============================] - 0s 5ms/step - loss: 0.0475\n",
      "Epoch 14/30\n",
      "8/8 [==============================] - 0s 6ms/step - loss: 0.0454\n",
      "Epoch 15/30\n",
      "8/8 [==============================] - 0s 5ms/step - loss: 0.0439\n",
      "Epoch 16/30\n",
      "8/8 [==============================] - 0s 5ms/step - loss: 0.0426\n",
      "Epoch 17/30\n",
      "8/8 [==============================] - 0s 6ms/step - loss: 0.0413\n",
      "Epoch 18/30\n",
      "8/8 [==============================] - 0s 5ms/step - loss: 0.0403\n",
      "Epoch 19/30\n",
      "8/8 [==============================] - 0s 6ms/step - loss: 0.0395\n",
      "Epoch 20/30\n",
      "8/8 [==============================] - 0s 5ms/step - loss: 0.0386\n",
      "Epoch 21/30\n",
      "8/8 [==============================] - 0s 6ms/step - loss: 0.0379\n",
      "Epoch 22/30\n",
      "8/8 [==============================] - 0s 6ms/step - loss: 0.0375\n",
      "Epoch 23/30\n",
      "8/8 [==============================] - 0s 6ms/step - loss: 0.0368\n",
      "Epoch 24/30\n",
      "8/8 [==============================] - 0s 6ms/step - loss: 0.0360\n",
      "Epoch 25/30\n",
      "8/8 [==============================] - 0s 6ms/step - loss: 0.0354\n",
      "Epoch 26/30\n",
      "8/8 [==============================] - 0s 7ms/step - loss: 0.0348\n",
      "Epoch 27/30\n",
      "8/8 [==============================] - 0s 6ms/step - loss: 0.0341\n",
      "Epoch 28/30\n",
      "8/8 [==============================] - 0s 6ms/step - loss: 0.0339\n",
      "Epoch 29/30\n",
      "8/8 [==============================] - 0s 6ms/step - loss: 0.0333\n",
      "Epoch 30/30\n",
      "8/8 [==============================] - 0s 5ms/step - loss: 0.0330\n"
     ]
    },
    {
     "data": {
      "text/plain": [
       "<keras.src.callbacks.History at 0x7ba970d1b0a0>"
      ]
     },
     "execution_count": 185,
     "metadata": {},
     "output_type": "execute_result"
    }
   ],
   "source": [
    "model1_m3.fit(X_train,y_train,epochs=30,verbose=1)"
   ]
  },
  {
   "cell_type": "code",
   "execution_count": null,
   "metadata": {
    "colab": {
     "base_uri": "https://localhost:8080/"
    },
    "id": "9i7zxP5ip6rF",
    "outputId": "11ba3ec2-1d9f-479a-e861-60d01307dc0e"
   },
   "outputs": [
    {
     "name": "stdout",
     "output_type": "stream",
     "text": [
      "Epoch 1/30\n",
      "8/8 [==============================] - 5s 9ms/step - loss: 0.2184\n",
      "Epoch 2/30\n",
      "8/8 [==============================] - 0s 12ms/step - loss: 0.2023\n",
      "Epoch 3/30\n",
      "8/8 [==============================] - 0s 10ms/step - loss: 0.1773\n",
      "Epoch 4/30\n",
      "8/8 [==============================] - 0s 9ms/step - loss: 0.1374\n",
      "Epoch 5/30\n",
      "8/8 [==============================] - 0s 9ms/step - loss: 0.1050\n",
      "Epoch 6/30\n",
      "8/8 [==============================] - 0s 10ms/step - loss: 0.0848\n",
      "Epoch 7/30\n",
      "8/8 [==============================] - 0s 10ms/step - loss: 0.0744\n",
      "Epoch 8/30\n",
      "8/8 [==============================] - 0s 9ms/step - loss: 0.0661\n",
      "Epoch 9/30\n",
      "8/8 [==============================] - 0s 9ms/step - loss: 0.0596\n",
      "Epoch 10/30\n",
      "8/8 [==============================] - 0s 9ms/step - loss: 0.0543\n",
      "Epoch 11/30\n",
      "8/8 [==============================] - 0s 10ms/step - loss: 0.0504\n",
      "Epoch 12/30\n",
      "8/8 [==============================] - 0s 10ms/step - loss: 0.0478\n",
      "Epoch 13/30\n",
      "8/8 [==============================] - 0s 10ms/step - loss: 0.0462\n",
      "Epoch 14/30\n",
      "8/8 [==============================] - 0s 11ms/step - loss: 0.0445\n",
      "Epoch 15/30\n",
      "8/8 [==============================] - 0s 10ms/step - loss: 0.0432\n",
      "Epoch 16/30\n",
      "8/8 [==============================] - 0s 9ms/step - loss: 0.0421\n",
      "Epoch 17/30\n",
      "8/8 [==============================] - 0s 10ms/step - loss: 0.0407\n",
      "Epoch 18/30\n",
      "8/8 [==============================] - 0s 10ms/step - loss: 0.0397\n",
      "Epoch 19/30\n",
      "8/8 [==============================] - 0s 9ms/step - loss: 0.0388\n",
      "Epoch 20/30\n",
      "8/8 [==============================] - 0s 9ms/step - loss: 0.0378\n",
      "Epoch 21/30\n",
      "8/8 [==============================] - 0s 10ms/step - loss: 0.0372\n",
      "Epoch 22/30\n",
      "8/8 [==============================] - 0s 11ms/step - loss: 0.0366\n",
      "Epoch 23/30\n",
      "8/8 [==============================] - 0s 9ms/step - loss: 0.0361\n",
      "Epoch 24/30\n",
      "8/8 [==============================] - 0s 10ms/step - loss: 0.0353\n",
      "Epoch 25/30\n",
      "8/8 [==============================] - 0s 9ms/step - loss: 0.0349\n",
      "Epoch 26/30\n",
      "8/8 [==============================] - 0s 11ms/step - loss: 0.0343\n",
      "Epoch 27/30\n",
      "8/8 [==============================] - 0s 10ms/step - loss: 0.0339\n",
      "Epoch 28/30\n",
      "8/8 [==============================] - 0s 11ms/step - loss: 0.0339\n",
      "Epoch 29/30\n",
      "8/8 [==============================] - 0s 10ms/step - loss: 0.0334\n",
      "Epoch 30/30\n",
      "8/8 [==============================] - 0s 10ms/step - loss: 0.0330\n"
     ]
    },
    {
     "data": {
      "text/plain": [
       "<keras.src.callbacks.History at 0x7ba97a0de8c0>"
      ]
     },
     "execution_count": 99,
     "metadata": {},
     "output_type": "execute_result"
    }
   ],
   "source": [
    "model_m3.fit(X_train,y_train,epochs=30,verbose=1)"
   ]
  },
  {
   "cell_type": "code",
   "execution_count": null,
   "metadata": {
    "colab": {
     "base_uri": "https://localhost:8080/"
    },
    "id": "rJWNoLbyp_Sw",
    "outputId": "97a945fc-d087-454f-92b1-79a636802f8b"
   },
   "outputs": [
    {
     "name": "stdout",
     "output_type": "stream",
     "text": [
      "2/2 [==============================] - 1s 11ms/step\n"
     ]
    }
   ],
   "source": [
    "y_pred=model_m3.predict(X_test)"
   ]
  },
  {
   "cell_type": "code",
   "execution_count": null,
   "metadata": {
    "colab": {
     "base_uri": "https://localhost:8080/"
    },
    "id": "rF1hzN7xrr2h",
    "outputId": "f0c296a9-e2bf-425c-f270-45e4e168ff6c"
   },
   "outputs": [
    {
     "data": {
      "text/plain": [
       "0.07363659994048355"
      ]
     },
     "execution_count": 105,
     "metadata": {},
     "output_type": "execute_result"
    }
   ],
   "source": [
    "mean_squared_error(y_test,y_pred)"
   ]
  },
  {
   "cell_type": "code",
   "execution_count": null,
   "metadata": {
    "colab": {
     "base_uri": "https://localhost:8080/"
    },
    "id": "5yaamxtzrxRT",
    "outputId": "fd7a8b2d-1418-4d9e-b777-c8cd54ccc3c4"
   },
   "outputs": [
    {
     "name": "stdout",
     "output_type": "stream",
     "text": [
      "2/2 [==============================] - 2s 8ms/step\n"
     ]
    }
   ],
   "source": [
    "y_pred1=model1_m3.predict(X_test)"
   ]
  },
  {
   "cell_type": "code",
   "execution_count": null,
   "metadata": {
    "colab": {
     "base_uri": "https://localhost:8080/"
    },
    "id": "GBvmg65sr8ja",
    "outputId": "b1e3b49a-8d21-4865-d5db-cb661320b003"
   },
   "outputs": [
    {
     "data": {
      "text/plain": [
       "0.07592516835935796"
      ]
     },
     "execution_count": 107,
     "metadata": {},
     "output_type": "execute_result"
    }
   ],
   "source": [
    "mean_squared_error(y_test,y_pred1)"
   ]
  },
  {
   "cell_type": "code",
   "execution_count": null,
   "metadata": {
    "colab": {
     "base_uri": "https://localhost:8080/"
    },
    "id": "9omcvA0Br_lA",
    "outputId": "5935ab23-7a08-4e4b-88a2-14a450db41e5"
   },
   "outputs": [
    {
     "name": "stderr",
     "output_type": "stream",
     "text": [
      "WARNING:tensorflow:5 out of the last 13 calls to <function Model.make_predict_function.<locals>.predict_function at 0x7ba97a2801f0> triggered tf.function retracing. Tracing is expensive and the excessive number of tracings could be due to (1) creating @tf.function repeatedly in a loop, (2) passing tensors with different shapes, (3) passing Python objects instead of tensors. For (1), please define your @tf.function outside of the loop. For (2), @tf.function has reduce_retracing=True option that can avoid unnecessary retracing. For (3), please refer to https://www.tensorflow.org/guide/function#controlling_retracing and https://www.tensorflow.org/api_docs/python/tf/function for  more details.\n"
     ]
    },
    {
     "name": "stdout",
     "output_type": "stream",
     "text": [
      "2/2 [==============================] - 1s 19ms/step\n"
     ]
    }
   ],
   "source": [
    "y_pred2=model2_m3.predict(X_test)"
   ]
  },
  {
   "cell_type": "code",
   "execution_count": null,
   "metadata": {
    "colab": {
     "base_uri": "https://localhost:8080/"
    },
    "id": "svMuZ2VVsHnd",
    "outputId": "c04b984f-dd3c-46c0-e154-acc07da6d18c"
   },
   "outputs": [
    {
     "data": {
      "text/plain": [
       "0.07642241074973027"
      ]
     },
     "execution_count": 109,
     "metadata": {},
     "output_type": "execute_result"
    }
   ],
   "source": [
    "mean_squared_error(y_test,y_pred2)"
   ]
  },
  {
   "cell_type": "code",
   "execution_count": null,
   "metadata": {
    "colab": {
     "base_uri": "https://localhost:8080/"
    },
    "id": "UR98KnggsWUn",
    "outputId": "4d7a068e-3722-4f13-8f3f-ad5d1a7aa383"
   },
   "outputs": [
    {
     "data": {
      "text/plain": [
       "['drive/MyDrive/Only_LSTM_Model_M3.pkl']"
      ]
     },
     "execution_count": 189,
     "metadata": {},
     "output_type": "execute_result"
    }
   ],
   "source": [
    "joblib.dump(model_m3,\"drive/MyDrive/Only_LSTM_Model_M3.pkl\")"
   ]
  },
  {
   "cell_type": "code",
   "execution_count": null,
   "metadata": {
    "colab": {
     "base_uri": "https://localhost:8080/"
    },
    "id": "jIW_aNDYs1CH",
    "outputId": "8064ecbf-e730-4c1e-a972-0bea7657b325"
   },
   "outputs": [
    {
     "data": {
      "text/plain": [
       "['drive/MyDrive/Only_LSTM_Model2_M3.pkl']"
      ]
     },
     "execution_count": 190,
     "metadata": {},
     "output_type": "execute_result"
    }
   ],
   "source": [
    "joblib.dump(model2_m3,\"drive/MyDrive/Only_LSTM_Model2_M3.pkl\")"
   ]
  },
  {
   "cell_type": "code",
   "execution_count": null,
   "metadata": {
    "colab": {
     "base_uri": "https://localhost:8080/"
    },
    "id": "cDPt7yfbs-vA",
    "outputId": "e5d03844-72c4-4b40-afd4-daab3db3c860"
   },
   "outputs": [
    {
     "data": {
      "text/plain": [
       "['drive/MyDrive/Only_LSTM_Model1_M3.pkl']"
      ]
     },
     "execution_count": 191,
     "metadata": {},
     "output_type": "execute_result"
    }
   ],
   "source": [
    "joblib.dump(model1_m3,\"drive/MyDrive/Only_LSTM_Model1_M3.pkl\")"
   ]
  },
  {
   "cell_type": "markdown",
   "metadata": {
    "id": "WFefgRMoyItC"
   },
   "source": [
    "## M1->M1->M1 ONLY LSTM"
   ]
  },
  {
   "cell_type": "code",
   "execution_count": null,
   "metadata": {
    "id": "pzjxMOtytCtu"
   },
   "outputs": [],
   "source": [
    "test1=[]\n",
    "test2=[]\n",
    "test3=[]\n",
    "test4=[]\n",
    "for i in range(229,287):\n",
    "  y=[]\n",
    "  y.append(i*4+0)\n",
    "  y.append(i*4+1)\n",
    "  y.append(i*4+2)\n",
    "  y.append(i*4+3)\n",
    "  count=0\n",
    "  for j in y:\n",
    "    x1=df.iloc[j]\n",
    "    # print(x1)\n",
    "    # print(x1.index)\n",
    "    ind1=x1.values\n",
    "    if(count==0):\n",
    "      test1.append(ind1)\n",
    "    elif(count==1):\n",
    "      test2.append(ind1)\n",
    "    elif(count==2):\n",
    "      test3.append(ind1)\n",
    "    else:\n",
    "      test4.append(ind1)\n",
    "    count+=1\n"
   ]
  },
  {
   "cell_type": "code",
   "execution_count": null,
   "metadata": {
    "colab": {
     "base_uri": "https://localhost:8080/"
    },
    "id": "FP-5hvWOtCrK",
    "outputId": "51f6104d-3585-4a56-e99c-b87b8a2e0d75"
   },
   "outputs": [
    {
     "data": {
      "text/plain": [
       "58"
      ]
     },
     "execution_count": 114,
     "metadata": {},
     "output_type": "execute_result"
    }
   ],
   "source": [
    "len(test1)"
   ]
  },
  {
   "cell_type": "code",
   "execution_count": null,
   "metadata": {
    "id": "1RPGbSBbtClU"
   },
   "outputs": [],
   "source": [
    "test1=np.array(test1)\n",
    "test2=np.array(test2)\n",
    "test3=np.array(test3)\n",
    "test4=np.array(test4)"
   ]
  },
  {
   "cell_type": "code",
   "execution_count": null,
   "metadata": {
    "colab": {
     "base_uri": "https://localhost:8080/"
    },
    "id": "JAAXbPpNzXnW",
    "outputId": "b1daa568-2896-4aa9-8d98-8a88b7fe4c04"
   },
   "outputs": [
    {
     "data": {
      "text/plain": [
       "(58, 36)"
      ]
     },
     "execution_count": 117,
     "metadata": {},
     "output_type": "execute_result"
    }
   ],
   "source": [
    "test1.shape"
   ]
  },
  {
   "cell_type": "code",
   "execution_count": null,
   "metadata": {
    "id": "t-TdwK7izKZQ"
   },
   "outputs": [],
   "source": [
    "test1=test1.reshape(58,1,36)"
   ]
  },
  {
   "cell_type": "code",
   "execution_count": null,
   "metadata": {
    "id": "IRlJSrgczhvZ"
   },
   "outputs": [],
   "source": [
    "model_m1=joblib.load(\"drive/MyDrive/S_Only_LSTM_Model_M1.pkl\")"
   ]
  },
  {
   "cell_type": "code",
   "execution_count": null,
   "metadata": {
    "id": "ymhOFctU6qXq"
   },
   "outputs": [],
   "source": [
    "model1_m1=joblib.load(\"drive/MyDrive/S_Only_LSTM_Model1_M1.pkl\")"
   ]
  },
  {
   "cell_type": "code",
   "execution_count": null,
   "metadata": {
    "id": "HLZUFAzu2vsV"
   },
   "outputs": [],
   "source": [
    "import joblib"
   ]
  },
  {
   "cell_type": "code",
   "execution_count": null,
   "metadata": {
    "id": "OMNsHf_f2soj"
   },
   "outputs": [],
   "source": [
    "model2_m1=joblib.load(\"drive/MyDrive/S_Only_LSTM_Model2_M1.pkl\")"
   ]
  },
  {
   "cell_type": "code",
   "execution_count": null,
   "metadata": {
    "colab": {
     "base_uri": "https://localhost:8080/"
    },
    "id": "l69Y2NO1zpr3",
    "outputId": "6b465c98-55fe-491b-9b45-e6373ebc933e"
   },
   "outputs": [
    {
     "name": "stdout",
     "output_type": "stream",
     "text": [
      "2/2 [==============================] - 1s 7ms/step\n"
     ]
    }
   ],
   "source": [
    "y_pred_t1=model_m1.predict(test1)"
   ]
  },
  {
   "cell_type": "code",
   "execution_count": null,
   "metadata": {
    "colab": {
     "base_uri": "https://localhost:8080/"
    },
    "id": "5e7z8Y-v6tpo",
    "outputId": "d5580519-e41e-49b9-8097-ef21a692cd3f"
   },
   "outputs": [
    {
     "name": "stdout",
     "output_type": "stream",
     "text": [
      "2/2 [==============================] - 0s 6ms/step\n"
     ]
    }
   ],
   "source": [
    "y_pred_t1_1=model1_m1.predict(test1)"
   ]
  },
  {
   "cell_type": "code",
   "execution_count": null,
   "metadata": {
    "colab": {
     "base_uri": "https://localhost:8080/"
    },
    "id": "6Nw3Gyaa3GUJ",
    "outputId": "e230e370-6d75-459a-c600-23ae4fd3006a"
   },
   "outputs": [
    {
     "name": "stdout",
     "output_type": "stream",
     "text": [
      "2/2 [==============================] - 0s 7ms/step\n"
     ]
    }
   ],
   "source": [
    "y_pred_t1_2=model2_m1.predict(test1)"
   ]
  },
  {
   "cell_type": "code",
   "execution_count": null,
   "metadata": {
    "colab": {
     "base_uri": "https://localhost:8080/"
    },
    "id": "8W-EhM0X0MwB",
    "outputId": "5acb3d3d-b091-4254-f17f-511be30d651f"
   },
   "outputs": [
    {
     "data": {
      "text/plain": [
       "0.04192936393478981"
      ]
     },
     "execution_count": 121,
     "metadata": {},
     "output_type": "execute_result"
    }
   ],
   "source": [
    "mean_squared_error(test2,y_pred_t1)"
   ]
  },
  {
   "cell_type": "code",
   "execution_count": null,
   "metadata": {
    "colab": {
     "base_uri": "https://localhost:8080/"
    },
    "id": "zNA6qYLc8urX",
    "outputId": "02b18a20-a8e9-482b-e80c-72365e10ff9b"
   },
   "outputs": [
    {
     "data": {
      "text/plain": [
       "0.05968107395332646"
      ]
     },
     "execution_count": 18,
     "metadata": {},
     "output_type": "execute_result"
    }
   ],
   "source": [
    "mean_squared_error(test2,y_pred_t1)"
   ]
  },
  {
   "cell_type": "code",
   "execution_count": null,
   "metadata": {
    "colab": {
     "base_uri": "https://localhost:8080/"
    },
    "id": "Ircz5utv6wZF",
    "outputId": "5a615d5f-17b4-4323-96e0-47b222541047"
   },
   "outputs": [
    {
     "data": {
      "text/plain": [
       "0.0440458035118027"
      ]
     },
     "execution_count": 150,
     "metadata": {},
     "output_type": "execute_result"
    }
   ],
   "source": [
    "mean_squared_error(test2,y_pred_t1_1)"
   ]
  },
  {
   "cell_type": "code",
   "execution_count": null,
   "metadata": {
    "colab": {
     "base_uri": "https://localhost:8080/"
    },
    "id": "w-zbX0ZA8w2I",
    "outputId": "87bdbeec-8683-470f-fa08-db96b34f2a4c"
   },
   "outputs": [
    {
     "data": {
      "text/plain": [
       "0.058732992913605675"
      ]
     },
     "execution_count": 19,
     "metadata": {},
     "output_type": "execute_result"
    }
   ],
   "source": [
    "mean_squared_error(test2,y_pred_t1_1)"
   ]
  },
  {
   "cell_type": "code",
   "execution_count": null,
   "metadata": {
    "colab": {
     "base_uri": "https://localhost:8080/"
    },
    "id": "4gCS-xOo3KXg",
    "outputId": "78cfe19a-79e1-4a9b-d566-aed2397f30fa"
   },
   "outputs": [
    {
     "data": {
      "text/plain": [
       "0.042193097821479605"
      ]
     },
     "execution_count": 16,
     "metadata": {},
     "output_type": "execute_result"
    }
   ],
   "source": [
    "mean_squared_error(test2,y_pred_t1_2)"
   ]
  },
  {
   "cell_type": "code",
   "execution_count": null,
   "metadata": {
    "colab": {
     "base_uri": "https://localhost:8080/"
    },
    "id": "QOqyeH0Q8ysx",
    "outputId": "dc680893-3502-4161-a4b7-86ebc2fd2b67"
   },
   "outputs": [
    {
     "data": {
      "text/plain": [
       "0.061054738252829734"
      ]
     },
     "execution_count": 20,
     "metadata": {},
     "output_type": "execute_result"
    }
   ],
   "source": [
    "mean_squared_error(test2,y_pred_t1_2)"
   ]
  },
  {
   "cell_type": "code",
   "execution_count": null,
   "metadata": {
    "id": "-IeMFcoa3ciq"
   },
   "outputs": [],
   "source": [
    "y_pred_t1_2=y_pred_t1_2.reshape(58,1,36)"
   ]
  },
  {
   "cell_type": "code",
   "execution_count": null,
   "metadata": {
    "id": "ACHHo06K0UPq"
   },
   "outputs": [],
   "source": [
    "y_pred_t1=y_pred_t1.reshape(58,1,36)"
   ]
  },
  {
   "cell_type": "code",
   "execution_count": null,
   "metadata": {
    "id": "1FT1HENC6zrb"
   },
   "outputs": [],
   "source": [
    "y_pred_t1_1=y_pred_t1_1.reshape(58,1,36)"
   ]
  },
  {
   "cell_type": "code",
   "execution_count": null,
   "metadata": {
    "colab": {
     "base_uri": "https://localhost:8080/"
    },
    "id": "CBVcNIMc3h0c",
    "outputId": "a3eefe50-7ba4-40ee-f443-609ee88f1318"
   },
   "outputs": [
    {
     "name": "stdout",
     "output_type": "stream",
     "text": [
      "2/2 [==============================] - 0s 8ms/step\n"
     ]
    }
   ],
   "source": [
    "y_pred_t2_2=model2_m1.predict(y_pred_t1_2)"
   ]
  },
  {
   "cell_type": "code",
   "execution_count": null,
   "metadata": {
    "colab": {
     "base_uri": "https://localhost:8080/"
    },
    "id": "t4i2Oyq70krg",
    "outputId": "0975823c-ecb2-475b-e93a-a590e63c9ce2"
   },
   "outputs": [
    {
     "name": "stdout",
     "output_type": "stream",
     "text": [
      "2/2 [==============================] - 0s 6ms/step\n"
     ]
    }
   ],
   "source": [
    "y_pred_t2=model_m1.predict(y_pred_t1)"
   ]
  },
  {
   "cell_type": "code",
   "execution_count": null,
   "metadata": {
    "colab": {
     "base_uri": "https://localhost:8080/"
    },
    "id": "_DdsZ2li6_y8",
    "outputId": "1582aa1c-88ae-4442-8802-beb17d86f218"
   },
   "outputs": [
    {
     "name": "stdout",
     "output_type": "stream",
     "text": [
      "2/2 [==============================] - 0s 11ms/step\n"
     ]
    }
   ],
   "source": [
    "y_pred_t2_1=model1_m1.predict(y_pred_t1_1)"
   ]
  },
  {
   "cell_type": "code",
   "execution_count": null,
   "metadata": {
    "colab": {
     "base_uri": "https://localhost:8080/"
    },
    "id": "efzVERg90pyl",
    "outputId": "2ffe7455-1f1a-4503-fe86-1508a1ebff27"
   },
   "outputs": [
    {
     "data": {
      "text/plain": [
       "0.06525736299029973"
      ]
     },
     "execution_count": 124,
     "metadata": {},
     "output_type": "execute_result"
    }
   ],
   "source": [
    "mean_squared_error(test3,y_pred_t2)"
   ]
  },
  {
   "cell_type": "code",
   "execution_count": null,
   "metadata": {
    "colab": {
     "base_uri": "https://localhost:8080/"
    },
    "id": "BfR2LHhe89dC",
    "outputId": "0a8023af-c304-43c9-c3fe-b077fce90d34"
   },
   "outputs": [
    {
     "data": {
      "text/plain": [
       "0.07979790019450203"
      ]
     },
     "execution_count": 27,
     "metadata": {},
     "output_type": "execute_result"
    }
   ],
   "source": [
    "mean_squared_error(test3,y_pred_t2)"
   ]
  },
  {
   "cell_type": "code",
   "execution_count": null,
   "metadata": {
    "colab": {
     "base_uri": "https://localhost:8080/"
    },
    "id": "mM6dzlGK7FF0",
    "outputId": "59b9d5c6-be7e-4cf3-b163-0682626e4b2f"
   },
   "outputs": [
    {
     "data": {
      "text/plain": [
       "0.06773412264124405"
      ]
     },
     "execution_count": 153,
     "metadata": {},
     "output_type": "execute_result"
    }
   ],
   "source": [
    "mean_squared_error(test3,y_pred_t2_1)"
   ]
  },
  {
   "cell_type": "code",
   "execution_count": null,
   "metadata": {
    "colab": {
     "base_uri": "https://localhost:8080/"
    },
    "id": "QhuVA7d88_Wz",
    "outputId": "82100102-7894-4044-8088-ced1424bc32a"
   },
   "outputs": [
    {
     "data": {
      "text/plain": [
       "0.08006805313452381"
      ]
     },
     "execution_count": 28,
     "metadata": {},
     "output_type": "execute_result"
    }
   ],
   "source": [
    "mean_squared_error(test3,y_pred_t2_1)"
   ]
  },
  {
   "cell_type": "code",
   "execution_count": null,
   "metadata": {
    "colab": {
     "base_uri": "https://localhost:8080/"
    },
    "id": "J_Qu8fKU3oEx",
    "outputId": "33ccd3c4-c3b8-4142-9386-dc6a277be9de"
   },
   "outputs": [
    {
     "data": {
      "text/plain": [
       "0.06475741943412625"
      ]
     },
     "execution_count": 19,
     "metadata": {},
     "output_type": "execute_result"
    }
   ],
   "source": [
    "mean_squared_error(test3,y_pred_t2_2)"
   ]
  },
  {
   "cell_type": "code",
   "execution_count": null,
   "metadata": {
    "colab": {
     "base_uri": "https://localhost:8080/"
    },
    "id": "ERGD49yO9BVg",
    "outputId": "2b4c4bb2-55bc-4b48-9f5d-5ef9fda74739"
   },
   "outputs": [
    {
     "data": {
      "text/plain": [
       "0.08045654711317032"
      ]
     },
     "execution_count": 29,
     "metadata": {},
     "output_type": "execute_result"
    }
   ],
   "source": [
    "mean_squared_error(test3,y_pred_t2_2)"
   ]
  },
  {
   "cell_type": "code",
   "execution_count": null,
   "metadata": {
    "id": "7dtYe9CV0wtx"
   },
   "outputs": [],
   "source": [
    "y_pred_t2=y_pred_t2.reshape(58,1,36)"
   ]
  },
  {
   "cell_type": "code",
   "execution_count": null,
   "metadata": {
    "id": "KHd1aCuj3rgG"
   },
   "outputs": [],
   "source": [
    "y_pred_t2_2=y_pred_t2_2.reshape(58,1,36)"
   ]
  },
  {
   "cell_type": "code",
   "execution_count": null,
   "metadata": {
    "id": "zCoW1odP7IrK"
   },
   "outputs": [],
   "source": [
    "y_pred_t2_1=y_pred_t2_1.reshape(58,1,36)"
   ]
  },
  {
   "cell_type": "code",
   "execution_count": null,
   "metadata": {
    "colab": {
     "base_uri": "https://localhost:8080/"
    },
    "id": "YX1hEbZB39cM",
    "outputId": "87dc3f38-e078-404f-a9f5-3c4e16da0432"
   },
   "outputs": [
    {
     "name": "stdout",
     "output_type": "stream",
     "text": [
      "2/2 [==============================] - 0s 5ms/step\n"
     ]
    }
   ],
   "source": [
    "y_pred_t3_2=model2_m1.predict(y_pred_t2_2)"
   ]
  },
  {
   "cell_type": "code",
   "execution_count": null,
   "metadata": {
    "colab": {
     "base_uri": "https://localhost:8080/"
    },
    "id": "qg6_BF6S1rnO",
    "outputId": "0646709e-b6d1-4ad7-d03a-a5bc01f44ce6"
   },
   "outputs": [
    {
     "name": "stdout",
     "output_type": "stream",
     "text": [
      "2/2 [==============================] - 0s 9ms/step\n"
     ]
    }
   ],
   "source": [
    "y_pred_t3=model_m1.predict(y_pred_t2)"
   ]
  },
  {
   "cell_type": "code",
   "execution_count": null,
   "metadata": {
    "colab": {
     "base_uri": "https://localhost:8080/"
    },
    "id": "zydHhoh-7MNQ",
    "outputId": "b5e4b941-936b-4534-ce4a-240a3ed51fd2"
   },
   "outputs": [
    {
     "name": "stdout",
     "output_type": "stream",
     "text": [
      "2/2 [==============================] - 0s 5ms/step\n"
     ]
    }
   ],
   "source": [
    "y_pred_t3_1=model1_m1.predict(y_pred_t2_1)"
   ]
  },
  {
   "cell_type": "code",
   "execution_count": null,
   "metadata": {
    "colab": {
     "base_uri": "https://localhost:8080/"
    },
    "id": "Fwm_LiXe1wfX",
    "outputId": "c98b54f8-e618-4b98-b648-2d72fbed92ff"
   },
   "outputs": [
    {
     "data": {
      "text/plain": [
       "0.0874413764965169"
      ]
     },
     "execution_count": 127,
     "metadata": {},
     "output_type": "execute_result"
    }
   ],
   "source": [
    "mean_squared_error(test4,y_pred_t3)"
   ]
  },
  {
   "cell_type": "code",
   "execution_count": null,
   "metadata": {
    "colab": {
     "base_uri": "https://localhost:8080/"
    },
    "id": "lIP6CQV-9jNL",
    "outputId": "996ae4da-732c-413d-851e-423c60351736"
   },
   "outputs": [
    {
     "data": {
      "text/plain": [
       "0.10782155490788219"
      ]
     },
     "execution_count": 36,
     "metadata": {},
     "output_type": "execute_result"
    }
   ],
   "source": [
    "mean_squared_error(test4,y_pred_t3)"
   ]
  },
  {
   "cell_type": "code",
   "execution_count": null,
   "metadata": {
    "colab": {
     "base_uri": "https://localhost:8080/"
    },
    "id": "hIKhjxY57PqR",
    "outputId": "ab80b223-3e22-4899-d431-cc5e6165cd85"
   },
   "outputs": [
    {
     "data": {
      "text/plain": [
       "0.08822059742269045"
      ]
     },
     "execution_count": 156,
     "metadata": {},
     "output_type": "execute_result"
    }
   ],
   "source": [
    "mean_squared_error(test4,y_pred_t3_1)"
   ]
  },
  {
   "cell_type": "code",
   "execution_count": null,
   "metadata": {
    "colab": {
     "base_uri": "https://localhost:8080/"
    },
    "id": "f9UvE25J9lTR",
    "outputId": "591d2540-9efd-4845-81b5-9af6c85894ec"
   },
   "outputs": [
    {
     "data": {
      "text/plain": [
       "0.11083783084351978"
      ]
     },
     "execution_count": 37,
     "metadata": {},
     "output_type": "execute_result"
    }
   ],
   "source": [
    "mean_squared_error(test4,y_pred_t3_1)"
   ]
  },
  {
   "cell_type": "code",
   "execution_count": null,
   "metadata": {
    "colab": {
     "base_uri": "https://localhost:8080/"
    },
    "id": "qa8ik3gT4DRQ",
    "outputId": "efe0a7b1-f6ef-4a32-eb62-893c3b07edd8"
   },
   "outputs": [
    {
     "data": {
      "text/plain": [
       "0.08623092871034613"
      ]
     },
     "execution_count": 22,
     "metadata": {},
     "output_type": "execute_result"
    }
   ],
   "source": [
    "mean_squared_error(test4,y_pred_t3_2)"
   ]
  },
  {
   "cell_type": "code",
   "execution_count": null,
   "metadata": {
    "colab": {
     "base_uri": "https://localhost:8080/"
    },
    "id": "oRwvePEA9nBa",
    "outputId": "35aa17d3-420c-47a3-a06f-3b49872e1a57"
   },
   "outputs": [
    {
     "data": {
      "text/plain": [
       "0.10735356566626617"
      ]
     },
     "execution_count": 38,
     "metadata": {},
     "output_type": "execute_result"
    }
   ],
   "source": [
    "mean_squared_error(test4,y_pred_t3_2)"
   ]
  },
  {
   "cell_type": "markdown",
   "metadata": {
    "id": "IkqCYzlr2CUV"
   },
   "source": [
    "## M1->M2->M2"
   ]
  },
  {
   "cell_type": "code",
   "execution_count": null,
   "metadata": {
    "id": "fHqfTNKX10Xx"
   },
   "outputs": [],
   "source": [
    "model_m2=joblib.load(\"drive/MyDrive/S_Only_LSTM_Model_M2.pkl\")"
   ]
  },
  {
   "cell_type": "code",
   "execution_count": null,
   "metadata": {
    "id": "J0MA-TjX74H0"
   },
   "outputs": [],
   "source": [
    "model1_m2=joblib.load(\"drive/MyDrive/S_Only_LSTM_Model1_M2.pkl\")"
   ]
  },
  {
   "cell_type": "code",
   "execution_count": null,
   "metadata": {
    "id": "8LTJ3wfR48r2"
   },
   "outputs": [],
   "source": [
    "model2_m2=joblib.load(\"drive/MyDrive/S_Only_LSTM_Model2_M2.pkl\")"
   ]
  },
  {
   "cell_type": "code",
   "execution_count": null,
   "metadata": {
    "id": "ggwCeoTb2OKt"
   },
   "outputs": [],
   "source": [
    "dat_12=[]\n",
    "for i in range(58):\n",
    "  dat_12.append(test1[i])\n",
    "  dat_12.append(y_pred_t1[i])\n"
   ]
  },
  {
   "cell_type": "code",
   "execution_count": null,
   "metadata": {
    "id": "uY4kJKaa77Ut"
   },
   "outputs": [],
   "source": [
    "dat_12_1=[]\n",
    "for i in range(58):\n",
    "  dat_12_1.append(test1[i])\n",
    "  dat_12_1.append(y_pred_t1_1[i])\n"
   ]
  },
  {
   "cell_type": "code",
   "execution_count": null,
   "metadata": {
    "id": "7tfKfygQ5B9o"
   },
   "outputs": [],
   "source": [
    "dat_12_2=[]\n",
    "for i in range(58):\n",
    "  dat_12_2.append(test1[i])\n",
    "  dat_12_2.append(y_pred_t1_2[i])\n"
   ]
  },
  {
   "cell_type": "code",
   "execution_count": null,
   "metadata": {
    "id": "Lj3Ar-ZS2qQe"
   },
   "outputs": [],
   "source": [
    "dat_12=np.array(dat_12)"
   ]
  },
  {
   "cell_type": "code",
   "execution_count": null,
   "metadata": {
    "id": "EbQMProf8BdV"
   },
   "outputs": [],
   "source": [
    "dat_12_1=np.array(dat_12_1)"
   ]
  },
  {
   "cell_type": "code",
   "execution_count": null,
   "metadata": {
    "id": "tMAjHXWb5JLX"
   },
   "outputs": [],
   "source": [
    "dat_12_2=np.array(dat_12_2)"
   ]
  },
  {
   "cell_type": "markdown",
   "metadata": {
    "id": "I5tm3aY75I4T"
   },
   "source": []
  },
  {
   "cell_type": "code",
   "execution_count": null,
   "metadata": {
    "id": "yya0UIOf2trX"
   },
   "outputs": [],
   "source": [
    "dat_12=dat_12.reshape(58,2,36)"
   ]
  },
  {
   "cell_type": "code",
   "execution_count": null,
   "metadata": {
    "id": "9lLpzs9H8EMF"
   },
   "outputs": [],
   "source": [
    "dat_12_1=dat_12_1.reshape(58,2,36)"
   ]
  },
  {
   "cell_type": "code",
   "execution_count": null,
   "metadata": {
    "id": "lEv6jvXM5NXF"
   },
   "outputs": [],
   "source": [
    "dat_12_2=dat_12_2.reshape(58,2,36)"
   ]
  },
  {
   "cell_type": "code",
   "execution_count": null,
   "metadata": {
    "colab": {
     "base_uri": "https://localhost:8080/"
    },
    "id": "lrevRmUj2wYg",
    "outputId": "fa5d628e-44fe-43d5-cb89-4eb5e1a80257"
   },
   "outputs": [
    {
     "name": "stdout",
     "output_type": "stream",
     "text": [
      "2/2 [==============================] - 0s 7ms/step\n"
     ]
    }
   ],
   "source": [
    "y_pred_2_g01=model_m2.predict(dat_12)"
   ]
  },
  {
   "cell_type": "code",
   "execution_count": null,
   "metadata": {
    "colab": {
     "base_uri": "https://localhost:8080/"
    },
    "id": "Mnw4IGbR8H98",
    "outputId": "6213b076-1e26-40e1-e41d-4fa7dcaab7eb"
   },
   "outputs": [
    {
     "name": "stdout",
     "output_type": "stream",
     "text": [
      "2/2 [==============================] - 0s 6ms/step\n"
     ]
    }
   ],
   "source": [
    "y_pred_2_g01_1=model1_m2.predict(dat_12_1)"
   ]
  },
  {
   "cell_type": "code",
   "execution_count": null,
   "metadata": {
    "colab": {
     "base_uri": "https://localhost:8080/"
    },
    "id": "YjcAN6xj52_N",
    "outputId": "10356717-df3a-4bcc-f2fe-63a5c23e592b"
   },
   "outputs": [
    {
     "name": "stdout",
     "output_type": "stream",
     "text": [
      "2/2 [==============================] - 0s 7ms/step\n"
     ]
    }
   ],
   "source": [
    "y_pred_2_g01_2=model2_m2.predict(dat_12_2)"
   ]
  },
  {
   "cell_type": "code",
   "execution_count": null,
   "metadata": {
    "colab": {
     "base_uri": "https://localhost:8080/"
    },
    "id": "fvoA17gM3Dd-",
    "outputId": "c5d08334-93a0-4900-f984-40ea4e21946d"
   },
   "outputs": [
    {
     "data": {
      "text/plain": [
       "0.060947072184321986"
      ]
     },
     "execution_count": 135,
     "metadata": {},
     "output_type": "execute_result"
    }
   ],
   "source": [
    "mean_squared_error(test3,y_pred_2_g01)"
   ]
  },
  {
   "cell_type": "code",
   "execution_count": null,
   "metadata": {
    "colab": {
     "base_uri": "https://localhost:8080/"
    },
    "id": "3YbFnFo-Arou",
    "outputId": "cdff68b9-a00e-4d32-ee94-f7f347cea2c6"
   },
   "outputs": [
    {
     "data": {
      "text/plain": [
       "0.07261925626682798"
      ]
     },
     "execution_count": 54,
     "metadata": {},
     "output_type": "execute_result"
    }
   ],
   "source": [
    "mean_squared_error(test3,y_pred_2_g01)"
   ]
  },
  {
   "cell_type": "code",
   "execution_count": null,
   "metadata": {
    "colab": {
     "base_uri": "https://localhost:8080/"
    },
    "id": "bMCu-Cw18gOx",
    "outputId": "b7f86076-acb3-4466-9a2b-67908779011c"
   },
   "outputs": [
    {
     "data": {
      "text/plain": [
       "0.06091794964253913"
      ]
     },
     "execution_count": 197,
     "metadata": {},
     "output_type": "execute_result"
    }
   ],
   "source": [
    "mean_squared_error(test3,y_pred_2_g01_1)"
   ]
  },
  {
   "cell_type": "code",
   "execution_count": null,
   "metadata": {
    "colab": {
     "base_uri": "https://localhost:8080/"
    },
    "id": "WKAOzt60Atr9",
    "outputId": "21e25541-2f47-422f-f817-59805523b022"
   },
   "outputs": [
    {
     "data": {
      "text/plain": [
       "0.07296844969316169"
      ]
     },
     "execution_count": 55,
     "metadata": {},
     "output_type": "execute_result"
    }
   ],
   "source": [
    "mean_squared_error(test3,y_pred_2_g01_1)"
   ]
  },
  {
   "cell_type": "code",
   "execution_count": null,
   "metadata": {
    "colab": {
     "base_uri": "https://localhost:8080/"
    },
    "id": "W5oFq8Ur57ZE",
    "outputId": "8b092987-bd35-4f22-9044-b9eb183f7c97"
   },
   "outputs": [
    {
     "data": {
      "text/plain": [
       "0.06188768824405947"
      ]
     },
     "execution_count": 28,
     "metadata": {},
     "output_type": "execute_result"
    }
   ],
   "source": [
    "mean_squared_error(test3,y_pred_2_g01_2)"
   ]
  },
  {
   "cell_type": "code",
   "execution_count": null,
   "metadata": {
    "colab": {
     "base_uri": "https://localhost:8080/"
    },
    "id": "VFnGjQjkAwmO",
    "outputId": "1adb49a5-1cad-4b5f-fe33-c66dc1eaaa78"
   },
   "outputs": [
    {
     "data": {
      "text/plain": [
       "0.07312052851338474"
      ]
     },
     "execution_count": 56,
     "metadata": {},
     "output_type": "execute_result"
    }
   ],
   "source": [
    "mean_squared_error(test3,y_pred_2_g01_2)"
   ]
  },
  {
   "cell_type": "code",
   "execution_count": null,
   "metadata": {
    "id": "zgcMcc2K3JOO"
   },
   "outputs": [],
   "source": [
    "y_pred_2_g01=y_pred_2_g01.reshape(58,1,36)"
   ]
  },
  {
   "cell_type": "code",
   "execution_count": null,
   "metadata": {
    "id": "3a-AYaWK8jYM"
   },
   "outputs": [],
   "source": [
    "y_pred_2_g01_1=y_pred_2_g01_1.reshape(58,1,36)"
   ]
  },
  {
   "cell_type": "code",
   "execution_count": null,
   "metadata": {
    "id": "EweTIZZ56LO9"
   },
   "outputs": [],
   "source": [
    "y_pred_2_g01_2=y_pred_2_g01_2.reshape(58,1,36)"
   ]
  },
  {
   "cell_type": "code",
   "execution_count": null,
   "metadata": {
    "id": "_T9EX00p3qyy"
   },
   "outputs": [],
   "source": [
    "dat_23=[]\n",
    "\n",
    "for i in range(58):\n",
    "  dat_23.append(y_pred_t1[i])\n",
    "  dat_23.append(y_pred_2_g01[i])\n"
   ]
  },
  {
   "cell_type": "code",
   "execution_count": null,
   "metadata": {
    "id": "AKQgywkz8mPR"
   },
   "outputs": [],
   "source": [
    "dat_23_1=[]\n",
    "\n",
    "for i in range(58):\n",
    "  dat_23_1.append(y_pred_t1_1[i])\n",
    "  dat_23_1.append(y_pred_2_g01_1[i])\n"
   ]
  },
  {
   "cell_type": "code",
   "execution_count": null,
   "metadata": {
    "id": "HQIl78Lt6PDX"
   },
   "outputs": [],
   "source": [
    "dat_23_2=[]\n",
    "\n",
    "for i in range(58):\n",
    "  dat_23_2.append(y_pred_t1_2[i])\n",
    "  dat_23_2.append(y_pred_2_g01_2[i])\n"
   ]
  },
  {
   "cell_type": "code",
   "execution_count": null,
   "metadata": {
    "id": "DE9MaYUg4QDJ"
   },
   "outputs": [],
   "source": [
    "dat_23=np.array(dat_23)"
   ]
  },
  {
   "cell_type": "code",
   "execution_count": null,
   "metadata": {
    "id": "taLCjSix8sCQ"
   },
   "outputs": [],
   "source": [
    "dat_23_1=np.array(dat_23_1)"
   ]
  },
  {
   "cell_type": "code",
   "execution_count": null,
   "metadata": {
    "id": "OAwsakix6V-b"
   },
   "outputs": [],
   "source": [
    "dat_23_2=np.array(dat_23_2)"
   ]
  },
  {
   "cell_type": "code",
   "execution_count": null,
   "metadata": {
    "id": "hddr_58M4Vjv"
   },
   "outputs": [],
   "source": [
    "dat_23=dat_23.reshape(58,2,36)"
   ]
  },
  {
   "cell_type": "code",
   "execution_count": null,
   "metadata": {
    "id": "ldou1Mlb8wTn"
   },
   "outputs": [],
   "source": [
    "dat_23_1=dat_23_1.reshape(58,2,36)"
   ]
  },
  {
   "cell_type": "code",
   "execution_count": null,
   "metadata": {
    "id": "RCYsINKF6ZFo"
   },
   "outputs": [],
   "source": [
    "dat_23_2=dat_23_2.reshape(58,2,36)"
   ]
  },
  {
   "cell_type": "code",
   "execution_count": null,
   "metadata": {
    "colab": {
     "base_uri": "https://localhost:8080/"
    },
    "id": "hXysgS4K34BB",
    "outputId": "9762c10f-df16-4409-8d11-bfa04b095106"
   },
   "outputs": [
    {
     "name": "stdout",
     "output_type": "stream",
     "text": [
      "2/2 [==============================] - 0s 5ms/step\n"
     ]
    }
   ],
   "source": [
    "y_pred_3_g12=model_m2.predict(dat_23)"
   ]
  },
  {
   "cell_type": "code",
   "execution_count": null,
   "metadata": {
    "colab": {
     "base_uri": "https://localhost:8080/"
    },
    "id": "l_Yh2C1e860d",
    "outputId": "9c7c4bb5-09c2-43a2-8c04-c2877ca3fc58"
   },
   "outputs": [
    {
     "name": "stdout",
     "output_type": "stream",
     "text": [
      "2/2 [==============================] - 0s 6ms/step\n"
     ]
    }
   ],
   "source": [
    "y_pred_3_g12_1=model1_m2.predict(dat_23_1)"
   ]
  },
  {
   "cell_type": "code",
   "execution_count": null,
   "metadata": {
    "colab": {
     "base_uri": "https://localhost:8080/"
    },
    "id": "xQan7i1b6cyf",
    "outputId": "1d87733e-ceed-491c-ced8-54c686cbce84"
   },
   "outputs": [
    {
     "name": "stdout",
     "output_type": "stream",
     "text": [
      "2/2 [==============================] - 0s 6ms/step\n"
     ]
    }
   ],
   "source": [
    "y_pred_3_g12_2=model2_m2.predict(dat_23_2)"
   ]
  },
  {
   "cell_type": "code",
   "execution_count": null,
   "metadata": {
    "colab": {
     "base_uri": "https://localhost:8080/"
    },
    "id": "hDNOXlsG4Ygs",
    "outputId": "0f4202e3-ef07-4bfe-ed3b-2060cd1c2c5b"
   },
   "outputs": [
    {
     "data": {
      "text/plain": [
       "0.08239821941812277"
      ]
     },
     "execution_count": 141,
     "metadata": {},
     "output_type": "execute_result"
    }
   ],
   "source": [
    "mean_squared_error(test4,y_pred_3_g12)"
   ]
  },
  {
   "cell_type": "code",
   "execution_count": null,
   "metadata": {
    "colab": {
     "base_uri": "https://localhost:8080/"
    },
    "id": "Vzukj8meA3bq",
    "outputId": "9b21174f-3142-4c23-8aa7-0ead120ba03f"
   },
   "outputs": [
    {
     "data": {
      "text/plain": [
       "0.09079353607946808"
      ]
     },
     "execution_count": 72,
     "metadata": {},
     "output_type": "execute_result"
    }
   ],
   "source": [
    "mean_squared_error(test4,y_pred_3_g12)"
   ]
  },
  {
   "cell_type": "code",
   "execution_count": null,
   "metadata": {
    "colab": {
     "base_uri": "https://localhost:8080/"
    },
    "id": "j4NuOb3h8-lJ",
    "outputId": "21bed28f-da06-4242-c008-0e1ad0b31d5c"
   },
   "outputs": [
    {
     "data": {
      "text/plain": [
       "0.08078517885772944"
      ]
     },
     "execution_count": 203,
     "metadata": {},
     "output_type": "execute_result"
    }
   ],
   "source": [
    "mean_squared_error(test4,y_pred_3_g12_1)"
   ]
  },
  {
   "cell_type": "code",
   "execution_count": null,
   "metadata": {
    "colab": {
     "base_uri": "https://localhost:8080/"
    },
    "id": "iccUse96A59C",
    "outputId": "ea812d3b-f86a-4fc0-82a2-d19f0faa7b43"
   },
   "outputs": [
    {
     "data": {
      "text/plain": [
       "0.09114641114641137"
      ]
     },
     "execution_count": 73,
     "metadata": {},
     "output_type": "execute_result"
    }
   ],
   "source": [
    "mean_squared_error(test4,y_pred_3_g12_1)"
   ]
  },
  {
   "cell_type": "code",
   "execution_count": null,
   "metadata": {
    "colab": {
     "base_uri": "https://localhost:8080/"
    },
    "id": "4Drb_GIJ6iIm",
    "outputId": "00a480c5-361d-4478-8f76-065c1aa15262"
   },
   "outputs": [
    {
     "data": {
      "text/plain": [
       "0.08094580663308976"
      ]
     },
     "execution_count": 34,
     "metadata": {},
     "output_type": "execute_result"
    }
   ],
   "source": [
    "mean_squared_error(test4,y_pred_3_g12_2)"
   ]
  },
  {
   "cell_type": "code",
   "execution_count": null,
   "metadata": {
    "colab": {
     "base_uri": "https://localhost:8080/"
    },
    "id": "dMkJB2G9A8Cz",
    "outputId": "2bd806d4-6c92-4c56-8f5a-28da2f07a4da"
   },
   "outputs": [
    {
     "data": {
      "text/plain": [
       "0.09312588536523793"
      ]
     },
     "execution_count": 74,
     "metadata": {},
     "output_type": "execute_result"
    }
   ],
   "source": [
    "mean_squared_error(test4,y_pred_3_g12_2)"
   ]
  },
  {
   "cell_type": "markdown",
   "metadata": {
    "id": "u47Pqz9Z4sFQ"
   },
   "source": [
    "## M1->M2->M3"
   ]
  },
  {
   "cell_type": "code",
   "execution_count": null,
   "metadata": {
    "id": "ZuNix-jb4nMF"
   },
   "outputs": [],
   "source": [
    "dat_123=[]\n",
    "for i in range(58):\n",
    "  dat_123.append(test1[i])\n",
    "  dat_123.append(y_pred_t1[i])\n",
    "  dat_123.append(y_pred_2_g01[i])\n"
   ]
  },
  {
   "cell_type": "code",
   "execution_count": null,
   "metadata": {
    "id": "kuAm4CbI9T6V"
   },
   "outputs": [],
   "source": [
    "dat_123_1=[]\n",
    "for i in range(58):\n",
    "  dat_123_1.append(test1[i])\n",
    "  dat_123_1.append(y_pred_t1_1[i])\n",
    "  dat_123_1.append(y_pred_2_g01_1[i])\n"
   ]
  },
  {
   "cell_type": "code",
   "execution_count": null,
   "metadata": {
    "id": "g9rzd9d06zqV"
   },
   "outputs": [],
   "source": [
    "dat_123_2=[]\n",
    "for i in range(58):\n",
    "  dat_123_2.append(test1[i])\n",
    "  dat_123_2.append(y_pred_t1_2[i])\n",
    "  dat_123_2.append(y_pred_2_g01_2[i])\n"
   ]
  },
  {
   "cell_type": "code",
   "execution_count": null,
   "metadata": {
    "id": "hn0XRmgI4lup"
   },
   "outputs": [],
   "source": [
    "dat_123=np.array(dat_123)"
   ]
  },
  {
   "cell_type": "code",
   "execution_count": null,
   "metadata": {
    "id": "Hu-1EkIc9bKY"
   },
   "outputs": [],
   "source": [
    "dat_123_1=np.array(dat_123_1)"
   ]
  },
  {
   "cell_type": "code",
   "execution_count": null,
   "metadata": {
    "id": "UXW_UBAg65af"
   },
   "outputs": [],
   "source": [
    "dat_123_2=np.array(dat_123_2)"
   ]
  },
  {
   "cell_type": "code",
   "execution_count": null,
   "metadata": {
    "id": "45zUxxzG5vKK"
   },
   "outputs": [],
   "source": [
    "dat_123=dat_123.reshape(58,3,36)"
   ]
  },
  {
   "cell_type": "code",
   "execution_count": null,
   "metadata": {
    "id": "f8VEZuxL9eC3"
   },
   "outputs": [],
   "source": [
    "dat_123_1=dat_123_1.reshape(58,3,36)"
   ]
  },
  {
   "cell_type": "code",
   "execution_count": null,
   "metadata": {
    "id": "De-ov26a680z"
   },
   "outputs": [],
   "source": [
    "dat_123_2=dat_123_2.reshape(58,3,36)"
   ]
  },
  {
   "cell_type": "code",
   "execution_count": null,
   "metadata": {
    "id": "LGI4z3Ek51vG"
   },
   "outputs": [],
   "source": [
    "model_m3=joblib.load(\"drive/MyDrive/Only_LSTM_Model_M3.pkl\")"
   ]
  },
  {
   "cell_type": "code",
   "execution_count": null,
   "metadata": {
    "id": "ic3Co9G-9hT_"
   },
   "outputs": [],
   "source": [
    "model1_m3=joblib.load(\"drive/MyDrive/Only_LSTM_Model1_M3.pkl\")"
   ]
  },
  {
   "cell_type": "code",
   "execution_count": null,
   "metadata": {
    "id": "VWcFu_fx7QJc"
   },
   "outputs": [],
   "source": [
    "model2_m3=joblib.load(\"drive/MyDrive/Only_LSTM_Model2_M3.pkl\")"
   ]
  },
  {
   "cell_type": "code",
   "execution_count": null,
   "metadata": {
    "colab": {
     "base_uri": "https://localhost:8080/"
    },
    "id": "8Qz5e58w56xq",
    "outputId": "e5fa26ef-a354-4763-e218-0b27d887853c"
   },
   "outputs": [
    {
     "name": "stdout",
     "output_type": "stream",
     "text": [
      "2/2 [==============================] - 0s 7ms/step\n"
     ]
    }
   ],
   "source": [
    "y_pred_4_g123=model_m3.predict(dat_123)"
   ]
  },
  {
   "cell_type": "code",
   "execution_count": null,
   "metadata": {
    "colab": {
     "base_uri": "https://localhost:8080/"
    },
    "id": "keavh3eM9j3V",
    "outputId": "3d689027-0ab2-4543-df90-2f9e23fcf44f"
   },
   "outputs": [
    {
     "name": "stdout",
     "output_type": "stream",
     "text": [
      "2/2 [==============================] - 0s 7ms/step\n"
     ]
    }
   ],
   "source": [
    "y_pred_4_g123_1=model1_m3.predict(dat_123_1)"
   ]
  },
  {
   "cell_type": "code",
   "execution_count": null,
   "metadata": {
    "colab": {
     "base_uri": "https://localhost:8080/"
    },
    "id": "f_8gSUrx7UIb",
    "outputId": "0fcee52f-9c75-4857-c7fe-34afa0a5e1dc"
   },
   "outputs": [
    {
     "name": "stdout",
     "output_type": "stream",
     "text": [
      "2/2 [==============================] - 0s 6ms/step\n"
     ]
    }
   ],
   "source": [
    "y_pred_4_g123_2=model2_m3.predict(dat_123_2)"
   ]
  },
  {
   "cell_type": "code",
   "execution_count": null,
   "metadata": {
    "colab": {
     "base_uri": "https://localhost:8080/"
    },
    "id": "v_w2vd3Y5-3o",
    "outputId": "4cc2df38-3a0b-42f1-b902-521dafcc56a4"
   },
   "outputs": [
    {
     "data": {
      "text/plain": [
       "0.08235802619146979"
      ]
     },
     "execution_count": 147,
     "metadata": {},
     "output_type": "execute_result"
    }
   ],
   "source": [
    "mean_squared_error(test4,y_pred_4_g123)"
   ]
  },
  {
   "cell_type": "code",
   "execution_count": null,
   "metadata": {
    "colab": {
     "base_uri": "https://localhost:8080/"
    },
    "id": "FdD4H_vkB4fS",
    "outputId": "947807b1-d70b-498d-cbbb-a1830f14f259"
   },
   "outputs": [
    {
     "data": {
      "text/plain": [
       "0.0815201457077316"
      ]
     },
     "execution_count": 90,
     "metadata": {},
     "output_type": "execute_result"
    }
   ],
   "source": [
    "mean_squared_error(test4,y_pred_4_g123)"
   ]
  },
  {
   "cell_type": "code",
   "execution_count": null,
   "metadata": {
    "colab": {
     "base_uri": "https://localhost:8080/"
    },
    "id": "1QGQ7OEs6Cyr",
    "outputId": "0baf3cf7-c80b-46ab-e71d-6498637adaab"
   },
   "outputs": [
    {
     "data": {
      "text/plain": [
       "0.08147913555716219"
      ]
     },
     "execution_count": 209,
     "metadata": {},
     "output_type": "execute_result"
    }
   ],
   "source": [
    "mean_squared_error(test4,y_pred_4_g123_1)"
   ]
  },
  {
   "cell_type": "code",
   "execution_count": null,
   "metadata": {
    "colab": {
     "base_uri": "https://localhost:8080/"
    },
    "id": "o7sZDH10B6Oy",
    "outputId": "c30c81b0-b4a5-4f6d-b0e9-3fd295cd67e1"
   },
   "outputs": [
    {
     "data": {
      "text/plain": [
       "0.08232215949662282"
      ]
     },
     "execution_count": 91,
     "metadata": {},
     "output_type": "execute_result"
    }
   ],
   "source": [
    "mean_squared_error(test4,y_pred_4_g123_1)"
   ]
  },
  {
   "cell_type": "code",
   "execution_count": null,
   "metadata": {
    "colab": {
     "base_uri": "https://localhost:8080/"
    },
    "id": "1FEf5zCA_F4o",
    "outputId": "1a89b559-13c9-4780-add0-5f11aadbac68"
   },
   "outputs": [
    {
     "data": {
      "text/plain": [
       "0.08379123861401347"
      ]
     },
     "execution_count": 40,
     "metadata": {},
     "output_type": "execute_result"
    }
   ],
   "source": [
    "mean_squared_error(test4,y_pred_4_g123_2)"
   ]
  },
  {
   "cell_type": "code",
   "execution_count": null,
   "metadata": {
    "colab": {
     "base_uri": "https://localhost:8080/"
    },
    "id": "xBxkmVthB8QN",
    "outputId": "a08f9d9d-1d0d-4061-9f5d-1c6faa3a9429"
   },
   "outputs": [
    {
     "data": {
      "text/plain": [
       "0.0843757914218289"
      ]
     },
     "execution_count": 92,
     "metadata": {},
     "output_type": "execute_result"
    }
   ],
   "source": [
    "mean_squared_error(test4,y_pred_4_g123_2)"
   ]
  },
  {
   "cell_type": "code",
   "execution_count": null,
   "metadata": {
    "id": "m7DaSJjE7au9"
   },
   "outputs": [],
   "source": []
  }
 ],
 "metadata": {
  "colab": {
   "provenance": []
  },
  "kernelspec": {
   "display_name": "Python 3 (ipykernel)",
   "language": "python",
   "name": "python3"
  },
  "language_info": {
   "codemirror_mode": {
    "name": "ipython",
    "version": 3
   },
   "file_extension": ".py",
   "mimetype": "text/x-python",
   "name": "python",
   "nbconvert_exporter": "python",
   "pygments_lexer": "ipython3",
   "version": "3.8.11"
  }
 },
 "nbformat": 4,
 "nbformat_minor": 1
}
