{
 "cells": [
  {
   "cell_type": "code",
   "execution_count": 21,
   "id": "9f5b16a2",
   "metadata": {},
   "outputs": [],
   "source": [
    "import os\n",
    "import numpy as np\n",
    "from PIL import Image"
   ]
  },
  {
   "cell_type": "code",
   "execution_count": 22,
   "id": "54908226",
   "metadata": {},
   "outputs": [],
   "source": [
    "# !unzip Test_2_TIG_txt.zip"
   ]
  },
  {
   "cell_type": "code",
   "execution_count": 23,
   "id": "d1ec1173",
   "metadata": {},
   "outputs": [],
   "source": [
    "path=\"Test_2\"\n",
    "files=os.listdir(path)"
   ]
  },
  {
   "cell_type": "code",
   "execution_count": 24,
   "id": "078f1ecc",
   "metadata": {},
   "outputs": [],
   "source": [
    "def generate_size(no_features,no_pixels):\n",
    "  cols=no_features*no_pixels*2-no_pixels\n",
    "  cols=cols+1\n",
    "  break_point=((no_features-1)*no_pixels)+1\n",
    "  rows=break_point+1\n",
    "  return rows,cols,break_point\n",
    "\n",
    "def generate_array():\n",
    "  arr=[]\n",
    "  for i in range(rows):\n",
    "    col=[]\n",
    "    for j in range(cols):\n",
    "      col.append(-1)\n",
    "    arr.append(col)\n",
    "  return arr\n",
    "\n",
    "def generate_index(filename):\n",
    "  f=open(filename,\"r\")\n",
    "  line=f.readlines()\n",
    "  l1=line[0].split(\"\\t\")\n",
    "  index=[]\n",
    "  for ele in l1:\n",
    "    index.append(int(ele))\n",
    "  return index\n",
    "\n",
    "def generate_intensity(filename):\n",
    "  f1=open(\"Test_2/FTD_TIG_Temporal_txt/\"+filename,\"r\")\n",
    "  lines=f1.readlines()\n",
    "  intensity=[]\n",
    "  for line in lines:\n",
    "    line1=line.split(\"\\t\")\n",
    "    for ele in line1:\n",
    "      intensity.append(float(ele))\n",
    "  return intensity\n",
    "\n",
    "def create_grid(arr,feature,direction,pixels,no_features,breakpoint,pixel_values,feature_ordering):\n",
    "  if(direction==\"right\"):\n",
    "    start=pixels*(feature)\n",
    "    intensity=get_pixel(feature,pixel_values,feature_ordering)\n",
    "    for i in range(1,breakpoint+1):\n",
    "      start+=1\n",
    "      for j in range(pixels):\n",
    "        if(arr[i][j+start]!=-1):\n",
    "          arr[i][j+start]=0.5*arr[i][j+start]+0.5*intensity\n",
    "        else:\n",
    "          arr[i][j+start]=intensity\n",
    "    return arr\n",
    "  if(direction==\"down\"):\n",
    "    start=pixels*(feature)\n",
    "    intensity=get_pixel(feature,pixel_values,feature_ordering)\n",
    "    for i in range(breakpoint,0,-1):\n",
    "      start+=1\n",
    "      for j in range(pixels):\n",
    "        if(arr[i][j+start]!=-1):\n",
    "          arr[i][j+start]=0.5*arr[i][j+start]+0.5*intensity\n",
    "        else:\n",
    "          arr[i][j+start]=intensity\n",
    "    return arr\n",
    "\n",
    "def get_pixel(feature,pixel_values,feature_ordering):\n",
    "  index1=feature_ordering.index(feature)\n",
    "  return pixel_values[index1]\n",
    "\n",
    "def generate_grid(index,intensity,arr,no_features,no_of_pixels,break_point):\n",
    "  for feature in index:\n",
    "    arr=create_grid(arr,feature,\"right\",no_of_pixels,no_features,break_point,intensity,index)\n",
    "    arr=create_grid(arr,feature,\"down\",no_of_pixels,no_features,break_point,intensity,index)\n",
    "\n",
    "  for i in range(1,rows):\n",
    "    for j in range(1,cols):\n",
    "      if arr[i][j]==-1:\n",
    "        arr[i][j]=0\n",
    "  grid=[]\n",
    "  for i in range(1,rows):\n",
    "    col=[]\n",
    "    for j in range(1,cols):\n",
    "      col.append(arr[i][j])\n",
    "    grid.append(col)\n",
    "  return grid"
   ]
  },
  {
   "cell_type": "code",
   "execution_count": null,
   "id": "cdb0b06d",
   "metadata": {},
   "outputs": [],
   "source": [
    "os.mkdir(\"ftd_rep1_v2_txt\")\n",
    "os.mkdir(\"ftd_rep1_v2_img\")"
   ]
  },
  {
   "cell_type": "code",
   "execution_count": 27,
   "id": "c178ba43",
   "metadata": {},
   "outputs": [],
   "source": [
    "path=\"Test_2/FTD_TIG_Temporal_txt\"\n",
    "files=os.listdir(path)\n",
    "indexfilename=\"Test_2/_index.txt\"\n",
    "no_features= 36\n",
    "no_of_pixels=2\n",
    "rows,cols,break_point=generate_size(no_features,no_of_pixels)\n",
    "# arr=generate_array()\n",
    "index=generate_index(indexfilename)\n",
    "for each_file in files:\n",
    "  arr=generate_array()\n",
    "  filename=each_file\n",
    "  # l4.append(filename)\n",
    "  l6=each_file.split(\".\")\n",
    "  imagename=l6[0]+\".png\"\n",
    "  intensity=generate_intensity(filename)\n",
    "  grid=generate_grid(index,intensity,arr,no_features,no_of_pixels,break_point)\n",
    "  file_path=\"ftd_rep1_v2_txt/\"+filename\n",
    "  np.savetxt(file_path,grid, fmt=\"%f\", delimiter=\"\\t\")\n",
    "  image_path=\"ftd_rep1_v2_img/\"+imagename\n",
    "  grid_img=np.array(grid,dtype=np.uint8)\n",
    "  image = Image.fromarray(grid_img)\n",
    "  image.save(image_path)\n"
   ]
  },
  {
   "cell_type": "code",
   "execution_count": null,
   "id": "a35db30f",
   "metadata": {},
   "outputs": [],
   "source": []
  }
 ],
 "metadata": {
  "kernelspec": {
   "display_name": "Python 3 (ipykernel)",
   "language": "python",
   "name": "python3"
  },
  "language_info": {
   "codemirror_mode": {
    "name": "ipython",
    "version": 3
   },
   "file_extension": ".py",
   "mimetype": "text/x-python",
   "name": "python",
   "nbconvert_exporter": "python",
   "pygments_lexer": "ipython3",
   "version": "3.8.11"
  }
 },
 "nbformat": 4,
 "nbformat_minor": 5
}
